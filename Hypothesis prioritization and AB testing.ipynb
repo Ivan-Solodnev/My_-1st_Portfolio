{
 "cells": [
  {
   "cell_type": "markdown",
   "id": "023b182f",
   "metadata": {},
   "source": [
    "### Проект 7 \n",
    "# Приоретизация гипотез, А/В тестирование и анализ результатов."
   ]
  },
  {
   "cell_type": "markdown",
   "id": "98644c6b",
   "metadata": {},
   "source": [
    "### Описание проекта: \n",
    "\n",
    "Я — аналитик крупного интернет-магазина. Вместе с отделом маркетинга я подготовил список гипотез для увеличения выручки.\n",
    "1. Приоритизирем гипотезы, \n",
    "2. Запустим A/B-тест и проанализируем результаты."
   ]
  },
  {
   "cell_type": "markdown",
   "id": "ba9fb8d8",
   "metadata": {},
   "source": [
    "### Описание данных: \n",
    "\n",
    "#### Данные для первой части\n",
    "\n",
    "Файл /datasets/hypothesis.csv. \n",
    " - Hypothesis — краткое описание гипотезы;\n",
    " - Reach — охват пользователей по 10-балльной шкале;\n",
    " - Impact — влияние на пользователей по 10-балльной шкале;\n",
    " - Confidence — уверенность в гипотезе по 10-балльной шкале;\n",
    " - Efforts — затраты ресурсов на проверку гипотезы по 10-балльной шкале. Чем больше значение Efforts, тем дороже проверка гипотезы.\n",
    " \n",
    "#### Данные для второй части\n",
    "\n",
    "Файл /datasets/orders.csv. \n",
    " - transactionId — идентификатор заказа;\n",
    " - visitorId — идентификатор пользователя, совершившего заказ;\n",
    " - date — дата, когда был совершён заказ;\n",
    " - revenue — выручка заказа;\n",
    " - group — группа A/B-теста, в которую попал заказ.\n",
    " \n",
    "Файл /datasets/visitors.csv.\n",
    " - date — дата;\n",
    " - group — группа A/B-теста;\n",
    " - visitors — количество пользователей в указанную дату в указанной группе A/B-теста"
   ]
  },
  {
   "cell_type": "code",
   "execution_count": 300,
   "id": "d85bfadd",
   "metadata": {},
   "outputs": [],
   "source": [
    "# Загрузим нужные библиотеки: \n",
    "import pandas as pd\n",
    "import matplotlib.pyplot as plt\n",
    "import scipy.stats as stats\n",
    "import datetime as dt\n",
    "import numpy as np"
   ]
  },
  {
   "cell_type": "markdown",
   "id": "614ccb26",
   "metadata": {},
   "source": [
    "### Загрузим и проверим данные: "
   ]
  },
  {
   "cell_type": "code",
   "execution_count": 301,
   "id": "96a7f77d",
   "metadata": {},
   "outputs": [],
   "source": [
    "try:\n",
    "    hypothesis = pd.read_csv('hypothesis.csv')\n",
    "    orders = pd.read_csv('orders.csv')\n",
    "    visitors = pd.read_csv('visitors.csv')\n",
    "except:\n",
    "    hypothesis = pd.read_csv('/datasets/hypothesis.csv')\n",
    "    orders = pd.read_csv('/datasets/orders.csv')\n",
    "    visitors = pd.read_csv('/datasets/visitors.csv')"
   ]
  },
  {
   "cell_type": "code",
   "execution_count": 302,
   "id": "caabb8ef",
   "metadata": {},
   "outputs": [],
   "source": [
    "pd.set_option('display.max_colwidth', None)"
   ]
  },
  {
   "cell_type": "code",
   "execution_count": 303,
   "id": "97db76c9",
   "metadata": {},
   "outputs": [
    {
     "data": {
      "text/html": [
       "<div>\n",
       "<style scoped>\n",
       "    .dataframe tbody tr th:only-of-type {\n",
       "        vertical-align: middle;\n",
       "    }\n",
       "\n",
       "    .dataframe tbody tr th {\n",
       "        vertical-align: top;\n",
       "    }\n",
       "\n",
       "    .dataframe thead th {\n",
       "        text-align: right;\n",
       "    }\n",
       "</style>\n",
       "<table border=\"1\" class=\"dataframe\">\n",
       "  <thead>\n",
       "    <tr style=\"text-align: right;\">\n",
       "      <th></th>\n",
       "      <th>transactionId</th>\n",
       "      <th>visitorId</th>\n",
       "      <th>date</th>\n",
       "      <th>revenue</th>\n",
       "      <th>group</th>\n",
       "    </tr>\n",
       "  </thead>\n",
       "  <tbody>\n",
       "    <tr>\n",
       "      <th>0</th>\n",
       "      <td>3667963787</td>\n",
       "      <td>3312258926</td>\n",
       "      <td>2019-08-15</td>\n",
       "      <td>1650</td>\n",
       "      <td>B</td>\n",
       "    </tr>\n",
       "    <tr>\n",
       "      <th>1</th>\n",
       "      <td>2804400009</td>\n",
       "      <td>3642806036</td>\n",
       "      <td>2019-08-15</td>\n",
       "      <td>730</td>\n",
       "      <td>B</td>\n",
       "    </tr>\n",
       "    <tr>\n",
       "      <th>2</th>\n",
       "      <td>2961555356</td>\n",
       "      <td>4069496402</td>\n",
       "      <td>2019-08-15</td>\n",
       "      <td>400</td>\n",
       "      <td>A</td>\n",
       "    </tr>\n",
       "    <tr>\n",
       "      <th>3</th>\n",
       "      <td>3797467345</td>\n",
       "      <td>1196621759</td>\n",
       "      <td>2019-08-15</td>\n",
       "      <td>9759</td>\n",
       "      <td>B</td>\n",
       "    </tr>\n",
       "    <tr>\n",
       "      <th>4</th>\n",
       "      <td>2282983706</td>\n",
       "      <td>2322279887</td>\n",
       "      <td>2019-08-15</td>\n",
       "      <td>2308</td>\n",
       "      <td>B</td>\n",
       "    </tr>\n",
       "  </tbody>\n",
       "</table>\n",
       "</div>"
      ],
      "text/plain": [
       "   transactionId   visitorId        date  revenue group\n",
       "0     3667963787  3312258926  2019-08-15     1650     B\n",
       "1     2804400009  3642806036  2019-08-15      730     B\n",
       "2     2961555356  4069496402  2019-08-15      400     A\n",
       "3     3797467345  1196621759  2019-08-15     9759     B\n",
       "4     2282983706  2322279887  2019-08-15     2308     B"
      ]
     },
     "execution_count": 303,
     "metadata": {},
     "output_type": "execute_result"
    }
   ],
   "source": [
    "orders.head()"
   ]
  },
  {
   "cell_type": "code",
   "execution_count": 304,
   "id": "74f0067c",
   "metadata": {
    "scrolled": true
   },
   "outputs": [
    {
     "name": "stdout",
     "output_type": "stream",
     "text": [
      "<class 'pandas.core.frame.DataFrame'>\n",
      "RangeIndex: 1197 entries, 0 to 1196\n",
      "Data columns (total 5 columns):\n",
      " #   Column         Non-Null Count  Dtype \n",
      "---  ------         --------------  ----- \n",
      " 0   transactionId  1197 non-null   int64 \n",
      " 1   visitorId      1197 non-null   int64 \n",
      " 2   date           1197 non-null   object\n",
      " 3   revenue        1197 non-null   int64 \n",
      " 4   group          1197 non-null   object\n",
      "dtypes: int64(3), object(2)\n",
      "memory usage: 46.9+ KB\n"
     ]
    }
   ],
   "source": [
    "orders.info()"
   ]
  },
  {
   "cell_type": "code",
   "execution_count": 305,
   "id": "9ef4ffe8",
   "metadata": {},
   "outputs": [
    {
     "data": {
      "text/plain": [
       "transactionId    0\n",
       "visitorId        0\n",
       "date             0\n",
       "revenue          0\n",
       "group            0\n",
       "dtype: int64"
      ]
     },
     "execution_count": 305,
     "metadata": {},
     "output_type": "execute_result"
    }
   ],
   "source": [
    "orders.isna().sum()"
   ]
  },
  {
   "cell_type": "code",
   "execution_count": 306,
   "id": "cb586b26",
   "metadata": {
    "scrolled": true
   },
   "outputs": [
    {
     "data": {
      "text/plain": [
       "0"
      ]
     },
     "execution_count": 306,
     "metadata": {},
     "output_type": "execute_result"
    }
   ],
   "source": [
    "orders.duplicated().sum()"
   ]
  },
  {
   "cell_type": "code",
   "execution_count": 372,
   "id": "1eeff14c",
   "metadata": {
    "scrolled": false
   },
   "outputs": [
    {
     "data": {
      "text/html": [
       "<div>\n",
       "<style scoped>\n",
       "    .dataframe tbody tr th:only-of-type {\n",
       "        vertical-align: middle;\n",
       "    }\n",
       "\n",
       "    .dataframe tbody tr th {\n",
       "        vertical-align: top;\n",
       "    }\n",
       "\n",
       "    .dataframe thead th {\n",
       "        text-align: right;\n",
       "    }\n",
       "</style>\n",
       "<table border=\"1\" class=\"dataframe\">\n",
       "  <thead>\n",
       "    <tr style=\"text-align: right;\">\n",
       "      <th></th>\n",
       "      <th>date</th>\n",
       "      <th>group</th>\n",
       "      <th>visitors</th>\n",
       "    </tr>\n",
       "  </thead>\n",
       "  <tbody>\n",
       "    <tr>\n",
       "      <th>0</th>\n",
       "      <td>2019-08-01</td>\n",
       "      <td>A</td>\n",
       "      <td>719</td>\n",
       "    </tr>\n",
       "    <tr>\n",
       "      <th>1</th>\n",
       "      <td>2019-08-02</td>\n",
       "      <td>A</td>\n",
       "      <td>619</td>\n",
       "    </tr>\n",
       "    <tr>\n",
       "      <th>2</th>\n",
       "      <td>2019-08-03</td>\n",
       "      <td>A</td>\n",
       "      <td>507</td>\n",
       "    </tr>\n",
       "    <tr>\n",
       "      <th>3</th>\n",
       "      <td>2019-08-04</td>\n",
       "      <td>A</td>\n",
       "      <td>717</td>\n",
       "    </tr>\n",
       "    <tr>\n",
       "      <th>4</th>\n",
       "      <td>2019-08-05</td>\n",
       "      <td>A</td>\n",
       "      <td>756</td>\n",
       "    </tr>\n",
       "  </tbody>\n",
       "</table>\n",
       "</div>"
      ],
      "text/plain": [
       "         date group  visitors\n",
       "0  2019-08-01     A       719\n",
       "1  2019-08-02     A       619\n",
       "2  2019-08-03     A       507\n",
       "3  2019-08-04     A       717\n",
       "4  2019-08-05     A       756"
      ]
     },
     "execution_count": 372,
     "metadata": {},
     "output_type": "execute_result"
    }
   ],
   "source": [
    "visitors.head()"
   ]
  },
  {
   "cell_type": "code",
   "execution_count": 373,
   "id": "9688a466",
   "metadata": {},
   "outputs": [
    {
     "data": {
      "text/plain": [
       "array(['A', 'B'], dtype=object)"
      ]
     },
     "execution_count": 373,
     "metadata": {},
     "output_type": "execute_result"
    }
   ],
   "source": [
    "visitors['group'].unique()"
   ]
  },
  {
   "cell_type": "code",
   "execution_count": 308,
   "id": "82f7123d",
   "metadata": {
    "scrolled": true
   },
   "outputs": [
    {
     "name": "stdout",
     "output_type": "stream",
     "text": [
      "<class 'pandas.core.frame.DataFrame'>\n",
      "RangeIndex: 62 entries, 0 to 61\n",
      "Data columns (total 3 columns):\n",
      " #   Column    Non-Null Count  Dtype \n",
      "---  ------    --------------  ----- \n",
      " 0   date      62 non-null     object\n",
      " 1   group     62 non-null     object\n",
      " 2   visitors  62 non-null     int64 \n",
      "dtypes: int64(1), object(2)\n",
      "memory usage: 1.6+ KB\n"
     ]
    }
   ],
   "source": [
    "visitors.info()"
   ]
  },
  {
   "cell_type": "code",
   "execution_count": 309,
   "id": "290b0f8a",
   "metadata": {
    "scrolled": true
   },
   "outputs": [
    {
     "data": {
      "text/plain": [
       "date        0\n",
       "group       0\n",
       "visitors    0\n",
       "dtype: int64"
      ]
     },
     "execution_count": 309,
     "metadata": {},
     "output_type": "execute_result"
    }
   ],
   "source": [
    "visitors.isna().sum()"
   ]
  },
  {
   "cell_type": "code",
   "execution_count": 310,
   "id": "3f071f60",
   "metadata": {
    "scrolled": false
   },
   "outputs": [
    {
     "data": {
      "text/plain": [
       "0"
      ]
     },
     "execution_count": 310,
     "metadata": {},
     "output_type": "execute_result"
    }
   ],
   "source": [
    "visitors.duplicated().sum()"
   ]
  },
  {
   "cell_type": "code",
   "execution_count": 311,
   "id": "db7d3155",
   "metadata": {},
   "outputs": [
    {
     "data": {
      "text/plain": [
       "group    58\n",
       "dtype: int64"
      ]
     },
     "execution_count": 311,
     "metadata": {},
     "output_type": "execute_result"
    }
   ],
   "source": [
    "# Посчитаем сколько пользователей(если такие есть) попали в обе группы:\n",
    "duplicate_users_in_order = orders.groupby('visitorId').agg({'group' : 'nunique'}).query('group>1').count()\n",
    "duplicate_users_in_order"
   ]
  },
  {
   "cell_type": "code",
   "execution_count": 312,
   "id": "95fbefbc",
   "metadata": {},
   "outputs": [
    {
     "data": {
      "text/plain": [
       "1031"
      ]
     },
     "execution_count": 312,
     "metadata": {},
     "output_type": "execute_result"
    }
   ],
   "source": [
    "# Посчитаем кол-во уникальных пользователей в таблице orders:\n",
    "unique_users_in_irders = orders['visitorId'].nunique()\n",
    "unique_users_in_irders"
   ]
  },
  {
   "cell_type": "code",
   "execution_count": 313,
   "id": "39f63f95",
   "metadata": {},
   "outputs": [
    {
     "data": {
      "text/plain": [
       "group    5.6\n",
       "dtype: float64"
      ]
     },
     "execution_count": 313,
     "metadata": {},
     "output_type": "execute_result"
    }
   ],
   "source": [
    "# Посчитаем долю пользователей попавших в обе группы от общего числа уникальных пользователей:\n",
    "duplicate_users_share = duplicate_users_in_order / unique_users_in_irders *100\n",
    "duplicate_users_share.round(1)"
   ]
  },
  {
   "cell_type": "markdown",
   "id": "a1aed81b",
   "metadata": {},
   "source": [
    "**Вывод:** \n",
    "\n",
    "В ходе предварительной проверки данных выявлено что 5.6% пользователей попадают в обе группы.\n",
    "\n",
    "       - Исходя из того что их кол-во небольшое и при этом не влияет на общее кол-во в обеих группах, оставим их.\n",
    "       - Желательно уточнить у того кто собирал данные: \"Что пошло не так?\""
   ]
  },
  {
   "cell_type": "markdown",
   "id": "ba61dc20",
   "metadata": {},
   "source": [
    "## Часть 1. Приоритизация гипотез."
   ]
  },
  {
   "attachments": {},
   "cell_type": "markdown",
   "id": "31b469d6",
   "metadata": {},
   "source": [
    " #### Используем для приоретизации фреймворки ICE и RICE.\n",
    " \n",
    " Фреймворк ICE (от англ. impact, confidence, effort / ease «влияние, уверенность, усилия / простота») — один из самых популярных способов приоритизации задач.\n",
    " \n",
    "**ICE SCORE = IMPACT * CONFIDENCE / EFFORTS**\n",
    "\n",
    "Фреймворк RICE - разновидность ICE, дополнительно к нему имеет параметр Reach:\n",
    "\n",
    "**RICE SCORE = REACH * IMPACT * CONFIDENCE / EFFORTS**\n",
    "\n",
    "- Reach — скольких пользователей затронет изменение, которое вы хотите внести;\n",
    "- Impact — насколько сильно изменение повлияет на пользователей, их опыт и удовлетворение от продукта;\n",
    "- Confidence — насколько вы уверены, что это изменение повлияет на пользователей именно так; \n",
    "- Efforts — сколько стоит протестировать эту гипотезу."
   ]
  },
  {
   "cell_type": "markdown",
   "id": "efe4ebe7",
   "metadata": {},
   "source": [
    "#### Применим фреймворк ICE для приоритизации гипотез. Отсортируем их по убыванию приоритета."
   ]
  },
  {
   "cell_type": "code",
   "execution_count": 314,
   "id": "8a24c897",
   "metadata": {},
   "outputs": [],
   "source": [
    "hypothesis['ICE'] = hypothesis['Impact'] * hypothesis['Confidence'] / hypothesis['Efforts']"
   ]
  },
  {
   "cell_type": "code",
   "execution_count": 315,
   "id": "0c355311",
   "metadata": {},
   "outputs": [
    {
     "data": {
      "text/html": [
       "<div>\n",
       "<style scoped>\n",
       "    .dataframe tbody tr th:only-of-type {\n",
       "        vertical-align: middle;\n",
       "    }\n",
       "\n",
       "    .dataframe tbody tr th {\n",
       "        vertical-align: top;\n",
       "    }\n",
       "\n",
       "    .dataframe thead th {\n",
       "        text-align: right;\n",
       "    }\n",
       "</style>\n",
       "<table border=\"1\" class=\"dataframe\">\n",
       "  <thead>\n",
       "    <tr style=\"text-align: right;\">\n",
       "      <th></th>\n",
       "      <th>Hypothesis</th>\n",
       "      <th>ICE</th>\n",
       "    </tr>\n",
       "  </thead>\n",
       "  <tbody>\n",
       "    <tr>\n",
       "      <th>8</th>\n",
       "      <td>Запустить акцию, дающую скидку на товар в день рождения</td>\n",
       "      <td>16.200000</td>\n",
       "    </tr>\n",
       "    <tr>\n",
       "      <th>0</th>\n",
       "      <td>Добавить два новых канала привлечения трафика, что позволит привлекать на 30% больше пользователей</td>\n",
       "      <td>13.333333</td>\n",
       "    </tr>\n",
       "    <tr>\n",
       "      <th>7</th>\n",
       "      <td>Добавить форму подписки на все основные страницы, чтобы собрать базу клиентов для email-рассылок</td>\n",
       "      <td>11.200000</td>\n",
       "    </tr>\n",
       "    <tr>\n",
       "      <th>6</th>\n",
       "      <td>Показать на главной странице баннеры с актуальными акциями и распродажами, чтобы увеличить конверсию</td>\n",
       "      <td>8.000000</td>\n",
       "    </tr>\n",
       "    <tr>\n",
       "      <th>2</th>\n",
       "      <td>Добавить блоки рекомендаций товаров на сайт интернет магазина, чтобы повысить конверсию и средний чек заказа</td>\n",
       "      <td>7.000000</td>\n",
       "    </tr>\n",
       "    <tr>\n",
       "      <th>1</th>\n",
       "      <td>Запустить собственную службу доставки, что сократит срок доставки заказов</td>\n",
       "      <td>2.000000</td>\n",
       "    </tr>\n",
       "    <tr>\n",
       "      <th>5</th>\n",
       "      <td>Добавить страницу отзывов клиентов о магазине, что позволит увеличить количество заказов</td>\n",
       "      <td>1.333333</td>\n",
       "    </tr>\n",
       "    <tr>\n",
       "      <th>3</th>\n",
       "      <td>Изменить структура категорий, что увеличит конверсию, т.к. пользователи быстрее найдут нужный товар</td>\n",
       "      <td>1.125000</td>\n",
       "    </tr>\n",
       "    <tr>\n",
       "      <th>4</th>\n",
       "      <td>Изменить цвет фона главной страницы, чтобы увеличить вовлеченность пользователей</td>\n",
       "      <td>1.000000</td>\n",
       "    </tr>\n",
       "  </tbody>\n",
       "</table>\n",
       "</div>"
      ],
      "text/plain": [
       "                                                                                                     Hypothesis  \\\n",
       "8                                                       Запустить акцию, дающую скидку на товар в день рождения   \n",
       "0            Добавить два новых канала привлечения трафика, что позволит привлекать на 30% больше пользователей   \n",
       "7              Добавить форму подписки на все основные страницы, чтобы собрать базу клиентов для email-рассылок   \n",
       "6          Показать на главной странице баннеры с актуальными акциями и распродажами, чтобы увеличить конверсию   \n",
       "2  Добавить блоки рекомендаций товаров на сайт интернет магазина, чтобы повысить конверсию и средний чек заказа   \n",
       "1                                     Запустить собственную службу доставки, что сократит срок доставки заказов   \n",
       "5                      Добавить страницу отзывов клиентов о магазине, что позволит увеличить количество заказов   \n",
       "3           Изменить структура категорий, что увеличит конверсию, т.к. пользователи быстрее найдут нужный товар   \n",
       "4                              Изменить цвет фона главной страницы, чтобы увеличить вовлеченность пользователей   \n",
       "\n",
       "         ICE  \n",
       "8  16.200000  \n",
       "0  13.333333  \n",
       "7  11.200000  \n",
       "6   8.000000  \n",
       "2   7.000000  \n",
       "1   2.000000  \n",
       "5   1.333333  \n",
       "3   1.125000  \n",
       "4   1.000000  "
      ]
     },
     "metadata": {},
     "output_type": "display_data"
    }
   ],
   "source": [
    "display(hypothesis[['Hypothesis','ICE']].sort_values(by='ICE',ascending=False))"
   ]
  },
  {
   "cell_type": "markdown",
   "id": "c040f0f3",
   "metadata": {},
   "source": [
    "#### Применим фреймворк RICE для приоритизации гипотез. Отсортируем их по убыванию приоритета."
   ]
  },
  {
   "cell_type": "code",
   "execution_count": 316,
   "id": "f89a4126",
   "metadata": {
    "scrolled": true
   },
   "outputs": [],
   "source": [
    "hypothesis['RICE'] = hypothesis['Reach'] * hypothesis['Impact'] * hypothesis['Confidence'] / hypothesis['Efforts']"
   ]
  },
  {
   "cell_type": "code",
   "execution_count": 317,
   "id": "b0756e70",
   "metadata": {},
   "outputs": [
    {
     "data": {
      "text/html": [
       "<div>\n",
       "<style scoped>\n",
       "    .dataframe tbody tr th:only-of-type {\n",
       "        vertical-align: middle;\n",
       "    }\n",
       "\n",
       "    .dataframe tbody tr th {\n",
       "        vertical-align: top;\n",
       "    }\n",
       "\n",
       "    .dataframe thead th {\n",
       "        text-align: right;\n",
       "    }\n",
       "</style>\n",
       "<table border=\"1\" class=\"dataframe\">\n",
       "  <thead>\n",
       "    <tr style=\"text-align: right;\">\n",
       "      <th></th>\n",
       "      <th>Hypothesis</th>\n",
       "      <th>Reach</th>\n",
       "      <th>Impact</th>\n",
       "      <th>Confidence</th>\n",
       "      <th>Efforts</th>\n",
       "      <th>ICE</th>\n",
       "      <th>RICE</th>\n",
       "    </tr>\n",
       "  </thead>\n",
       "  <tbody>\n",
       "    <tr>\n",
       "      <th>7</th>\n",
       "      <td>Добавить форму подписки на все основные страницы, чтобы собрать базу клиентов для email-рассылок</td>\n",
       "      <td>10</td>\n",
       "      <td>7</td>\n",
       "      <td>8</td>\n",
       "      <td>5</td>\n",
       "      <td>11.200000</td>\n",
       "      <td>112.0</td>\n",
       "    </tr>\n",
       "    <tr>\n",
       "      <th>2</th>\n",
       "      <td>Добавить блоки рекомендаций товаров на сайт интернет магазина, чтобы повысить конверсию и средний чек заказа</td>\n",
       "      <td>8</td>\n",
       "      <td>3</td>\n",
       "      <td>7</td>\n",
       "      <td>3</td>\n",
       "      <td>7.000000</td>\n",
       "      <td>56.0</td>\n",
       "    </tr>\n",
       "    <tr>\n",
       "      <th>0</th>\n",
       "      <td>Добавить два новых канала привлечения трафика, что позволит привлекать на 30% больше пользователей</td>\n",
       "      <td>3</td>\n",
       "      <td>10</td>\n",
       "      <td>8</td>\n",
       "      <td>6</td>\n",
       "      <td>13.333333</td>\n",
       "      <td>40.0</td>\n",
       "    </tr>\n",
       "    <tr>\n",
       "      <th>6</th>\n",
       "      <td>Показать на главной странице баннеры с актуальными акциями и распродажами, чтобы увеличить конверсию</td>\n",
       "      <td>5</td>\n",
       "      <td>3</td>\n",
       "      <td>8</td>\n",
       "      <td>3</td>\n",
       "      <td>8.000000</td>\n",
       "      <td>40.0</td>\n",
       "    </tr>\n",
       "    <tr>\n",
       "      <th>8</th>\n",
       "      <td>Запустить акцию, дающую скидку на товар в день рождения</td>\n",
       "      <td>1</td>\n",
       "      <td>9</td>\n",
       "      <td>9</td>\n",
       "      <td>5</td>\n",
       "      <td>16.200000</td>\n",
       "      <td>16.2</td>\n",
       "    </tr>\n",
       "    <tr>\n",
       "      <th>3</th>\n",
       "      <td>Изменить структура категорий, что увеличит конверсию, т.к. пользователи быстрее найдут нужный товар</td>\n",
       "      <td>8</td>\n",
       "      <td>3</td>\n",
       "      <td>3</td>\n",
       "      <td>8</td>\n",
       "      <td>1.125000</td>\n",
       "      <td>9.0</td>\n",
       "    </tr>\n",
       "    <tr>\n",
       "      <th>1</th>\n",
       "      <td>Запустить собственную службу доставки, что сократит срок доставки заказов</td>\n",
       "      <td>2</td>\n",
       "      <td>5</td>\n",
       "      <td>4</td>\n",
       "      <td>10</td>\n",
       "      <td>2.000000</td>\n",
       "      <td>4.0</td>\n",
       "    </tr>\n",
       "    <tr>\n",
       "      <th>5</th>\n",
       "      <td>Добавить страницу отзывов клиентов о магазине, что позволит увеличить количество заказов</td>\n",
       "      <td>3</td>\n",
       "      <td>2</td>\n",
       "      <td>2</td>\n",
       "      <td>3</td>\n",
       "      <td>1.333333</td>\n",
       "      <td>4.0</td>\n",
       "    </tr>\n",
       "    <tr>\n",
       "      <th>4</th>\n",
       "      <td>Изменить цвет фона главной страницы, чтобы увеличить вовлеченность пользователей</td>\n",
       "      <td>3</td>\n",
       "      <td>1</td>\n",
       "      <td>1</td>\n",
       "      <td>1</td>\n",
       "      <td>1.000000</td>\n",
       "      <td>3.0</td>\n",
       "    </tr>\n",
       "  </tbody>\n",
       "</table>\n",
       "</div>"
      ],
      "text/plain": [
       "                                                                                                     Hypothesis  \\\n",
       "7              Добавить форму подписки на все основные страницы, чтобы собрать базу клиентов для email-рассылок   \n",
       "2  Добавить блоки рекомендаций товаров на сайт интернет магазина, чтобы повысить конверсию и средний чек заказа   \n",
       "0            Добавить два новых канала привлечения трафика, что позволит привлекать на 30% больше пользователей   \n",
       "6          Показать на главной странице баннеры с актуальными акциями и распродажами, чтобы увеличить конверсию   \n",
       "8                                                       Запустить акцию, дающую скидку на товар в день рождения   \n",
       "3           Изменить структура категорий, что увеличит конверсию, т.к. пользователи быстрее найдут нужный товар   \n",
       "1                                     Запустить собственную службу доставки, что сократит срок доставки заказов   \n",
       "5                      Добавить страницу отзывов клиентов о магазине, что позволит увеличить количество заказов   \n",
       "4                              Изменить цвет фона главной страницы, чтобы увеличить вовлеченность пользователей   \n",
       "\n",
       "   Reach  Impact  Confidence  Efforts        ICE   RICE  \n",
       "7     10       7           8        5  11.200000  112.0  \n",
       "2      8       3           7        3   7.000000   56.0  \n",
       "0      3      10           8        6  13.333333   40.0  \n",
       "6      5       3           8        3   8.000000   40.0  \n",
       "8      1       9           9        5  16.200000   16.2  \n",
       "3      8       3           3        8   1.125000    9.0  \n",
       "1      2       5           4       10   2.000000    4.0  \n",
       "5      3       2           2        3   1.333333    4.0  \n",
       "4      3       1           1        1   1.000000    3.0  "
      ]
     },
     "metadata": {},
     "output_type": "display_data"
    }
   ],
   "source": [
    "display(hypothesis.sort_values(by='RICE',ascending=False))"
   ]
  },
  {
   "cell_type": "markdown",
   "id": "feda6a85",
   "metadata": {},
   "source": [
    "#### Вывод:"
   ]
  },
  {
   "cell_type": "markdown",
   "id": "4c21e70c",
   "metadata": {},
   "source": [
    "При применении RICE гипотезы поменялись местами, по сравнению с ICE.\n",
    "- На 1 место(с 3его) встала гипотеза № 7 \n",
    "- На 2 место (с 5го) - гипотеза № 2\n",
    "- Гипотеза 0 потеряла 1у позицию но осталась в тройке лучших.\n",
    "\n",
    "Причины изменениня связаны с тем что при расчете RICE на первые места вышли гипотезы с высоким показателем Reach (который в ICE никак не учитывался)."
   ]
  },
  {
   "cell_type": "markdown",
   "id": "2728df5e",
   "metadata": {},
   "source": [
    "## Часть 2. Анализ A/B-теста"
   ]
  },
  {
   "cell_type": "markdown",
   "id": "20acf486",
   "metadata": {},
   "source": [
    "Результаты проведенного А/В теста описаны в файлах /datasets/orders.csv и /datasets/visitors.csv"
   ]
  },
  {
   "cell_type": "code",
   "execution_count": 318,
   "id": "e07e6b1b",
   "metadata": {
    "scrolled": false
   },
   "outputs": [
    {
     "data": {
      "text/html": [
       "<div>\n",
       "<style scoped>\n",
       "    .dataframe tbody tr th:only-of-type {\n",
       "        vertical-align: middle;\n",
       "    }\n",
       "\n",
       "    .dataframe tbody tr th {\n",
       "        vertical-align: top;\n",
       "    }\n",
       "\n",
       "    .dataframe thead th {\n",
       "        text-align: right;\n",
       "    }\n",
       "</style>\n",
       "<table border=\"1\" class=\"dataframe\">\n",
       "  <thead>\n",
       "    <tr style=\"text-align: right;\">\n",
       "      <th></th>\n",
       "      <th>transactionId</th>\n",
       "      <th>visitorId</th>\n",
       "      <th>date</th>\n",
       "      <th>revenue</th>\n",
       "      <th>group</th>\n",
       "    </tr>\n",
       "  </thead>\n",
       "  <tbody>\n",
       "    <tr>\n",
       "      <th>0</th>\n",
       "      <td>3667963787</td>\n",
       "      <td>3312258926</td>\n",
       "      <td>2019-08-15</td>\n",
       "      <td>1650</td>\n",
       "      <td>B</td>\n",
       "    </tr>\n",
       "    <tr>\n",
       "      <th>1</th>\n",
       "      <td>2804400009</td>\n",
       "      <td>3642806036</td>\n",
       "      <td>2019-08-15</td>\n",
       "      <td>730</td>\n",
       "      <td>B</td>\n",
       "    </tr>\n",
       "    <tr>\n",
       "      <th>2</th>\n",
       "      <td>2961555356</td>\n",
       "      <td>4069496402</td>\n",
       "      <td>2019-08-15</td>\n",
       "      <td>400</td>\n",
       "      <td>A</td>\n",
       "    </tr>\n",
       "    <tr>\n",
       "      <th>3</th>\n",
       "      <td>3797467345</td>\n",
       "      <td>1196621759</td>\n",
       "      <td>2019-08-15</td>\n",
       "      <td>9759</td>\n",
       "      <td>B</td>\n",
       "    </tr>\n",
       "    <tr>\n",
       "      <th>4</th>\n",
       "      <td>2282983706</td>\n",
       "      <td>2322279887</td>\n",
       "      <td>2019-08-15</td>\n",
       "      <td>2308</td>\n",
       "      <td>B</td>\n",
       "    </tr>\n",
       "  </tbody>\n",
       "</table>\n",
       "</div>"
      ],
      "text/plain": [
       "   transactionId   visitorId        date  revenue group\n",
       "0     3667963787  3312258926  2019-08-15     1650     B\n",
       "1     2804400009  3642806036  2019-08-15      730     B\n",
       "2     2961555356  4069496402  2019-08-15      400     A\n",
       "3     3797467345  1196621759  2019-08-15     9759     B\n",
       "4     2282983706  2322279887  2019-08-15     2308     B"
      ]
     },
     "metadata": {},
     "output_type": "display_data"
    },
    {
     "data": {
      "text/html": [
       "<div>\n",
       "<style scoped>\n",
       "    .dataframe tbody tr th:only-of-type {\n",
       "        vertical-align: middle;\n",
       "    }\n",
       "\n",
       "    .dataframe tbody tr th {\n",
       "        vertical-align: top;\n",
       "    }\n",
       "\n",
       "    .dataframe thead th {\n",
       "        text-align: right;\n",
       "    }\n",
       "</style>\n",
       "<table border=\"1\" class=\"dataframe\">\n",
       "  <thead>\n",
       "    <tr style=\"text-align: right;\">\n",
       "      <th></th>\n",
       "      <th>date</th>\n",
       "      <th>group</th>\n",
       "      <th>visitors</th>\n",
       "    </tr>\n",
       "  </thead>\n",
       "  <tbody>\n",
       "    <tr>\n",
       "      <th>0</th>\n",
       "      <td>2019-08-01</td>\n",
       "      <td>A</td>\n",
       "      <td>719</td>\n",
       "    </tr>\n",
       "    <tr>\n",
       "      <th>1</th>\n",
       "      <td>2019-08-02</td>\n",
       "      <td>A</td>\n",
       "      <td>619</td>\n",
       "    </tr>\n",
       "    <tr>\n",
       "      <th>2</th>\n",
       "      <td>2019-08-03</td>\n",
       "      <td>A</td>\n",
       "      <td>507</td>\n",
       "    </tr>\n",
       "    <tr>\n",
       "      <th>3</th>\n",
       "      <td>2019-08-04</td>\n",
       "      <td>A</td>\n",
       "      <td>717</td>\n",
       "    </tr>\n",
       "    <tr>\n",
       "      <th>4</th>\n",
       "      <td>2019-08-05</td>\n",
       "      <td>A</td>\n",
       "      <td>756</td>\n",
       "    </tr>\n",
       "  </tbody>\n",
       "</table>\n",
       "</div>"
      ],
      "text/plain": [
       "         date group  visitors\n",
       "0  2019-08-01     A       719\n",
       "1  2019-08-02     A       619\n",
       "2  2019-08-03     A       507\n",
       "3  2019-08-04     A       717\n",
       "4  2019-08-05     A       756"
      ]
     },
     "execution_count": 318,
     "metadata": {},
     "output_type": "execute_result"
    }
   ],
   "source": [
    "display(orders.head())\n",
    "visitors.head()"
   ]
  },
  {
   "cell_type": "code",
   "execution_count": 376,
   "id": "46cf00c6",
   "metadata": {},
   "outputs": [
    {
     "name": "stdout",
     "output_type": "stream",
     "text": [
      "Минимальная дата заказа 2019-08-01\n",
      "Дата последнего заказа 2019-08-31\n",
      "Минимальная дата привлечения пользователя 2019-08-01\n",
      "Дата привлечения последнего пользователя 2019-08-31\n"
     ]
    }
   ],
   "source": [
    "print('Минимальная дата заказа', orders['date'].min())\n",
    "print('Дата последнего заказа',orders['date'].max())\n",
    "print('Минимальная дата привлечения пользователя', visitors['date'].min())\n",
    "print('Дата привлечения последнего пользователя',visitors['date'].max())"
   ]
  },
  {
   "cell_type": "markdown",
   "id": "0c9435f8",
   "metadata": {},
   "source": [
    "### 2.1 Строим график кумулятивной выручки по группам:"
   ]
  },
  {
   "cell_type": "code",
   "execution_count": 377,
   "id": "871b4d59",
   "metadata": {},
   "outputs": [],
   "source": [
    "# Создаем массив уникальных пар значений дат и групп теста\n",
    "datesGroups = orders[['date','group']].drop_duplicates() "
   ]
  },
  {
   "cell_type": "code",
   "execution_count": 321,
   "id": "a558492a",
   "metadata": {},
   "outputs": [],
   "source": [
    "# Соберём агрегированные кумулятивные по дням данные о заказах:\n",
    "ordersAggregated = (\n",
    "    datesGroups.apply(lambda x: orders[np.logical_and(orders['date'] <= x['date'], orders['group'] == x['group'])]\n",
    "    .agg({'date' : 'max', 'group' : 'max', 'transactionId' : 'nunique', 'visitorId' : 'nunique', 'revenue' : 'sum'}), axis=1)\n",
    "    .sort_values(by=['date','group'])\n",
    ")"
   ]
  },
  {
   "cell_type": "code",
   "execution_count": 322,
   "id": "5cda8137",
   "metadata": {},
   "outputs": [],
   "source": [
    "# Аналогично получим агрегированные кумулятивные по дням данные о посетителях:\n",
    "visitorsAggregated = (\n",
    "    datesGroups.apply(lambda x: visitors[np.logical_and(visitors['date'] <= x['date'], visitors['group'] == x['group'])]\n",
    "    .agg({'date' : 'max', 'group' : 'max', 'visitors' : 'sum'}), axis=1)\n",
    "    .sort_values(by=['date','group'])\n",
    ")"
   ]
  },
  {
   "cell_type": "code",
   "execution_count": 378,
   "id": "f2a39859",
   "metadata": {
    "scrolled": false
   },
   "outputs": [
    {
     "data": {
      "text/html": [
       "<div>\n",
       "<style scoped>\n",
       "    .dataframe tbody tr th:only-of-type {\n",
       "        vertical-align: middle;\n",
       "    }\n",
       "\n",
       "    .dataframe tbody tr th {\n",
       "        vertical-align: top;\n",
       "    }\n",
       "\n",
       "    .dataframe thead th {\n",
       "        text-align: right;\n",
       "    }\n",
       "</style>\n",
       "<table border=\"1\" class=\"dataframe\">\n",
       "  <thead>\n",
       "    <tr style=\"text-align: right;\">\n",
       "      <th></th>\n",
       "      <th>date</th>\n",
       "      <th>group</th>\n",
       "      <th>orders</th>\n",
       "      <th>buyers</th>\n",
       "      <th>revenue</th>\n",
       "      <th>visitors</th>\n",
       "    </tr>\n",
       "  </thead>\n",
       "  <tbody>\n",
       "    <tr>\n",
       "      <th>0</th>\n",
       "      <td>2019-08-01</td>\n",
       "      <td>A</td>\n",
       "      <td>24</td>\n",
       "      <td>20</td>\n",
       "      <td>148579</td>\n",
       "      <td>719</td>\n",
       "    </tr>\n",
       "    <tr>\n",
       "      <th>1</th>\n",
       "      <td>2019-08-01</td>\n",
       "      <td>B</td>\n",
       "      <td>21</td>\n",
       "      <td>20</td>\n",
       "      <td>101217</td>\n",
       "      <td>713</td>\n",
       "    </tr>\n",
       "    <tr>\n",
       "      <th>2</th>\n",
       "      <td>2019-08-02</td>\n",
       "      <td>A</td>\n",
       "      <td>44</td>\n",
       "      <td>38</td>\n",
       "      <td>242401</td>\n",
       "      <td>1338</td>\n",
       "    </tr>\n",
       "    <tr>\n",
       "      <th>3</th>\n",
       "      <td>2019-08-02</td>\n",
       "      <td>B</td>\n",
       "      <td>45</td>\n",
       "      <td>43</td>\n",
       "      <td>266748</td>\n",
       "      <td>1294</td>\n",
       "    </tr>\n",
       "    <tr>\n",
       "      <th>4</th>\n",
       "      <td>2019-08-03</td>\n",
       "      <td>A</td>\n",
       "      <td>68</td>\n",
       "      <td>62</td>\n",
       "      <td>354874</td>\n",
       "      <td>1845</td>\n",
       "    </tr>\n",
       "  </tbody>\n",
       "</table>\n",
       "</div>"
      ],
      "text/plain": [
       "         date group  orders  buyers  revenue  visitors\n",
       "0  2019-08-01     A      24      20   148579       719\n",
       "1  2019-08-01     B      21      20   101217       713\n",
       "2  2019-08-02     A      44      38   242401      1338\n",
       "3  2019-08-02     B      45      43   266748      1294\n",
       "4  2019-08-03     A      68      62   354874      1845"
      ]
     },
     "execution_count": 378,
     "metadata": {},
     "output_type": "execute_result"
    }
   ],
   "source": [
    "# Объединяем кумулятивные данные в одной таблице и присваиваем ее столбцам понятные названия\n",
    "cumulativeData = ordersAggregated.merge(visitorsAggregated, left_on=['date', 'group'], right_on=['date', 'group'])\n",
    "cumulativeData.columns = ['date', 'group', 'orders', 'buyers', 'revenue', 'visitors']\n",
    "cumulativeData.head()"
   ]
  },
  {
   "cell_type": "code",
   "execution_count": 324,
   "id": "335b8f2a",
   "metadata": {},
   "outputs": [],
   "source": [
    "# датафрейм с кумулятивным количеством заказов и кумулятивной выручкой по дням в группе А\n",
    "cumulativeRevenueA = cumulativeData[cumulativeData['group']=='A'][['date','revenue', 'orders']]\n",
    "\n",
    "# датафрейм с кумулятивным количеством заказов и кумулятивной выручкой по дням в группе B\n",
    "cumulativeRevenueB = cumulativeData[cumulativeData['group']=='B'][['date','revenue', 'orders']]"
   ]
  },
  {
   "cell_type": "code",
   "execution_count": 325,
   "id": "106aeec7",
   "metadata": {
    "scrolled": true
   },
   "outputs": [
    {
     "data": {
      "image/png": "[encoded data removed]",
      "text/plain": [
       "<Figure size 1000x300 with 1 Axes>"
      ]
     },
     "metadata": {},
     "output_type": "display_data"
    }
   ],
   "source": [
    "plt.figure(figsize=(10, 3))\n",
    "plt.xticks(rotation=45)\n",
    "\n",
    "# Строим график выручки группы А\n",
    "plt.plot(cumulativeRevenueA['date'], cumulativeRevenueA['revenue'], label='A')\n",
    "\n",
    "# Строим график выручки группы B\n",
    "plt.plot(cumulativeRevenueB['date'], cumulativeRevenueB['revenue'], label='B')\n",
    "\n",
    "plt.title('График кумулятивной выручки по группам')\n",
    "plt.xlabel('Дата')\n",
    "plt.ylabel('Сумма выручки млн.')\n",
    "\n",
    "plt.legend()\n",
    "plt.show()"
   ]
  },
  {
   "cell_type": "markdown",
   "id": "76352af3",
   "metadata": {},
   "source": [
    " **Вывод:** \n",
    " - Кум выручка группы А росла стабильно и пловно\n",
    " - Кум выручка группы В росла идентично гр. А до 18 авг. Далее 19 августа произошел резкий выброс.\n",
    " - Возможной причиной выброса группе В может быть:\n",
    "     1. крупный заказ от 1 или неск покупателей или \n",
    "     2. резкий рост кол-ва заказов из-за доп факторов (например: маркетинговая акция, новости о дециците товара и тп...)\n",
    " - После 19 авг выручка в обеих группах продолжает идентичный рост"
   ]
  },
  {
   "cell_type": "markdown",
   "id": "ba3515da",
   "metadata": {},
   "source": [
    "### 2.2 Строим график кумулятивного среднего чека по группам:"
   ]
  },
  {
   "cell_type": "code",
   "execution_count": 326,
   "id": "eb9f71f1",
   "metadata": {},
   "outputs": [
    {
     "data": {
      "image/png": "[encoded data removed]",
      "text/plain": [
       "<Figure size 1000x300 with 1 Axes>"
      ]
     },
     "metadata": {},
     "output_type": "display_data"
    }
   ],
   "source": [
    "plt.figure(figsize=(10, 3))\n",
    "plt.xticks(rotation=45)\n",
    "\n",
    "# график кумулятивного среднего чека группы А\n",
    "plt.plot(cumulativeRevenueA['date'],cumulativeRevenueA['revenue']/cumulativeRevenueA['orders'],label='A')\n",
    "\n",
    "# график кумулятивного среднего чека группы В\n",
    "plt.plot(cumulativeRevenueB['date'],cumulativeRevenueB['revenue']/cumulativeRevenueB['orders'],label='B')\n",
    "\n",
    "plt.title('График кумулятивного среднего чека по группам')\n",
    "plt.xlabel('Дата')\n",
    "plt.ylabel('Кумулятивный средний чек')\n",
    "\n",
    "plt.legend()\n",
    "plt.show()"
   ]
  },
  {
   "cell_type": "markdown",
   "id": "60e2c7f0",
   "metadata": {},
   "source": [
    "**Вывод:**\n",
    "- В начале теста, в районе 8 авг. видны расхождения пок-ля\n",
    "- Далее с 9 по 18 авг пок-ль по группам выравнивается \n",
    "- Как и на графике Кум выручки(выше), явно виден выброс 19авг в группе В, из-за чего её пок-ль сильно вырос по сравн с группой А.\n",
    "- Примерно с 20авг и далее явно виден тренд того что пок-ль ср чека группы В стремится к пок-лю ср чека группы А"
   ]
  },
  {
   "cell_type": "markdown",
   "id": "685f919c",
   "metadata": {},
   "source": [
    "### 2.3 Строим график относительного изменения кумулятивного среднего чека группы B к группе A:"
   ]
  },
  {
   "cell_type": "code",
   "execution_count": 327,
   "id": "8e9b5ec2",
   "metadata": {},
   "outputs": [],
   "source": [
    "#  Объединим данные кум выручки групп А и В в одну таблицу:\n",
    "mergedCumulativeRevenue = (\n",
    "    cumulativeRevenueA.merge(cumulativeRevenueB,left_on='date', right_on='date', how='left', suffixes=['A', 'B'])\n",
    ")"
   ]
  },
  {
   "cell_type": "code",
   "execution_count": 328,
   "id": "8ee25d20",
   "metadata": {
    "scrolled": true
   },
   "outputs": [
    {
     "data": {
      "image/png": "[encoded data removed]",
      "text/plain": [
       "<Figure size 1000x300 with 1 Axes>"
      ]
     },
     "metadata": {},
     "output_type": "display_data"
    }
   ],
   "source": [
    "plt.figure(figsize=(10, 3))\n",
    "plt.xticks(rotation=45)\n",
    "\n",
    "# Строим график относительно различия кумулятивного среднего чека группы B к группе A:\n",
    "plt.plot(mergedCumulativeRevenue['date'],(mergedCumulativeRevenue['revenueB']/mergedCumulativeRevenue['ordersB'])/(mergedCumulativeRevenue['revenueA']/mergedCumulativeRevenue['ordersA'])-1)\n",
    "\n",
    "plt.axhline(y=0,color='black',linestyle='--')\n",
    "\n",
    "plt.title('График относительно различия кумулятивного среднего чека группы B к группе A')\n",
    "plt.xlabel('Дата')\n",
    "plt.ylabel('Относительное изменение в %')\n",
    "\n",
    "plt.show()"
   ]
  },
  {
   "cell_type": "markdown",
   "id": "6b1f489b",
   "metadata": {},
   "source": [
    "**Вывод:**\n",
    "- В начале теста, в районе 8 авг. видны расхождения пок-ля. По группе В есть относительный рост. \n",
    "- Далее с 9 по 17 авг пок-ль по группам выравнивается.\n",
    "- Явно виден выброс 18авг в группе В, из-за чего её пок-ль сильно вырос(~30%) по сравнению с группой А.\n",
    "- Примерно с 20авг и далее явно виден тренд того что пок-ль ср чека группы В стремится к пок-лю ср чека группы А"
   ]
  },
  {
   "cell_type": "markdown",
   "id": "5bf8c756",
   "metadata": {},
   "source": [
    "### 2.4 Строим график кумулятивного среднего количества заказов на посетителя по группам:"
   ]
  },
  {
   "cell_type": "code",
   "execution_count": 329,
   "id": "4b8404d7",
   "metadata": {},
   "outputs": [
    {
     "data": {
      "text/html": [
       "<div>\n",
       "<style scoped>\n",
       "    .dataframe tbody tr th:only-of-type {\n",
       "        vertical-align: middle;\n",
       "    }\n",
       "\n",
       "    .dataframe tbody tr th {\n",
       "        vertical-align: top;\n",
       "    }\n",
       "\n",
       "    .dataframe thead th {\n",
       "        text-align: right;\n",
       "    }\n",
       "</style>\n",
       "<table border=\"1\" class=\"dataframe\">\n",
       "  <thead>\n",
       "    <tr style=\"text-align: right;\">\n",
       "      <th></th>\n",
       "      <th>date</th>\n",
       "      <th>group</th>\n",
       "      <th>orders</th>\n",
       "      <th>buyers</th>\n",
       "      <th>revenue</th>\n",
       "      <th>visitors</th>\n",
       "      <th>orders_per_buyers</th>\n",
       "    </tr>\n",
       "  </thead>\n",
       "  <tbody>\n",
       "    <tr>\n",
       "      <th>0</th>\n",
       "      <td>2019-08-01</td>\n",
       "      <td>A</td>\n",
       "      <td>24</td>\n",
       "      <td>20</td>\n",
       "      <td>148579</td>\n",
       "      <td>719</td>\n",
       "      <td>1.20</td>\n",
       "    </tr>\n",
       "    <tr>\n",
       "      <th>1</th>\n",
       "      <td>2019-08-01</td>\n",
       "      <td>B</td>\n",
       "      <td>21</td>\n",
       "      <td>20</td>\n",
       "      <td>101217</td>\n",
       "      <td>713</td>\n",
       "      <td>1.05</td>\n",
       "    </tr>\n",
       "    <tr>\n",
       "      <th>2</th>\n",
       "      <td>2019-08-02</td>\n",
       "      <td>A</td>\n",
       "      <td>44</td>\n",
       "      <td>38</td>\n",
       "      <td>242401</td>\n",
       "      <td>1338</td>\n",
       "      <td>1.16</td>\n",
       "    </tr>\n",
       "    <tr>\n",
       "      <th>3</th>\n",
       "      <td>2019-08-02</td>\n",
       "      <td>B</td>\n",
       "      <td>45</td>\n",
       "      <td>43</td>\n",
       "      <td>266748</td>\n",
       "      <td>1294</td>\n",
       "      <td>1.05</td>\n",
       "    </tr>\n",
       "    <tr>\n",
       "      <th>4</th>\n",
       "      <td>2019-08-03</td>\n",
       "      <td>A</td>\n",
       "      <td>68</td>\n",
       "      <td>62</td>\n",
       "      <td>354874</td>\n",
       "      <td>1845</td>\n",
       "      <td>1.10</td>\n",
       "    </tr>\n",
       "  </tbody>\n",
       "</table>\n",
       "</div>"
      ],
      "text/plain": [
       "         date group  orders  buyers  revenue  visitors  orders_per_buyers\n",
       "0  2019-08-01     A      24      20   148579       719               1.20\n",
       "1  2019-08-01     B      21      20   101217       713               1.05\n",
       "2  2019-08-02     A      44      38   242401      1338               1.16\n",
       "3  2019-08-02     B      45      43   266748      1294               1.05\n",
       "4  2019-08-03     A      68      62   354874      1845               1.10"
      ]
     },
     "execution_count": 329,
     "metadata": {},
     "output_type": "execute_result"
    }
   ],
   "source": [
    "# Добавим в cumulativeData столбец 'orders_per_buyers'\n",
    "# c средним кол-вом заказов на 1го польз-ля указанной группе в указанный день:\n",
    "cumulativeData['orders_per_buyers'] = round(cumulativeData['orders'] / cumulativeData['buyers'],2)\n",
    "cumulativeData.head()"
   ]
  },
  {
   "cell_type": "code",
   "execution_count": 330,
   "id": "d7277784",
   "metadata": {},
   "outputs": [],
   "source": [
    "# датафрейм с кумулятивным средним кол-вом заказов по группе А:\n",
    "cumulativeDataA = cumulativeData[cumulativeData['group'] == 'A']\n",
    "\n",
    "# датафрейм с кумулятивным средним кол-вом заказов по группе А:\n",
    "cumulativeDataB = cumulativeData[cumulativeData['group'] == 'B']"
   ]
  },
  {
   "cell_type": "code",
   "execution_count": 331,
   "id": "cd6df0b8",
   "metadata": {
    "scrolled": true
   },
   "outputs": [
    {
     "data": {
      "image/png": "[encoded data removed]",
      "text/plain": [
       "<Figure size 1000x300 with 1 Axes>"
      ]
     },
     "metadata": {},
     "output_type": "display_data"
    }
   ],
   "source": [
    "plt.figure(figsize=(10, 3))\n",
    "plt.xticks(rotation=45)\n",
    "\n",
    "plt.plot(cumulativeDataA['date'],cumulativeDataA['orders_per_buyers'],label='A')\n",
    "plt.plot(cumulativeDataB['date'], cumulativeDataB['orders_per_buyers'], label='B')\n",
    "\n",
    "plt.title('График кумулятивного среднего количества заказов на посетителя')\n",
    "plt.xlabel('Дата')\n",
    "plt.ylabel('Кум. ср. кол-во заказов на посетителя')\n",
    "\n",
    "plt.legend()\n",
    "plt.show()"
   ]
  },
  {
   "cell_type": "markdown",
   "id": "6ef63a9d",
   "metadata": {},
   "source": [
    "**Вывод:**\n",
    "- В начале теста ср кол-во заказов в группе А было немного больше чем в группе B, 1.2 и 1.025 соответственно.\n",
    "    - Причиной может быть то, что в группу А попали заказы из отложенного спроса, чего не может быть в группе В\n",
    "- Втечение месяца показатели групп А и В стремились друг к другу\n",
    "- 27авг. показатели выровнялись и Ср. кол-во заказов на 1 польз-ля в обеих группах  = 1.1"
   ]
  },
  {
   "cell_type": "markdown",
   "id": "07c6a4e1",
   "metadata": {},
   "source": [
    "### 2.5 Строим график относительного изменения кумулятивного среднего количества заказов на посетителя группы B к группе A:"
   ]
  },
  {
   "cell_type": "code",
   "execution_count": 332,
   "id": "b5351237",
   "metadata": {},
   "outputs": [
    {
     "data": {
      "text/html": [
       "<div>\n",
       "<style scoped>\n",
       "    .dataframe tbody tr th:only-of-type {\n",
       "        vertical-align: middle;\n",
       "    }\n",
       "\n",
       "    .dataframe tbody tr th {\n",
       "        vertical-align: top;\n",
       "    }\n",
       "\n",
       "    .dataframe thead th {\n",
       "        text-align: right;\n",
       "    }\n",
       "</style>\n",
       "<table border=\"1\" class=\"dataframe\">\n",
       "  <thead>\n",
       "    <tr style=\"text-align: right;\">\n",
       "      <th></th>\n",
       "      <th>date</th>\n",
       "      <th>orders_per_buyersA</th>\n",
       "      <th>orders_per_buyersB</th>\n",
       "    </tr>\n",
       "  </thead>\n",
       "  <tbody>\n",
       "    <tr>\n",
       "      <th>0</th>\n",
       "      <td>2019-08-01</td>\n",
       "      <td>1.20</td>\n",
       "      <td>1.05</td>\n",
       "    </tr>\n",
       "    <tr>\n",
       "      <th>1</th>\n",
       "      <td>2019-08-02</td>\n",
       "      <td>1.16</td>\n",
       "      <td>1.05</td>\n",
       "    </tr>\n",
       "    <tr>\n",
       "      <th>2</th>\n",
       "      <td>2019-08-03</td>\n",
       "      <td>1.10</td>\n",
       "      <td>1.03</td>\n",
       "    </tr>\n",
       "    <tr>\n",
       "      <th>3</th>\n",
       "      <td>2019-08-04</td>\n",
       "      <td>1.09</td>\n",
       "      <td>1.04</td>\n",
       "    </tr>\n",
       "    <tr>\n",
       "      <th>4</th>\n",
       "      <td>2019-08-05</td>\n",
       "      <td>1.09</td>\n",
       "      <td>1.03</td>\n",
       "    </tr>\n",
       "  </tbody>\n",
       "</table>\n",
       "</div>"
      ],
      "text/plain": [
       "         date  orders_per_buyersA  orders_per_buyersB\n",
       "0  2019-08-01                1.20                1.05\n",
       "1  2019-08-02                1.16                1.05\n",
       "2  2019-08-03                1.10                1.03\n",
       "3  2019-08-04                1.09                1.04\n",
       "4  2019-08-05                1.09                1.03"
      ]
     },
     "execution_count": 332,
     "metadata": {},
     "output_type": "execute_result"
    }
   ],
   "source": [
    "#  Объединим данные кум заказов групп А и В в одну таблицу:\n",
    "mergedCumulativeOrders = cumulativeDataA[['date','orders_per_buyers']].merge(\n",
    "    cumulativeDataB[['date','orders_per_buyers']],left_on='date',right_on='date', suffixes=['A','B'])\n",
    "mergedCumulativeOrders.head()"
   ]
  },
  {
   "cell_type": "code",
   "execution_count": 333,
   "id": "24509219",
   "metadata": {
    "scrolled": true
   },
   "outputs": [
    {
     "data": {
      "image/png": "[encoded data removed]",
      "text/plain": [
       "<Figure size 1000x300 with 1 Axes>"
      ]
     },
     "metadata": {},
     "output_type": "display_data"
    }
   ],
   "source": [
    "plt.figure(figsize=(10, 3))\n",
    "plt.xticks(rotation=45)\n",
    "\n",
    "plt.plot(mergedCumulativeOrders['date'],\\\n",
    "         mergedCumulativeOrders['orders_per_buyersB']/mergedCumulativeOrders['orders_per_buyersA']-1,\\\n",
    "         label=\"Относительный прирост заказов группы B относительно группы A\")\n",
    "\n",
    "plt.axhline(y=0, color='black', linestyle='--')\n",
    "plt.axhline(y=-0.06, color='grey', linestyle='--')\n",
    "plt.axis(['2019-08-01','2019-08-31', -0.1, 0.05])\n",
    "\n",
    "plt.title('График относительного изменения кум. среднего кол-ва заказов на посетителя группы B к группе A')\n",
    "plt.xlabel('Дата')\n",
    "plt.ylabel('Относительное изменение в %')\n",
    "\n",
    "plt.legend()\n",
    "plt.show()"
   ]
  },
  {
   "cell_type": "markdown",
   "id": "61448ab0",
   "metadata": {},
   "source": [
    "**Вывод:**\n",
    "- Кол-во заказов в группе В ни разу не превысело аналогичный пок-ль в группе А, но сравнялось с ним к конце августа"
   ]
  },
  {
   "cell_type": "markdown",
   "id": "7ba04f92",
   "metadata": {},
   "source": [
    "### 2.6 Строим точечный график количества заказов по пользователям:"
   ]
  },
  {
   "cell_type": "code",
   "execution_count": 334,
   "id": "b82ee305",
   "metadata": {},
   "outputs": [
    {
     "data": {
      "text/html": [
       "<div>\n",
       "<style scoped>\n",
       "    .dataframe tbody tr th:only-of-type {\n",
       "        vertical-align: middle;\n",
       "    }\n",
       "\n",
       "    .dataframe tbody tr th {\n",
       "        vertical-align: top;\n",
       "    }\n",
       "\n",
       "    .dataframe thead th {\n",
       "        text-align: right;\n",
       "    }\n",
       "</style>\n",
       "<table border=\"1\" class=\"dataframe\">\n",
       "  <thead>\n",
       "    <tr style=\"text-align: right;\">\n",
       "      <th></th>\n",
       "      <th>userId</th>\n",
       "      <th>orders</th>\n",
       "    </tr>\n",
       "  </thead>\n",
       "  <tbody>\n",
       "    <tr>\n",
       "      <th>0</th>\n",
       "      <td>5114589</td>\n",
       "      <td>1</td>\n",
       "    </tr>\n",
       "    <tr>\n",
       "      <th>1</th>\n",
       "      <td>6958315</td>\n",
       "      <td>1</td>\n",
       "    </tr>\n",
       "    <tr>\n",
       "      <th>2</th>\n",
       "      <td>8300375</td>\n",
       "      <td>2</td>\n",
       "    </tr>\n",
       "    <tr>\n",
       "      <th>3</th>\n",
       "      <td>11685486</td>\n",
       "      <td>1</td>\n",
       "    </tr>\n",
       "    <tr>\n",
       "      <th>4</th>\n",
       "      <td>39475350</td>\n",
       "      <td>1</td>\n",
       "    </tr>\n",
       "  </tbody>\n",
       "</table>\n",
       "</div>"
      ],
      "text/plain": [
       "     userId  orders\n",
       "0   5114589       1\n",
       "1   6958315       1\n",
       "2   8300375       2\n",
       "3  11685486       1\n",
       "4  39475350       1"
      ]
     },
     "execution_count": 334,
     "metadata": {},
     "output_type": "execute_result"
    }
   ],
   "source": [
    "ordersByUsers = (\n",
    "    orders.groupby('visitorId',as_index=False)\n",
    "    .agg({'transactionId':'nunique'})\n",
    ")\n",
    "ordersByUsers.columns = ['userId', 'orders']\n",
    "ordersByUsers.head()"
   ]
  },
  {
   "cell_type": "code",
   "execution_count": 335,
   "id": "28d1dbeb",
   "metadata": {},
   "outputs": [],
   "source": [
    "# серия из чисел от 0 до количества наблюдений в ordersByUsers\n",
    "x_values = pd.Series(range(0, len(ordersByUsers)))"
   ]
  },
  {
   "cell_type": "code",
   "execution_count": 336,
   "id": "7624dcea",
   "metadata": {
    "scrolled": true
   },
   "outputs": [
    {
     "data": {
      "image/png": "[encoded data removed]",
      "text/plain": [
       "<Figure size 1000x300 with 1 Axes>"
      ]
     },
     "metadata": {},
     "output_type": "display_data"
    }
   ],
   "source": [
    "plt.figure(figsize=(10,3))\n",
    "plt.scatter(x_values,ordersByUsers['orders'])\n",
    "plt.title('Количество заказов по пользователям')\n",
    "plt.xlabel('Пользователи')\n",
    "plt.ylabel('Кол-во заказов в шт.')\n",
    "plt.show()"
   ]
  },
  {
   "cell_type": "markdown",
   "id": "e6770443",
   "metadata": {},
   "source": [
    "**Вывод:**\n",
    "- У большинства польз-лей только 1 заказ\n",
    "- также на графике видно, что много пользователей с 2мя заказами\n",
    "- От 3х заказаов и более, чем дальше, тем меньше\n",
    "- Максимальное чило заказов 11"
   ]
  },
  {
   "cell_type": "markdown",
   "id": "db7ff22d",
   "metadata": {},
   "source": [
    "### 2.7 Посчитаем 95-й и 99-й перцентили количества заказов на пользователя: \n",
    "Выберем границу для определения аномальных пользователей."
   ]
  },
  {
   "cell_type": "code",
   "execution_count": 337,
   "id": "421c590f",
   "metadata": {},
   "outputs": [
    {
     "data": {
      "text/plain": [
       "array([2., 4.])"
      ]
     },
     "execution_count": 337,
     "metadata": {},
     "output_type": "execute_result"
    }
   ],
   "source": [
    "np.percentile(ordersByUsers['orders'],[95, 99])"
   ]
  },
  {
   "cell_type": "markdown",
   "id": "2fc7be7e",
   "metadata": {},
   "source": [
    "- Не более 5% польз-лей совершали 2 заказа\n",
    "- Не более 1% пользователей совершали 4 заказа"
   ]
  },
  {
   "cell_type": "markdown",
   "id": "6167a738",
   "metadata": {},
   "source": [
    "### 2.8 Строим точечный график стоимостей заказов:"
   ]
  },
  {
   "cell_type": "code",
   "execution_count": 338,
   "id": "2f7585ea",
   "metadata": {},
   "outputs": [],
   "source": [
    "x_values = pd.Series(range(0, len(orders['revenue'])))"
   ]
  },
  {
   "cell_type": "code",
   "execution_count": 339,
   "id": "5b138047",
   "metadata": {
    "scrolled": true
   },
   "outputs": [
    {
     "data": {
      "image/png": "[encoded data removed]",
      "text/plain": [
       "<Figure size 1000x300 with 1 Axes>"
      ]
     },
     "metadata": {},
     "output_type": "display_data"
    }
   ],
   "source": [
    "plt.figure(figsize=(10,3))\n",
    "plt.scatter(x_values,orders['revenue'])\n",
    "plt.title('Заказы по стоимости')\n",
    "plt.xlabel('кол-во заказов')\n",
    "plt.ylabel('Стоимость заказа в млн.')\n",
    "\n",
    "plt.show()"
   ]
  },
  {
   "cell_type": "code",
   "execution_count": 340,
   "id": "bd603d28",
   "metadata": {},
   "outputs": [
    {
     "data": {
      "image/png": "[encoded data removed]",
      "text/plain": [
       "<Figure size 1000x300 with 1 Axes>"
      ]
     },
     "metadata": {},
     "output_type": "display_data"
    }
   ],
   "source": [
    "plt.figure(figsize=(10,3))\n",
    "plt.scatter(x_values,orders['revenue'])\n",
    "plt.axis([0,1200, 0, 100000])\n",
    "\n",
    "plt.title('Заказы по стоимости без 2х явных выбросов')\n",
    "plt.xlabel('Заказы')\n",
    "plt.ylabel('Стоимость заказа в млн.')\n",
    "\n",
    "plt.show()"
   ]
  },
  {
   "cell_type": "markdown",
   "id": "29a2c316",
   "metadata": {},
   "source": [
    "**Вывод:**\n",
    "- Основная масса заказов по стоимости до ~ 20 000\n",
    "- Выбиваются 2 заказа: \n",
    "    1. Стоимость > 1 200 000\n",
    "    2. Стоимость > 200 000"
   ]
  },
  {
   "cell_type": "code",
   "execution_count": 341,
   "id": "8377bc2b",
   "metadata": {},
   "outputs": [
    {
     "data": {
      "text/html": [
       "<div>\n",
       "<style scoped>\n",
       "    .dataframe tbody tr th:only-of-type {\n",
       "        vertical-align: middle;\n",
       "    }\n",
       "\n",
       "    .dataframe tbody tr th {\n",
       "        vertical-align: top;\n",
       "    }\n",
       "\n",
       "    .dataframe thead th {\n",
       "        text-align: right;\n",
       "    }\n",
       "</style>\n",
       "<table border=\"1\" class=\"dataframe\">\n",
       "  <thead>\n",
       "    <tr style=\"text-align: right;\">\n",
       "      <th></th>\n",
       "      <th>transactionId</th>\n",
       "      <th>visitorId</th>\n",
       "      <th>date</th>\n",
       "      <th>revenue</th>\n",
       "      <th>group</th>\n",
       "    </tr>\n",
       "  </thead>\n",
       "  <tbody>\n",
       "    <tr>\n",
       "      <th>425</th>\n",
       "      <td>590470918</td>\n",
       "      <td>1920142716</td>\n",
       "      <td>2019-08-19</td>\n",
       "      <td>1294500</td>\n",
       "      <td>B</td>\n",
       "    </tr>\n",
       "    <tr>\n",
       "      <th>1196</th>\n",
       "      <td>3936777065</td>\n",
       "      <td>2108080724</td>\n",
       "      <td>2019-08-15</td>\n",
       "      <td>202740</td>\n",
       "      <td>B</td>\n",
       "    </tr>\n",
       "    <tr>\n",
       "      <th>858</th>\n",
       "      <td>192721366</td>\n",
       "      <td>1316129916</td>\n",
       "      <td>2019-08-27</td>\n",
       "      <td>93940</td>\n",
       "      <td>A</td>\n",
       "    </tr>\n",
       "    <tr>\n",
       "      <th>1136</th>\n",
       "      <td>666610489</td>\n",
       "      <td>1307669133</td>\n",
       "      <td>2019-08-13</td>\n",
       "      <td>92550</td>\n",
       "      <td>A</td>\n",
       "    </tr>\n",
       "    <tr>\n",
       "      <th>744</th>\n",
       "      <td>3668308183</td>\n",
       "      <td>888512513</td>\n",
       "      <td>2019-08-27</td>\n",
       "      <td>86620</td>\n",
       "      <td>B</td>\n",
       "    </tr>\n",
       "  </tbody>\n",
       "</table>\n",
       "</div>"
      ],
      "text/plain": [
       "      transactionId   visitorId        date  revenue group\n",
       "425       590470918  1920142716  2019-08-19  1294500     B\n",
       "1196     3936777065  2108080724  2019-08-15   202740     B\n",
       "858       192721366  1316129916  2019-08-27    93940     A\n",
       "1136      666610489  1307669133  2019-08-13    92550     A\n",
       "744      3668308183   888512513  2019-08-27    86620     B"
      ]
     },
     "execution_count": 341,
     "metadata": {},
     "output_type": "execute_result"
    }
   ],
   "source": [
    "(orders.sort_values(by = 'revenue', ascending=False)).head()"
   ]
  },
  {
   "cell_type": "markdown",
   "id": "e20de995",
   "metadata": {},
   "source": [
    "### 2.9 Посчитем 95-й и 99-й перцентили стоимости заказов: \n",
    "Выберем границу для определения аномальных заказов."
   ]
  },
  {
   "cell_type": "code",
   "execution_count": 342,
   "id": "73b85ad4",
   "metadata": {},
   "outputs": [
    {
     "data": {
      "text/plain": [
       "array([28000. , 58233.2])"
      ]
     },
     "execution_count": 342,
     "metadata": {},
     "output_type": "execute_result"
    }
   ],
   "source": [
    "np.percentile(orders['revenue'],[95,99])"
   ]
  },
  {
   "cell_type": "markdown",
   "id": "5b566670",
   "metadata": {},
   "source": [
    "- Не более 5%  заказов имеют стоимость 28000\n",
    "- Не более 1% заказов имеют стоимость 58233.2"
   ]
  },
  {
   "cell_type": "markdown",
   "id": "a5a39794",
   "metadata": {},
   "source": [
    "### 2.10 Посчитайте статистическую значимость различий в среднем количестве заказов на посетителя между группами по «сырым» данным:"
   ]
  },
  {
   "cell_type": "markdown",
   "id": "25397ffc",
   "metadata": {},
   "source": [
    "Сформируем гипотезы:\n",
    "- H0: различий в среднем количестве заказов между группами нет. \n",
    "- H1: различия в среднем между группами есть."
   ]
  },
  {
   "cell_type": "markdown",
   "id": "14cc9d9f",
   "metadata": {},
   "source": [
    "#### Сначала подготовим данные : "
   ]
  },
  {
   "cell_type": "code",
   "execution_count": 343,
   "id": "3a14c9a8",
   "metadata": {},
   "outputs": [
    {
     "data": {
      "text/html": [
       "<div>\n",
       "<style scoped>\n",
       "    .dataframe tbody tr th:only-of-type {\n",
       "        vertical-align: middle;\n",
       "    }\n",
       "\n",
       "    .dataframe tbody tr th {\n",
       "        vertical-align: top;\n",
       "    }\n",
       "\n",
       "    .dataframe thead th {\n",
       "        text-align: right;\n",
       "    }\n",
       "</style>\n",
       "<table border=\"1\" class=\"dataframe\">\n",
       "  <thead>\n",
       "    <tr style=\"text-align: right;\">\n",
       "      <th></th>\n",
       "      <th>date</th>\n",
       "      <th>group</th>\n",
       "      <th>visitors</th>\n",
       "    </tr>\n",
       "  </thead>\n",
       "  <tbody>\n",
       "    <tr>\n",
       "      <th>0</th>\n",
       "      <td>2019-08-01</td>\n",
       "      <td>A</td>\n",
       "      <td>719</td>\n",
       "    </tr>\n",
       "    <tr>\n",
       "      <th>1</th>\n",
       "      <td>2019-08-02</td>\n",
       "      <td>A</td>\n",
       "      <td>619</td>\n",
       "    </tr>\n",
       "    <tr>\n",
       "      <th>2</th>\n",
       "      <td>2019-08-03</td>\n",
       "      <td>A</td>\n",
       "      <td>507</td>\n",
       "    </tr>\n",
       "    <tr>\n",
       "      <th>3</th>\n",
       "      <td>2019-08-04</td>\n",
       "      <td>A</td>\n",
       "      <td>717</td>\n",
       "    </tr>\n",
       "    <tr>\n",
       "      <th>4</th>\n",
       "      <td>2019-08-05</td>\n",
       "      <td>A</td>\n",
       "      <td>756</td>\n",
       "    </tr>\n",
       "  </tbody>\n",
       "</table>\n",
       "</div>"
      ],
      "text/plain": [
       "         date group  visitors\n",
       "0  2019-08-01     A       719\n",
       "1  2019-08-02     A       619\n",
       "2  2019-08-03     A       507\n",
       "3  2019-08-04     A       717\n",
       "4  2019-08-05     A       756"
      ]
     },
     "execution_count": 343,
     "metadata": {},
     "output_type": "execute_result"
    }
   ],
   "source": [
    "visitors.head()"
   ]
  },
  {
   "cell_type": "code",
   "execution_count": 344,
   "id": "4d377e53",
   "metadata": {},
   "outputs": [
    {
     "data": {
      "text/html": [
       "<div>\n",
       "<style scoped>\n",
       "    .dataframe tbody tr th:only-of-type {\n",
       "        vertical-align: middle;\n",
       "    }\n",
       "\n",
       "    .dataframe tbody tr th {\n",
       "        vertical-align: top;\n",
       "    }\n",
       "\n",
       "    .dataframe thead th {\n",
       "        text-align: right;\n",
       "    }\n",
       "</style>\n",
       "<table border=\"1\" class=\"dataframe\">\n",
       "  <thead>\n",
       "    <tr style=\"text-align: right;\">\n",
       "      <th></th>\n",
       "      <th>date</th>\n",
       "      <th>visitorsPerDateA</th>\n",
       "    </tr>\n",
       "  </thead>\n",
       "  <tbody>\n",
       "    <tr>\n",
       "      <th>0</th>\n",
       "      <td>2019-08-01</td>\n",
       "      <td>719</td>\n",
       "    </tr>\n",
       "    <tr>\n",
       "      <th>1</th>\n",
       "      <td>2019-08-02</td>\n",
       "      <td>619</td>\n",
       "    </tr>\n",
       "    <tr>\n",
       "      <th>2</th>\n",
       "      <td>2019-08-03</td>\n",
       "      <td>507</td>\n",
       "    </tr>\n",
       "    <tr>\n",
       "      <th>3</th>\n",
       "      <td>2019-08-04</td>\n",
       "      <td>717</td>\n",
       "    </tr>\n",
       "    <tr>\n",
       "      <th>4</th>\n",
       "      <td>2019-08-05</td>\n",
       "      <td>756</td>\n",
       "    </tr>\n",
       "  </tbody>\n",
       "</table>\n",
       "</div>"
      ],
      "text/plain": [
       "         date  visitorsPerDateA\n",
       "0  2019-08-01               719\n",
       "1  2019-08-02               619\n",
       "2  2019-08-03               507\n",
       "3  2019-08-04               717\n",
       "4  2019-08-05               756"
      ]
     },
     "execution_count": 344,
     "metadata": {},
     "output_type": "execute_result"
    }
   ],
   "source": [
    "visitorsADaily = visitors[visitors['group'] == 'A'][['date', 'visitors']]\n",
    "visitorsADaily.columns = ['date', 'visitorsPerDateA']\n",
    "visitorsADaily.head()"
   ]
  },
  {
   "cell_type": "code",
   "execution_count": 345,
   "id": "efb2f0a2",
   "metadata": {},
   "outputs": [
    {
     "data": {
      "text/html": [
       "<div>\n",
       "<style scoped>\n",
       "    .dataframe tbody tr th:only-of-type {\n",
       "        vertical-align: middle;\n",
       "    }\n",
       "\n",
       "    .dataframe tbody tr th {\n",
       "        vertical-align: top;\n",
       "    }\n",
       "\n",
       "    .dataframe thead th {\n",
       "        text-align: right;\n",
       "    }\n",
       "</style>\n",
       "<table border=\"1\" class=\"dataframe\">\n",
       "  <thead>\n",
       "    <tr style=\"text-align: right;\">\n",
       "      <th></th>\n",
       "      <th>date</th>\n",
       "      <th>visitorsCummulativeA</th>\n",
       "    </tr>\n",
       "  </thead>\n",
       "  <tbody>\n",
       "    <tr>\n",
       "      <th>0</th>\n",
       "      <td>2019-08-01</td>\n",
       "      <td>719</td>\n",
       "    </tr>\n",
       "    <tr>\n",
       "      <th>1</th>\n",
       "      <td>2019-08-02</td>\n",
       "      <td>1338</td>\n",
       "    </tr>\n",
       "    <tr>\n",
       "      <th>2</th>\n",
       "      <td>2019-08-03</td>\n",
       "      <td>1845</td>\n",
       "    </tr>\n",
       "    <tr>\n",
       "      <th>3</th>\n",
       "      <td>2019-08-04</td>\n",
       "      <td>2562</td>\n",
       "    </tr>\n",
       "    <tr>\n",
       "      <th>4</th>\n",
       "      <td>2019-08-05</td>\n",
       "      <td>3318</td>\n",
       "    </tr>\n",
       "  </tbody>\n",
       "</table>\n",
       "</div>"
      ],
      "text/plain": [
       "         date  visitorsCummulativeA\n",
       "0  2019-08-01                   719\n",
       "1  2019-08-02                  1338\n",
       "2  2019-08-03                  1845\n",
       "3  2019-08-04                  2562\n",
       "4  2019-08-05                  3318"
      ]
     },
     "execution_count": 345,
     "metadata": {},
     "output_type": "execute_result"
    }
   ],
   "source": [
    "visitorsACummulative = visitorsADaily.apply(\n",
    "    lambda x: visitorsADaily[visitorsADaily['date'] <= x['date']].agg(\n",
    "        {'date': 'max', 'visitorsPerDateA': 'sum'}\n",
    "    ),\n",
    "    axis=1,\n",
    ")\n",
    "visitorsACummulative.columns = ['date', 'visitorsCummulativeA']\n",
    "visitorsACummulative.head()"
   ]
  },
  {
   "cell_type": "code",
   "execution_count": 346,
   "id": "37cd416d",
   "metadata": {},
   "outputs": [
    {
     "data": {
      "text/html": [
       "<div>\n",
       "<style scoped>\n",
       "    .dataframe tbody tr th:only-of-type {\n",
       "        vertical-align: middle;\n",
       "    }\n",
       "\n",
       "    .dataframe tbody tr th {\n",
       "        vertical-align: top;\n",
       "    }\n",
       "\n",
       "    .dataframe thead th {\n",
       "        text-align: right;\n",
       "    }\n",
       "</style>\n",
       "<table border=\"1\" class=\"dataframe\">\n",
       "  <thead>\n",
       "    <tr style=\"text-align: right;\">\n",
       "      <th></th>\n",
       "      <th>date</th>\n",
       "      <th>visitorsPerDateB</th>\n",
       "    </tr>\n",
       "  </thead>\n",
       "  <tbody>\n",
       "    <tr>\n",
       "      <th>31</th>\n",
       "      <td>2019-08-01</td>\n",
       "      <td>713</td>\n",
       "    </tr>\n",
       "    <tr>\n",
       "      <th>32</th>\n",
       "      <td>2019-08-02</td>\n",
       "      <td>581</td>\n",
       "    </tr>\n",
       "    <tr>\n",
       "      <th>33</th>\n",
       "      <td>2019-08-03</td>\n",
       "      <td>509</td>\n",
       "    </tr>\n",
       "    <tr>\n",
       "      <th>34</th>\n",
       "      <td>2019-08-04</td>\n",
       "      <td>770</td>\n",
       "    </tr>\n",
       "    <tr>\n",
       "      <th>35</th>\n",
       "      <td>2019-08-05</td>\n",
       "      <td>707</td>\n",
       "    </tr>\n",
       "  </tbody>\n",
       "</table>\n",
       "</div>"
      ],
      "text/plain": [
       "          date  visitorsPerDateB\n",
       "31  2019-08-01               713\n",
       "32  2019-08-02               581\n",
       "33  2019-08-03               509\n",
       "34  2019-08-04               770\n",
       "35  2019-08-05               707"
      ]
     },
     "execution_count": 346,
     "metadata": {},
     "output_type": "execute_result"
    }
   ],
   "source": [
    "visitorsBDaily = visitors[visitors['group'] == 'B'][['date', 'visitors']]\n",
    "visitorsBDaily.columns = ['date', 'visitorsPerDateB']\n",
    "visitorsBDaily.head()"
   ]
  },
  {
   "cell_type": "code",
   "execution_count": 347,
   "id": "83608f39",
   "metadata": {
    "scrolled": false
   },
   "outputs": [
    {
     "data": {
      "text/html": [
       "<div>\n",
       "<style scoped>\n",
       "    .dataframe tbody tr th:only-of-type {\n",
       "        vertical-align: middle;\n",
       "    }\n",
       "\n",
       "    .dataframe tbody tr th {\n",
       "        vertical-align: top;\n",
       "    }\n",
       "\n",
       "    .dataframe thead th {\n",
       "        text-align: right;\n",
       "    }\n",
       "</style>\n",
       "<table border=\"1\" class=\"dataframe\">\n",
       "  <thead>\n",
       "    <tr style=\"text-align: right;\">\n",
       "      <th></th>\n",
       "      <th>date</th>\n",
       "      <th>visitorsCummulativeB</th>\n",
       "    </tr>\n",
       "  </thead>\n",
       "  <tbody>\n",
       "    <tr>\n",
       "      <th>31</th>\n",
       "      <td>2019-08-01</td>\n",
       "      <td>713</td>\n",
       "    </tr>\n",
       "    <tr>\n",
       "      <th>32</th>\n",
       "      <td>2019-08-02</td>\n",
       "      <td>1294</td>\n",
       "    </tr>\n",
       "    <tr>\n",
       "      <th>33</th>\n",
       "      <td>2019-08-03</td>\n",
       "      <td>1803</td>\n",
       "    </tr>\n",
       "    <tr>\n",
       "      <th>34</th>\n",
       "      <td>2019-08-04</td>\n",
       "      <td>2573</td>\n",
       "    </tr>\n",
       "    <tr>\n",
       "      <th>35</th>\n",
       "      <td>2019-08-05</td>\n",
       "      <td>3280</td>\n",
       "    </tr>\n",
       "  </tbody>\n",
       "</table>\n",
       "</div>"
      ],
      "text/plain": [
       "          date  visitorsCummulativeB\n",
       "31  2019-08-01                   713\n",
       "32  2019-08-02                  1294\n",
       "33  2019-08-03                  1803\n",
       "34  2019-08-04                  2573\n",
       "35  2019-08-05                  3280"
      ]
     },
     "execution_count": 347,
     "metadata": {},
     "output_type": "execute_result"
    }
   ],
   "source": [
    "visitorsBCummulative = visitorsBDaily.apply(\n",
    "    lambda x: visitorsBDaily[visitorsBDaily['date'] <= x['date']].agg(\n",
    "        {'date': 'max', 'visitorsPerDateB': 'sum'}\n",
    "    ),\n",
    "    axis=1,\n",
    ")\n",
    "visitorsBCummulative.columns = ['date', 'visitorsCummulativeB']\n",
    "visitorsBCummulative.head()"
   ]
  },
  {
   "cell_type": "code",
   "execution_count": 348,
   "id": "37980a9e",
   "metadata": {
    "scrolled": true
   },
   "outputs": [
    {
     "data": {
      "text/html": [
       "<div>\n",
       "<style scoped>\n",
       "    .dataframe tbody tr th:only-of-type {\n",
       "        vertical-align: middle;\n",
       "    }\n",
       "\n",
       "    .dataframe tbody tr th {\n",
       "        vertical-align: top;\n",
       "    }\n",
       "\n",
       "    .dataframe thead th {\n",
       "        text-align: right;\n",
       "    }\n",
       "</style>\n",
       "<table border=\"1\" class=\"dataframe\">\n",
       "  <thead>\n",
       "    <tr style=\"text-align: right;\">\n",
       "      <th></th>\n",
       "      <th>transactionId</th>\n",
       "      <th>visitorId</th>\n",
       "      <th>date</th>\n",
       "      <th>revenue</th>\n",
       "      <th>group</th>\n",
       "    </tr>\n",
       "  </thead>\n",
       "  <tbody>\n",
       "    <tr>\n",
       "      <th>0</th>\n",
       "      <td>3667963787</td>\n",
       "      <td>3312258926</td>\n",
       "      <td>2019-08-15</td>\n",
       "      <td>1650</td>\n",
       "      <td>B</td>\n",
       "    </tr>\n",
       "    <tr>\n",
       "      <th>1</th>\n",
       "      <td>2804400009</td>\n",
       "      <td>3642806036</td>\n",
       "      <td>2019-08-15</td>\n",
       "      <td>730</td>\n",
       "      <td>B</td>\n",
       "    </tr>\n",
       "    <tr>\n",
       "      <th>2</th>\n",
       "      <td>2961555356</td>\n",
       "      <td>4069496402</td>\n",
       "      <td>2019-08-15</td>\n",
       "      <td>400</td>\n",
       "      <td>A</td>\n",
       "    </tr>\n",
       "    <tr>\n",
       "      <th>3</th>\n",
       "      <td>3797467345</td>\n",
       "      <td>1196621759</td>\n",
       "      <td>2019-08-15</td>\n",
       "      <td>9759</td>\n",
       "      <td>B</td>\n",
       "    </tr>\n",
       "    <tr>\n",
       "      <th>4</th>\n",
       "      <td>2282983706</td>\n",
       "      <td>2322279887</td>\n",
       "      <td>2019-08-15</td>\n",
       "      <td>2308</td>\n",
       "      <td>B</td>\n",
       "    </tr>\n",
       "  </tbody>\n",
       "</table>\n",
       "</div>"
      ],
      "text/plain": [
       "   transactionId   visitorId        date  revenue group\n",
       "0     3667963787  3312258926  2019-08-15     1650     B\n",
       "1     2804400009  3642806036  2019-08-15      730     B\n",
       "2     2961555356  4069496402  2019-08-15      400     A\n",
       "3     3797467345  1196621759  2019-08-15     9759     B\n",
       "4     2282983706  2322279887  2019-08-15     2308     B"
      ]
     },
     "execution_count": 348,
     "metadata": {},
     "output_type": "execute_result"
    }
   ],
   "source": [
    "orders.head()"
   ]
  },
  {
   "cell_type": "code",
   "execution_count": 349,
   "id": "df69fd47",
   "metadata": {},
   "outputs": [
    {
     "data": {
      "text/html": [
       "<div>\n",
       "<style scoped>\n",
       "    .dataframe tbody tr th:only-of-type {\n",
       "        vertical-align: middle;\n",
       "    }\n",
       "\n",
       "    .dataframe tbody tr th {\n",
       "        vertical-align: top;\n",
       "    }\n",
       "\n",
       "    .dataframe thead th {\n",
       "        text-align: right;\n",
       "    }\n",
       "</style>\n",
       "<table border=\"1\" class=\"dataframe\">\n",
       "  <thead>\n",
       "    <tr style=\"text-align: right;\">\n",
       "      <th></th>\n",
       "      <th>date</th>\n",
       "      <th>ordersPerDateA</th>\n",
       "      <th>revenuePerDateA</th>\n",
       "    </tr>\n",
       "  </thead>\n",
       "  <tbody>\n",
       "    <tr>\n",
       "      <th>0</th>\n",
       "      <td>2019-08-01</td>\n",
       "      <td>24</td>\n",
       "      <td>148579</td>\n",
       "    </tr>\n",
       "    <tr>\n",
       "      <th>1</th>\n",
       "      <td>2019-08-02</td>\n",
       "      <td>20</td>\n",
       "      <td>93822</td>\n",
       "    </tr>\n",
       "    <tr>\n",
       "      <th>2</th>\n",
       "      <td>2019-08-03</td>\n",
       "      <td>24</td>\n",
       "      <td>112473</td>\n",
       "    </tr>\n",
       "    <tr>\n",
       "      <th>3</th>\n",
       "      <td>2019-08-04</td>\n",
       "      <td>16</td>\n",
       "      <td>70825</td>\n",
       "    </tr>\n",
       "    <tr>\n",
       "      <th>4</th>\n",
       "      <td>2019-08-05</td>\n",
       "      <td>25</td>\n",
       "      <td>124218</td>\n",
       "    </tr>\n",
       "  </tbody>\n",
       "</table>\n",
       "</div>"
      ],
      "text/plain": [
       "         date  ordersPerDateA  revenuePerDateA\n",
       "0  2019-08-01              24           148579\n",
       "1  2019-08-02              20            93822\n",
       "2  2019-08-03              24           112473\n",
       "3  2019-08-04              16            70825\n",
       "4  2019-08-05              25           124218"
      ]
     },
     "execution_count": 349,
     "metadata": {},
     "output_type": "execute_result"
    }
   ],
   "source": [
    "ordersADaily = (\n",
    "    orders[orders['group'] == 'A'][['date', 'transactionId', 'visitorId', 'revenue']]\n",
    "    .groupby('date', as_index=False)\n",
    "    .agg({'transactionId': pd.Series.nunique, 'revenue': 'sum'})\n",
    ")\n",
    "ordersADaily.columns = ['date', 'ordersPerDateA', 'revenuePerDateA']\n",
    "ordersADaily.head()"
   ]
  },
  {
   "cell_type": "code",
   "execution_count": 350,
   "id": "676afed4",
   "metadata": {},
   "outputs": [
    {
     "data": {
      "text/html": [
       "<div>\n",
       "<style scoped>\n",
       "    .dataframe tbody tr th:only-of-type {\n",
       "        vertical-align: middle;\n",
       "    }\n",
       "\n",
       "    .dataframe tbody tr th {\n",
       "        vertical-align: top;\n",
       "    }\n",
       "\n",
       "    .dataframe thead th {\n",
       "        text-align: right;\n",
       "    }\n",
       "</style>\n",
       "<table border=\"1\" class=\"dataframe\">\n",
       "  <thead>\n",
       "    <tr style=\"text-align: right;\">\n",
       "      <th></th>\n",
       "      <th>date</th>\n",
       "      <th>ordersCummulativeA</th>\n",
       "      <th>revenueCummulativeA</th>\n",
       "    </tr>\n",
       "  </thead>\n",
       "  <tbody>\n",
       "    <tr>\n",
       "      <th>0</th>\n",
       "      <td>2019-08-01</td>\n",
       "      <td>24</td>\n",
       "      <td>148579</td>\n",
       "    </tr>\n",
       "    <tr>\n",
       "      <th>1</th>\n",
       "      <td>2019-08-02</td>\n",
       "      <td>44</td>\n",
       "      <td>242401</td>\n",
       "    </tr>\n",
       "    <tr>\n",
       "      <th>2</th>\n",
       "      <td>2019-08-03</td>\n",
       "      <td>68</td>\n",
       "      <td>354874</td>\n",
       "    </tr>\n",
       "    <tr>\n",
       "      <th>3</th>\n",
       "      <td>2019-08-04</td>\n",
       "      <td>84</td>\n",
       "      <td>425699</td>\n",
       "    </tr>\n",
       "    <tr>\n",
       "      <th>4</th>\n",
       "      <td>2019-08-05</td>\n",
       "      <td>109</td>\n",
       "      <td>549917</td>\n",
       "    </tr>\n",
       "  </tbody>\n",
       "</table>\n",
       "</div>"
      ],
      "text/plain": [
       "         date  ordersCummulativeA  revenueCummulativeA\n",
       "0  2019-08-01                  24               148579\n",
       "1  2019-08-02                  44               242401\n",
       "2  2019-08-03                  68               354874\n",
       "3  2019-08-04                  84               425699\n",
       "4  2019-08-05                 109               549917"
      ]
     },
     "execution_count": 350,
     "metadata": {},
     "output_type": "execute_result"
    }
   ],
   "source": [
    "ordersACummulative = ordersADaily.apply(\n",
    "    lambda x: ordersADaily[ordersADaily['date'] <= x['date']].agg(\n",
    "        {'date': 'max', 'ordersPerDateA': 'sum', 'revenuePerDateA': 'sum'}\n",
    "    ), \n",
    "    axis=1,\n",
    ").sort_values(by=['date'])\n",
    "ordersACummulative.columns = ['date','ordersCummulativeA','revenueCummulativeA']\n",
    "ordersACummulative.head()"
   ]
  },
  {
   "cell_type": "code",
   "execution_count": 351,
   "id": "b77cf054",
   "metadata": {},
   "outputs": [
    {
     "data": {
      "text/html": [
       "<div>\n",
       "<style scoped>\n",
       "    .dataframe tbody tr th:only-of-type {\n",
       "        vertical-align: middle;\n",
       "    }\n",
       "\n",
       "    .dataframe tbody tr th {\n",
       "        vertical-align: top;\n",
       "    }\n",
       "\n",
       "    .dataframe thead th {\n",
       "        text-align: right;\n",
       "    }\n",
       "</style>\n",
       "<table border=\"1\" class=\"dataframe\">\n",
       "  <thead>\n",
       "    <tr style=\"text-align: right;\">\n",
       "      <th></th>\n",
       "      <th>date</th>\n",
       "      <th>ordersPerDateB</th>\n",
       "      <th>revenuePerDateB</th>\n",
       "    </tr>\n",
       "  </thead>\n",
       "  <tbody>\n",
       "    <tr>\n",
       "      <th>0</th>\n",
       "      <td>2019-08-01</td>\n",
       "      <td>21</td>\n",
       "      <td>101217</td>\n",
       "    </tr>\n",
       "    <tr>\n",
       "      <th>1</th>\n",
       "      <td>2019-08-02</td>\n",
       "      <td>24</td>\n",
       "      <td>165531</td>\n",
       "    </tr>\n",
       "    <tr>\n",
       "      <th>2</th>\n",
       "      <td>2019-08-03</td>\n",
       "      <td>16</td>\n",
       "      <td>114248</td>\n",
       "    </tr>\n",
       "    <tr>\n",
       "      <th>3</th>\n",
       "      <td>2019-08-04</td>\n",
       "      <td>17</td>\n",
       "      <td>108571</td>\n",
       "    </tr>\n",
       "    <tr>\n",
       "      <th>4</th>\n",
       "      <td>2019-08-05</td>\n",
       "      <td>23</td>\n",
       "      <td>92428</td>\n",
       "    </tr>\n",
       "  </tbody>\n",
       "</table>\n",
       "</div>"
      ],
      "text/plain": [
       "         date  ordersPerDateB  revenuePerDateB\n",
       "0  2019-08-01              21           101217\n",
       "1  2019-08-02              24           165531\n",
       "2  2019-08-03              16           114248\n",
       "3  2019-08-04              17           108571\n",
       "4  2019-08-05              23            92428"
      ]
     },
     "execution_count": 351,
     "metadata": {},
     "output_type": "execute_result"
    }
   ],
   "source": [
    "ordersBDaily = (\n",
    "    orders[orders['group'] == 'B'][['date', 'transactionId', 'visitorId', 'revenue']]\n",
    "    .groupby('date', as_index=False)\n",
    "    .agg({'transactionId': pd.Series.nunique, 'revenue': 'sum'})\n",
    ")\n",
    "ordersBDaily.columns = ['date', 'ordersPerDateB', 'revenuePerDateB']\n",
    "ordersBDaily.head()"
   ]
  },
  {
   "cell_type": "code",
   "execution_count": 352,
   "id": "85c31525",
   "metadata": {},
   "outputs": [
    {
     "data": {
      "text/html": [
       "<div>\n",
       "<style scoped>\n",
       "    .dataframe tbody tr th:only-of-type {\n",
       "        vertical-align: middle;\n",
       "    }\n",
       "\n",
       "    .dataframe tbody tr th {\n",
       "        vertical-align: top;\n",
       "    }\n",
       "\n",
       "    .dataframe thead th {\n",
       "        text-align: right;\n",
       "    }\n",
       "</style>\n",
       "<table border=\"1\" class=\"dataframe\">\n",
       "  <thead>\n",
       "    <tr style=\"text-align: right;\">\n",
       "      <th></th>\n",
       "      <th>date</th>\n",
       "      <th>ordersCummulativeB</th>\n",
       "      <th>revenueCummulativeB</th>\n",
       "    </tr>\n",
       "  </thead>\n",
       "  <tbody>\n",
       "    <tr>\n",
       "      <th>0</th>\n",
       "      <td>2019-08-01</td>\n",
       "      <td>21</td>\n",
       "      <td>101217</td>\n",
       "    </tr>\n",
       "    <tr>\n",
       "      <th>1</th>\n",
       "      <td>2019-08-02</td>\n",
       "      <td>45</td>\n",
       "      <td>266748</td>\n",
       "    </tr>\n",
       "    <tr>\n",
       "      <th>2</th>\n",
       "      <td>2019-08-03</td>\n",
       "      <td>61</td>\n",
       "      <td>380996</td>\n",
       "    </tr>\n",
       "    <tr>\n",
       "      <th>3</th>\n",
       "      <td>2019-08-04</td>\n",
       "      <td>78</td>\n",
       "      <td>489567</td>\n",
       "    </tr>\n",
       "    <tr>\n",
       "      <th>4</th>\n",
       "      <td>2019-08-05</td>\n",
       "      <td>101</td>\n",
       "      <td>581995</td>\n",
       "    </tr>\n",
       "  </tbody>\n",
       "</table>\n",
       "</div>"
      ],
      "text/plain": [
       "         date  ordersCummulativeB  revenueCummulativeB\n",
       "0  2019-08-01                  21               101217\n",
       "1  2019-08-02                  45               266748\n",
       "2  2019-08-03                  61               380996\n",
       "3  2019-08-04                  78               489567\n",
       "4  2019-08-05                 101               581995"
      ]
     },
     "execution_count": 352,
     "metadata": {},
     "output_type": "execute_result"
    }
   ],
   "source": [
    "ordersBCummulative = ordersBDaily.apply(\n",
    "    lambda x: ordersBDaily[ordersBDaily['date'] <= x['date']].agg(\n",
    "        {'date': 'max', 'ordersPerDateB': 'sum', 'revenuePerDateB': 'sum'}\n",
    "    ),\n",
    "    axis=1,\n",
    ").sort_values(by=['date'])\n",
    "ordersBCummulative.columns = ['date','ordersCummulativeB','revenueCummulativeB']\n",
    "ordersBCummulative.head()"
   ]
  },
  {
   "cell_type": "code",
   "execution_count": 353,
   "id": "abfef0f3",
   "metadata": {
    "scrolled": false
   },
   "outputs": [
    {
     "data": {
      "text/html": [
       "<div>\n",
       "<style scoped>\n",
       "    .dataframe tbody tr th:only-of-type {\n",
       "        vertical-align: middle;\n",
       "    }\n",
       "\n",
       "    .dataframe tbody tr th {\n",
       "        vertical-align: top;\n",
       "    }\n",
       "\n",
       "    .dataframe thead th {\n",
       "        text-align: right;\n",
       "    }\n",
       "</style>\n",
       "<table border=\"1\" class=\"dataframe\">\n",
       "  <thead>\n",
       "    <tr style=\"text-align: right;\">\n",
       "      <th></th>\n",
       "      <th>date</th>\n",
       "      <th>ordersPerDateA</th>\n",
       "      <th>revenuePerDateA</th>\n",
       "      <th>ordersPerDateB</th>\n",
       "      <th>revenuePerDateB</th>\n",
       "      <th>ordersCummulativeA</th>\n",
       "      <th>revenueCummulativeA</th>\n",
       "      <th>ordersCummulativeB</th>\n",
       "      <th>revenueCummulativeB</th>\n",
       "      <th>visitorsPerDateA</th>\n",
       "      <th>visitorsPerDateB</th>\n",
       "      <th>visitorsCummulativeA</th>\n",
       "      <th>visitorsCummulativeB</th>\n",
       "    </tr>\n",
       "  </thead>\n",
       "  <tbody>\n",
       "    <tr>\n",
       "      <th>0</th>\n",
       "      <td>2019-08-01</td>\n",
       "      <td>24</td>\n",
       "      <td>148579</td>\n",
       "      <td>21</td>\n",
       "      <td>101217</td>\n",
       "      <td>24</td>\n",
       "      <td>148579</td>\n",
       "      <td>21</td>\n",
       "      <td>101217</td>\n",
       "      <td>719</td>\n",
       "      <td>713</td>\n",
       "      <td>719</td>\n",
       "      <td>713</td>\n",
       "    </tr>\n",
       "    <tr>\n",
       "      <th>1</th>\n",
       "      <td>2019-08-02</td>\n",
       "      <td>20</td>\n",
       "      <td>93822</td>\n",
       "      <td>24</td>\n",
       "      <td>165531</td>\n",
       "      <td>44</td>\n",
       "      <td>242401</td>\n",
       "      <td>45</td>\n",
       "      <td>266748</td>\n",
       "      <td>619</td>\n",
       "      <td>581</td>\n",
       "      <td>1338</td>\n",
       "      <td>1294</td>\n",
       "    </tr>\n",
       "    <tr>\n",
       "      <th>2</th>\n",
       "      <td>2019-08-03</td>\n",
       "      <td>24</td>\n",
       "      <td>112473</td>\n",
       "      <td>16</td>\n",
       "      <td>114248</td>\n",
       "      <td>68</td>\n",
       "      <td>354874</td>\n",
       "      <td>61</td>\n",
       "      <td>380996</td>\n",
       "      <td>507</td>\n",
       "      <td>509</td>\n",
       "      <td>1845</td>\n",
       "      <td>1803</td>\n",
       "    </tr>\n",
       "    <tr>\n",
       "      <th>3</th>\n",
       "      <td>2019-08-04</td>\n",
       "      <td>16</td>\n",
       "      <td>70825</td>\n",
       "      <td>17</td>\n",
       "      <td>108571</td>\n",
       "      <td>84</td>\n",
       "      <td>425699</td>\n",
       "      <td>78</td>\n",
       "      <td>489567</td>\n",
       "      <td>717</td>\n",
       "      <td>770</td>\n",
       "      <td>2562</td>\n",
       "      <td>2573</td>\n",
       "    </tr>\n",
       "    <tr>\n",
       "      <th>4</th>\n",
       "      <td>2019-08-05</td>\n",
       "      <td>25</td>\n",
       "      <td>124218</td>\n",
       "      <td>23</td>\n",
       "      <td>92428</td>\n",
       "      <td>109</td>\n",
       "      <td>549917</td>\n",
       "      <td>101</td>\n",
       "      <td>581995</td>\n",
       "      <td>756</td>\n",
       "      <td>707</td>\n",
       "      <td>3318</td>\n",
       "      <td>3280</td>\n",
       "    </tr>\n",
       "  </tbody>\n",
       "</table>\n",
       "</div>"
      ],
      "text/plain": [
       "         date  ordersPerDateA  revenuePerDateA  ordersPerDateB  \\\n",
       "0  2019-08-01              24           148579              21   \n",
       "1  2019-08-02              20            93822              24   \n",
       "2  2019-08-03              24           112473              16   \n",
       "3  2019-08-04              16            70825              17   \n",
       "4  2019-08-05              25           124218              23   \n",
       "\n",
       "   revenuePerDateB  ordersCummulativeA  revenueCummulativeA  \\\n",
       "0           101217                  24               148579   \n",
       "1           165531                  44               242401   \n",
       "2           114248                  68               354874   \n",
       "3           108571                  84               425699   \n",
       "4            92428                 109               549917   \n",
       "\n",
       "   ordersCummulativeB  revenueCummulativeB  visitorsPerDateA  \\\n",
       "0                  21               101217               719   \n",
       "1                  45               266748               619   \n",
       "2                  61               380996               507   \n",
       "3                  78               489567               717   \n",
       "4                 101               581995               756   \n",
       "\n",
       "   visitorsPerDateB  visitorsCummulativeA  visitorsCummulativeB  \n",
       "0               713                   719                   713  \n",
       "1               581                  1338                  1294  \n",
       "2               509                  1845                  1803  \n",
       "3               770                  2562                  2573  \n",
       "4               707                  3318                  3280  "
      ]
     },
     "execution_count": 353,
     "metadata": {},
     "output_type": "execute_result"
    }
   ],
   "source": [
    "# Объединим все таблицы в одну: \n",
    "data = (\n",
    "    ordersADaily.merge(\n",
    "        ordersBDaily, left_on='date', right_on='date', how='left'\n",
    "    )\n",
    "    .merge(ordersACummulative, left_on='date', right_on='date', how='left')\n",
    "    .merge(ordersBCummulative, left_on='date', right_on='date', how='left')\n",
    "    .merge(visitorsADaily, left_on='date', right_on='date', how='left')\n",
    "    .merge(visitorsBDaily, left_on='date', right_on='date', how='left')\n",
    "    .merge(visitorsACummulative, left_on='date', right_on='date', how='left')\n",
    "    .merge(visitorsBCummulative, left_on='date', right_on='date', how='left')\n",
    ")\n",
    "data.head()"
   ]
  },
  {
   "cell_type": "markdown",
   "id": "681acfab",
   "metadata": {},
   "source": [
    "#### Создадим переменные для пользователей, которые заказывали хотя бы 1 раз, укажем число совершённых заказов:"
   ]
  },
  {
   "cell_type": "code",
   "execution_count": 354,
   "id": "dae7bd6c",
   "metadata": {},
   "outputs": [
    {
     "data": {
      "text/html": [
       "<div>\n",
       "<style scoped>\n",
       "    .dataframe tbody tr th:only-of-type {\n",
       "        vertical-align: middle;\n",
       "    }\n",
       "\n",
       "    .dataframe tbody tr th {\n",
       "        vertical-align: top;\n",
       "    }\n",
       "\n",
       "    .dataframe thead th {\n",
       "        text-align: right;\n",
       "    }\n",
       "</style>\n",
       "<table border=\"1\" class=\"dataframe\">\n",
       "  <thead>\n",
       "    <tr style=\"text-align: right;\">\n",
       "      <th></th>\n",
       "      <th>userId</th>\n",
       "      <th>orders</th>\n",
       "    </tr>\n",
       "  </thead>\n",
       "  <tbody>\n",
       "    <tr>\n",
       "      <th>0</th>\n",
       "      <td>8300375</td>\n",
       "      <td>1</td>\n",
       "    </tr>\n",
       "    <tr>\n",
       "      <th>1</th>\n",
       "      <td>11685486</td>\n",
       "      <td>1</td>\n",
       "    </tr>\n",
       "    <tr>\n",
       "      <th>2</th>\n",
       "      <td>54447517</td>\n",
       "      <td>1</td>\n",
       "    </tr>\n",
       "    <tr>\n",
       "      <th>3</th>\n",
       "      <td>66685450</td>\n",
       "      <td>1</td>\n",
       "    </tr>\n",
       "    <tr>\n",
       "      <th>4</th>\n",
       "      <td>78758296</td>\n",
       "      <td>1</td>\n",
       "    </tr>\n",
       "  </tbody>\n",
       "</table>\n",
       "</div>"
      ],
      "text/plain": [
       "     userId  orders\n",
       "0   8300375       1\n",
       "1  11685486       1\n",
       "2  54447517       1\n",
       "3  66685450       1\n",
       "4  78758296       1"
      ]
     },
     "execution_count": 354,
     "metadata": {},
     "output_type": "execute_result"
    }
   ],
   "source": [
    "ordersByUsersA = (\n",
    "    orders[orders['group'] == 'A']\n",
    "    .groupby('visitorId', as_index=False)\n",
    "    .agg({'transactionId': pd.Series.nunique})\n",
    ")\n",
    "ordersByUsersA.columns = ['userId', 'orders']\n",
    "ordersByUsersA.head()"
   ]
  },
  {
   "cell_type": "code",
   "execution_count": 355,
   "id": "38a046d7",
   "metadata": {
    "scrolled": true
   },
   "outputs": [
    {
     "data": {
      "text/html": [
       "<div>\n",
       "<style scoped>\n",
       "    .dataframe tbody tr th:only-of-type {\n",
       "        vertical-align: middle;\n",
       "    }\n",
       "\n",
       "    .dataframe tbody tr th {\n",
       "        vertical-align: top;\n",
       "    }\n",
       "\n",
       "    .dataframe thead th {\n",
       "        text-align: right;\n",
       "    }\n",
       "</style>\n",
       "<table border=\"1\" class=\"dataframe\">\n",
       "  <thead>\n",
       "    <tr style=\"text-align: right;\">\n",
       "      <th></th>\n",
       "      <th>userId</th>\n",
       "      <th>orders</th>\n",
       "    </tr>\n",
       "  </thead>\n",
       "  <tbody>\n",
       "    <tr>\n",
       "      <th>0</th>\n",
       "      <td>5114589</td>\n",
       "      <td>1</td>\n",
       "    </tr>\n",
       "    <tr>\n",
       "      <th>1</th>\n",
       "      <td>6958315</td>\n",
       "      <td>1</td>\n",
       "    </tr>\n",
       "    <tr>\n",
       "      <th>2</th>\n",
       "      <td>8300375</td>\n",
       "      <td>1</td>\n",
       "    </tr>\n",
       "    <tr>\n",
       "      <th>3</th>\n",
       "      <td>39475350</td>\n",
       "      <td>1</td>\n",
       "    </tr>\n",
       "    <tr>\n",
       "      <th>4</th>\n",
       "      <td>47206413</td>\n",
       "      <td>1</td>\n",
       "    </tr>\n",
       "  </tbody>\n",
       "</table>\n",
       "</div>"
      ],
      "text/plain": [
       "     userId  orders\n",
       "0   5114589       1\n",
       "1   6958315       1\n",
       "2   8300375       1\n",
       "3  39475350       1\n",
       "4  47206413       1"
      ]
     },
     "execution_count": 355,
     "metadata": {},
     "output_type": "execute_result"
    }
   ],
   "source": [
    "ordersByUsersB = (\n",
    "    orders[orders['group'] == 'B']\n",
    "    .groupby('visitorId', as_index=False)\n",
    "    .agg({'transactionId': pd.Series.nunique})\n",
    ")\n",
    "ordersByUsersB.columns = ['userId', 'orders']\n",
    "ordersByUsersB.head()"
   ]
  },
  {
   "cell_type": "markdown",
   "id": "0be647e3",
   "metadata": {},
   "source": [
    "#### Подготовим выборки к проверке критерием Манна-Уитни.\n",
    "Для этого объявим переменные в которых пользователям из разных групп будет соответствовать количество заказов.\n",
    "Тем, кто ничего не заказал, будут соответствовать нули."
   ]
  },
  {
   "cell_type": "code",
   "execution_count": 356,
   "id": "80c26f0d",
   "metadata": {},
   "outputs": [
    {
     "data": {
      "text/plain": [
       "0    1\n",
       "1    1\n",
       "2    1\n",
       "3    1\n",
       "4    1\n",
       "Name: orders, dtype: int64"
      ]
     },
     "execution_count": 356,
     "metadata": {},
     "output_type": "execute_result"
    }
   ],
   "source": [
    "sampleA = (\n",
    "    pd.concat([ordersByUsersA['orders'],\n",
    "               pd.Series(0, index=np.arange(data['visitorsPerDateA'].sum() - len(ordersByUsersA['orders'])),\n",
    "                         name='orders')],axis=0)\n",
    ")\n",
    "sampleA.head()"
   ]
  },
  {
   "cell_type": "code",
   "execution_count": 357,
   "id": "215eb2bc",
   "metadata": {},
   "outputs": [
    {
     "data": {
      "text/plain": [
       "0    1\n",
       "1    1\n",
       "2    1\n",
       "3    1\n",
       "4    1\n",
       "Name: orders, dtype: int64"
      ]
     },
     "execution_count": 357,
     "metadata": {},
     "output_type": "execute_result"
    }
   ],
   "source": [
    "sampleB = (\n",
    "    pd.concat([ordersByUsersB['orders'],\n",
    "               pd.Series(0, index=np.arange(data['visitorsPerDateB'].sum() - len(ordersByUsersB['orders'])),\n",
    "                         name='orders')],axis=0)\n",
    ")\n",
    "sampleB.head()"
   ]
  },
  {
   "cell_type": "code",
   "execution_count": 358,
   "id": "ff782b0e",
   "metadata": {},
   "outputs": [
    {
     "name": "stdout",
     "output_type": "stream",
     "text": [
      "p-value = 0.017\n"
     ]
    }
   ],
   "source": [
    "print('p-value =',\"{0:.3f}\".format(stats.mannwhitneyu(sampleA, sampleB)[1]))"
   ]
  },
  {
   "cell_type": "code",
   "execution_count": 359,
   "id": "0b6d28e6",
   "metadata": {},
   "outputs": [
    {
     "name": "stdout",
     "output_type": "stream",
     "text": [
      "Относительный прирост среднего числа заказов группы B = 0.138\n"
     ]
    }
   ],
   "source": [
    "print('Относительный прирост среднего числа заказов группы B =',\"{0:.3f}\".format(sampleB.mean() / sampleA.mean() - 1))"
   ]
  },
  {
   "cell_type": "markdown",
   "id": "1f006f25",
   "metadata": {},
   "source": [
    "**Вывод:**\n",
    "- В результате теста по сырым данным получили p-value = 0.017, что меньше alpha = 0.05\n",
    " - Значит можем отвергнуть H0 и **различия в среднем количестве заказов на посетителя между группами есть**.\n",
    " - Относительный прирост среднего числа заказов группы B = 13.8 %"
   ]
  },
  {
   "cell_type": "markdown",
   "id": "ca98ee73",
   "metadata": {},
   "source": [
    "### 2.11 Посчитайте статистическую значимость различий в среднем чеке заказа между группами по «сырым» данным: "
   ]
  },
  {
   "cell_type": "markdown",
   "id": "129515d9",
   "metadata": {},
   "source": [
    "Сформируем гипотезы:\n",
    "- H0: различий в среднем чеке между группами нет. \n",
    "- H1: различия в среднем чеке между группами есть. "
   ]
  },
  {
   "cell_type": "code",
   "execution_count": 360,
   "id": "0bc35e99",
   "metadata": {},
   "outputs": [
    {
     "name": "stdout",
     "output_type": "stream",
     "text": [
      "p-value =  0.729\n"
     ]
    }
   ],
   "source": [
    "print('p-value = ','{0:.3f}'.format(stats.mannwhitneyu(\n",
    "    orders[orders['group']=='A']['revenue'], orders[orders['group']=='B']['revenue'])[1]))"
   ]
  },
  {
   "cell_type": "code",
   "execution_count": 361,
   "id": "e068f724",
   "metadata": {},
   "outputs": [
    {
     "name": "stdout",
     "output_type": "stream",
     "text": [
      "Относительные различия в среднем чеке между группами =  0.259\n"
     ]
    }
   ],
   "source": [
    "print('Относительные различия в среднем чеке между группами = ','{0:.3f}'.format(\n",
    "    orders[orders['group']=='B']['revenue'].mean()/orders[orders['group']=='A']['revenue'].mean()-1))"
   ]
  },
  {
   "cell_type": "markdown",
   "id": "ad915a73",
   "metadata": {},
   "source": [
    "**Вывод:**\n",
    "- P-value значительно больше 0.05. Значит, **причин отвергать нулевую гипотезу и считать, что в среднем чеке есть различия, нет**. \n",
    "- При этом Средний чек группы B значительно больше среднего чека группы A, на ~ 26%"
   ]
  },
  {
   "cell_type": "markdown",
   "id": "9ceb066a",
   "metadata": {},
   "source": [
    "### 2.12 Посчитаем статистическую значимость различий в среднем количестве заказов на посетителя между группами по «очищенным» данным (без аномальных заказов):"
   ]
  },
  {
   "cell_type": "markdown",
   "id": "a1570c9b",
   "metadata": {},
   "source": [
    "Сформируем гипотезы:\n",
    "- H0: различий в среднем количестве заказов на посетителя между группами нет. \n",
    "- H1: различия в среднем количестве заказов на посетителя между группами есть. "
   ]
  },
  {
   "cell_type": "markdown",
   "id": "7d50c6a4",
   "metadata": {},
   "source": [
    "Исходя из результатов в п 2.7 и 2.9:\n",
    "- Примем за аномальных пользователей тех, кто совершил более 2х заказов или совершил заказ дороже 28000.\n"
   ]
  },
  {
   "cell_type": "markdown",
   "id": "908c20db",
   "metadata": {},
   "source": [
    "#### Узнаем сколько всего аномальных пользователей: "
   ]
  },
  {
   "cell_type": "code",
   "execution_count": 362,
   "id": "e350cf67",
   "metadata": {},
   "outputs": [],
   "source": [
    "usersWithManyOrders = pd.concat(\n",
    "    [\n",
    "        ordersByUsersA[ordersByUsersA['orders'] > 2]['userId'],\n",
    "        ordersByUsersB[ordersByUsersB['orders'] > 2]['userId'],\n",
    "    ],\n",
    "    axis=0,\n",
    ")"
   ]
  },
  {
   "cell_type": "code",
   "execution_count": 363,
   "id": "43eeb975",
   "metadata": {},
   "outputs": [
    {
     "data": {
      "text/html": [
       "<div>\n",
       "<style scoped>\n",
       "    .dataframe tbody tr th:only-of-type {\n",
       "        vertical-align: middle;\n",
       "    }\n",
       "\n",
       "    .dataframe tbody tr th {\n",
       "        vertical-align: top;\n",
       "    }\n",
       "\n",
       "    .dataframe thead th {\n",
       "        text-align: right;\n",
       "    }\n",
       "</style>\n",
       "<table border=\"1\" class=\"dataframe\">\n",
       "  <thead>\n",
       "    <tr style=\"text-align: right;\">\n",
       "      <th></th>\n",
       "      <th>transactionId</th>\n",
       "      <th>visitorId</th>\n",
       "      <th>date</th>\n",
       "      <th>revenue</th>\n",
       "      <th>group</th>\n",
       "    </tr>\n",
       "  </thead>\n",
       "  <tbody>\n",
       "    <tr>\n",
       "      <th>0</th>\n",
       "      <td>3667963787</td>\n",
       "      <td>3312258926</td>\n",
       "      <td>2019-08-15</td>\n",
       "      <td>1650</td>\n",
       "      <td>B</td>\n",
       "    </tr>\n",
       "    <tr>\n",
       "      <th>1</th>\n",
       "      <td>2804400009</td>\n",
       "      <td>3642806036</td>\n",
       "      <td>2019-08-15</td>\n",
       "      <td>730</td>\n",
       "      <td>B</td>\n",
       "    </tr>\n",
       "    <tr>\n",
       "      <th>2</th>\n",
       "      <td>2961555356</td>\n",
       "      <td>4069496402</td>\n",
       "      <td>2019-08-15</td>\n",
       "      <td>400</td>\n",
       "      <td>A</td>\n",
       "    </tr>\n",
       "    <tr>\n",
       "      <th>3</th>\n",
       "      <td>3797467345</td>\n",
       "      <td>1196621759</td>\n",
       "      <td>2019-08-15</td>\n",
       "      <td>9759</td>\n",
       "      <td>B</td>\n",
       "    </tr>\n",
       "    <tr>\n",
       "      <th>4</th>\n",
       "      <td>2282983706</td>\n",
       "      <td>2322279887</td>\n",
       "      <td>2019-08-15</td>\n",
       "      <td>2308</td>\n",
       "      <td>B</td>\n",
       "    </tr>\n",
       "  </tbody>\n",
       "</table>\n",
       "</div>"
      ],
      "text/plain": [
       "   transactionId   visitorId        date  revenue group\n",
       "0     3667963787  3312258926  2019-08-15     1650     B\n",
       "1     2804400009  3642806036  2019-08-15      730     B\n",
       "2     2961555356  4069496402  2019-08-15      400     A\n",
       "3     3797467345  1196621759  2019-08-15     9759     B\n",
       "4     2282983706  2322279887  2019-08-15     2308     B"
      ]
     },
     "execution_count": 363,
     "metadata": {},
     "output_type": "execute_result"
    }
   ],
   "source": [
    "orders.head()"
   ]
  },
  {
   "cell_type": "code",
   "execution_count": 364,
   "id": "346af20d",
   "metadata": {},
   "outputs": [],
   "source": [
    "usersWithExpensiveOrders = orders[orders['revenue'] > 20000]['visitorId']"
   ]
  },
  {
   "cell_type": "code",
   "execution_count": 365,
   "id": "f3295aed",
   "metadata": {
    "scrolled": true
   },
   "outputs": [
    {
     "name": "stdout",
     "output_type": "stream",
     "text": [
      "568     113298937\n",
      "1099    148427295\n",
      "461     154576532\n",
      "18      199603092\n",
      "928     204675465\n",
      "dtype: int64\n",
      "Количество аномальных пользователей: 100\n"
     ]
    }
   ],
   "source": [
    "abnormalUsers = (\n",
    "    pd.concat([usersWithManyOrders, usersWithExpensiveOrders], axis=0)\n",
    "    .drop_duplicates()\n",
    "    .sort_values()\n",
    ")\n",
    "\n",
    "print(abnormalUsers.head(5))\n",
    "print('Количество аномальных пользователей:',abnormalUsers.shape[0])"
   ]
  },
  {
   "cell_type": "markdown",
   "id": "32be4c3d",
   "metadata": {},
   "source": [
    "#### Подготовим выборки количества заказов по пользователям по группам теста:"
   ]
  },
  {
   "cell_type": "code",
   "execution_count": 366,
   "id": "6bedfcc0",
   "metadata": {},
   "outputs": [],
   "source": [
    "sampleAFiltered = pd.concat(\n",
    "    [\n",
    "        ordersByUsersA[\n",
    "            np.logical_not(ordersByUsersA['userId'].isin(abnormalUsers))\n",
    "        ]['orders'],\n",
    "        pd.Series(\n",
    "            0,\n",
    "            index=np.arange(\n",
    "                data['visitorsPerDateA'].sum() - len(ordersByUsersA['orders'])\n",
    "            ),\n",
    "            name='orders',\n",
    "        ),\n",
    "    ],\n",
    "    axis=0,\n",
    ")"
   ]
  },
  {
   "cell_type": "code",
   "execution_count": 367,
   "id": "3e09d84f",
   "metadata": {},
   "outputs": [],
   "source": [
    "sampleBFiltered = pd.concat(\n",
    "    [\n",
    "        ordersByUsersB[\n",
    "            np.logical_not(ordersByUsersB['userId'].isin(abnormalUsers))\n",
    "        ]['orders'],\n",
    "        pd.Series(\n",
    "            0,\n",
    "            index=np.arange(\n",
    "                data['visitorsPerDateB'].sum() - len(ordersByUsersB['orders'])\n",
    "            ),\n",
    "            name='orders',\n",
    "        ),\n",
    "    ],\n",
    "    axis=0,\n",
    ") "
   ]
  },
  {
   "cell_type": "markdown",
   "id": "a3628d30",
   "metadata": {},
   "source": [
    "#### Применим статистический критерий Манна-Уитни к полученным выборкам:"
   ]
  },
  {
   "cell_type": "code",
   "execution_count": 368,
   "id": "9fe8175a",
   "metadata": {},
   "outputs": [
    {
     "name": "stdout",
     "output_type": "stream",
     "text": [
      "p-value = 0.018\n"
     ]
    }
   ],
   "source": [
    "print('p-value =','{0:.3f}'.format(stats.mannwhitneyu(sampleAFiltered, sampleBFiltered)[1]))"
   ]
  },
  {
   "cell_type": "code",
   "execution_count": 369,
   "id": "da490f19",
   "metadata": {},
   "outputs": [
    {
     "name": "stdout",
     "output_type": "stream",
     "text": [
      "Относительный прирост в среднем количестве заказов на посетителя группы B =  0.170\n"
     ]
    }
   ],
   "source": [
    "print('Относительный прирост в среднем количестве заказов на посетителя группы B = ','{0:.3f}'.format(sampleBFiltered.mean()/sampleAFiltered.mean()-1)) "
   ]
  },
  {
   "cell_type": "markdown",
   "id": "7afe78b7",
   "metadata": {},
   "source": [
    " **Вывод:**\n",
    " - В результате теста по очищенным данным получили p-value = 0.018, что меньше alpha = 0.05 (0.017 - грязные данные)\n",
    " - Значит можем отвергнуть H0 и **различия в среднем количестве заказов на посетителя между группами есть**.\n",
    " - Относительный прирост среднего числа заказов группы B = 0.170 (13.8 % - грязные данные)\n",
    " - Результат теста по очищенным данным подтвердил изначальный тест по \"сырым\" данным\n",
    " - Относительный прирост по ощиенным данным даже выше!"
   ]
  },
  {
   "cell_type": "markdown",
   "id": "b5811b50",
   "metadata": {},
   "source": [
    "### 2.13 Посчитайте статистическую значимость различий в среднем чеке заказа между группами по «очищенным» данным. \n",
    "Сделайте выводы и предположения."
   ]
  },
  {
   "cell_type": "markdown",
   "id": "5ce056dc",
   "metadata": {},
   "source": [
    "Сформируем гипотезы:\n",
    "- H0:  различий в среднем чеке заказа между группами нет. \n",
    "- H1:  различия в среднем чеке заказа между группами есть. "
   ]
  },
  {
   "cell_type": "code",
   "execution_count": 370,
   "id": "1598fccd",
   "metadata": {},
   "outputs": [
    {
     "name": "stdout",
     "output_type": "stream",
     "text": [
      "p-value =  0.698\n"
     ]
    }
   ],
   "source": [
    "print(\n",
    "    'p-value = ','{0:.3f}'.format(\n",
    "        stats.mannwhitneyu(\n",
    "            orders[\n",
    "                np.logical_and(\n",
    "                    orders['group'] == 'A',\n",
    "                    np.logical_not(orders['visitorId'].isin(abnormalUsers)),\n",
    "                )\n",
    "            ]['revenue'],\n",
    "            orders[\n",
    "                np.logical_and(\n",
    "                    orders['group'] == 'B',\n",
    "                    np.logical_not(orders['visitorId'].isin(abnormalUsers)),\n",
    "                )\n",
    "            ]['revenue'],\n",
    "        )[1]\n",
    "    )\n",
    ")"
   ]
  },
  {
   "cell_type": "code",
   "execution_count": 371,
   "id": "a1dae382",
   "metadata": {},
   "outputs": [
    {
     "name": "stdout",
     "output_type": "stream",
     "text": [
      "Относительный прирост в среднем чеке заказа группы B = -0.030\n"
     ]
    }
   ],
   "source": [
    "print(\n",
    "    'Относительный прирост в среднем чеке заказа группы B =',\"{0:.3f}\".format(\n",
    "        orders[\n",
    "            np.logical_and(\n",
    "                orders['group'] == 'B',\n",
    "                np.logical_not(orders['visitorId'].isin(abnormalUsers)),\n",
    "            )\n",
    "        ]['revenue'].mean()\n",
    "        / orders[\n",
    "            np.logical_and(\n",
    "                orders['group'] == 'A',\n",
    "                np.logical_not(orders['visitorId'].isin(abnormalUsers)),\n",
    "            )\n",
    "        ]['revenue'].mean()\n",
    "        - 1\n",
    "    )\n",
    ")"
   ]
  },
  {
   "cell_type": "markdown",
   "id": "74b3d9d3",
   "metadata": {},
   "source": [
    "**Вывод:**\n",
    "- P-value 0.698 значительно больше alpha 0.05. \n",
    "    - Значит, **причин отвергать нулевую гипотезу и считать, что в среднем чеке есть различия, нет**. \n",
    "- При этом относительной разницы в Среднем чеке группы B по сравнению с группой A, почти нет (всего 3%)"
   ]
  },
  {
   "cell_type": "markdown",
   "id": "13de20ef",
   "metadata": {},
   "source": [
    "### 2.14 Итоговый вывод по результатам теста:\n",
    "#### Варианты решений:\n",
    "1. Остановить тест, зафиксировать победу одной из групп.\n",
    "2. Остановить тест, зафиксировать отсутствие различий между группами.\n",
    "3. Продолжить тест."
   ]
  },
  {
   "cell_type": "markdown",
   "id": "a8d3b68f",
   "metadata": {},
   "source": [
    "#### Суммируем факты собранные в ходе исследования:\n",
    "Исходя из результатов стат тестов и графиков следует: \n",
    " 1. По \"сырым\" и \"очищенным\" данным **ЕСТЬ статистически значимые различия в кол-ве заказов на 1го посетителя**. По очищенным данным прирост гр B = 17%\n",
    " 2. По \"сырым\" и \"очищенным\" данным **НЕТ статистически значимых различий в сумме среднего чека на 1 заказ**. По очищенным данным прирост гр B = - 3%\n",
    " 3. График различия среднего количества заказов между группами сообщает, что результаты группы B втечение месяца росли и к концу месяца сравнялись с группой А и **имеют тенденцию к росту, либо зафиксировались около среднего значения.**\n",
    " \n",
    "**Решение:**  Исходя из вышеперечисленных фактов останавливаем тест и признаём его успешным. Группа B - лучше.\n",
    " \n"
   ]
  },
  {
   "cell_type": "code",
   "execution_count": null,
   "id": "65e81dc7",
   "metadata": {},
   "outputs": [],
   "source": []
  }
 ],
 "metadata": {
  "ExecuteTimeLog": [
   {
    "duration": 3,
    "start_time": "2023-04-21T23:00:29.154Z"
   },
   {
    "duration": 133,
    "start_time": "2023-04-21T23:00:29.160Z"
   },
   {
    "duration": 3,
    "start_time": "2023-04-21T23:00:29.295Z"
   },
   {
    "duration": 13,
    "start_time": "2023-04-21T23:00:29.300Z"
   },
   {
    "duration": 0,
    "start_time": "2023-04-21T23:00:29.316Z"
   },
   {
    "duration": 0,
    "start_time": "2023-04-21T23:00:29.318Z"
   },
   {
    "duration": 0,
    "start_time": "2023-04-21T23:00:29.320Z"
   },
   {
    "duration": 0,
    "start_time": "2023-04-21T23:00:29.322Z"
   },
   {
    "duration": 0,
    "start_time": "2023-04-21T23:00:29.323Z"
   },
   {
    "duration": 0,
    "start_time": "2023-04-21T23:00:29.325Z"
   },
   {
    "duration": 0,
    "start_time": "2023-04-21T23:00:29.326Z"
   },
   {
    "duration": 0,
    "start_time": "2023-04-21T23:00:29.327Z"
   },
   {
    "duration": 0,
    "start_time": "2023-04-21T23:00:29.328Z"
   },
   {
    "duration": 0,
    "start_time": "2023-04-21T23:00:29.329Z"
   },
   {
    "duration": 0,
    "start_time": "2023-04-21T23:00:29.330Z"
   },
   {
    "duration": 0,
    "start_time": "2023-04-21T23:00:29.331Z"
   },
   {
    "duration": 0,
    "start_time": "2023-04-21T23:00:29.332Z"
   },
   {
    "duration": 0,
    "start_time": "2023-04-21T23:00:29.334Z"
   },
   {
    "duration": 0,
    "start_time": "2023-04-21T23:00:29.335Z"
   },
   {
    "duration": 0,
    "start_time": "2023-04-21T23:00:29.336Z"
   },
   {
    "duration": 0,
    "start_time": "2023-04-21T23:00:29.337Z"
   },
   {
    "duration": 0,
    "start_time": "2023-04-21T23:00:29.338Z"
   },
   {
    "duration": 0,
    "start_time": "2023-04-21T23:00:29.339Z"
   },
   {
    "duration": 0,
    "start_time": "2023-04-21T23:00:29.340Z"
   },
   {
    "duration": 0,
    "start_time": "2023-04-21T23:00:29.341Z"
   },
   {
    "duration": 0,
    "start_time": "2023-04-21T23:00:29.342Z"
   },
   {
    "duration": 0,
    "start_time": "2023-04-21T23:00:29.393Z"
   },
   {
    "duration": 0,
    "start_time": "2023-04-21T23:00:29.394Z"
   },
   {
    "duration": 0,
    "start_time": "2023-04-21T23:00:29.395Z"
   },
   {
    "duration": 0,
    "start_time": "2023-04-21T23:00:29.396Z"
   },
   {
    "duration": 0,
    "start_time": "2023-04-21T23:00:29.397Z"
   },
   {
    "duration": 0,
    "start_time": "2023-04-21T23:00:29.398Z"
   },
   {
    "duration": 0,
    "start_time": "2023-04-21T23:00:29.400Z"
   },
   {
    "duration": 0,
    "start_time": "2023-04-21T23:00:29.401Z"
   },
   {
    "duration": 0,
    "start_time": "2023-04-21T23:00:29.403Z"
   },
   {
    "duration": 0,
    "start_time": "2023-04-21T23:00:29.404Z"
   },
   {
    "duration": 0,
    "start_time": "2023-04-21T23:00:29.406Z"
   },
   {
    "duration": 0,
    "start_time": "2023-04-21T23:00:29.407Z"
   },
   {
    "duration": 0,
    "start_time": "2023-04-21T23:00:29.408Z"
   },
   {
    "duration": 0,
    "start_time": "2023-04-21T23:00:29.409Z"
   },
   {
    "duration": 0,
    "start_time": "2023-04-21T23:00:29.411Z"
   },
   {
    "duration": 0,
    "start_time": "2023-04-21T23:00:29.412Z"
   },
   {
    "duration": 1,
    "start_time": "2023-04-21T23:00:29.413Z"
   },
   {
    "duration": 0,
    "start_time": "2023-04-21T23:00:29.415Z"
   },
   {
    "duration": 0,
    "start_time": "2023-04-21T23:00:29.416Z"
   },
   {
    "duration": 0,
    "start_time": "2023-04-21T23:00:29.417Z"
   },
   {
    "duration": 0,
    "start_time": "2023-04-21T23:00:29.418Z"
   },
   {
    "duration": 0,
    "start_time": "2023-04-21T23:00:29.420Z"
   },
   {
    "duration": 0,
    "start_time": "2023-04-21T23:00:29.421Z"
   },
   {
    "duration": 0,
    "start_time": "2023-04-21T23:00:29.422Z"
   },
   {
    "duration": 0,
    "start_time": "2023-04-21T23:00:29.423Z"
   },
   {
    "duration": 0,
    "start_time": "2023-04-21T23:00:29.424Z"
   },
   {
    "duration": 0,
    "start_time": "2023-04-21T23:00:29.425Z"
   },
   {
    "duration": 0,
    "start_time": "2023-04-21T23:00:29.426Z"
   },
   {
    "duration": 0,
    "start_time": "2023-04-21T23:00:29.428Z"
   },
   {
    "duration": 0,
    "start_time": "2023-04-21T23:00:29.429Z"
   },
   {
    "duration": 0,
    "start_time": "2023-04-21T23:00:29.494Z"
   },
   {
    "duration": 0,
    "start_time": "2023-04-21T23:00:29.496Z"
   },
   {
    "duration": 0,
    "start_time": "2023-04-21T23:00:29.497Z"
   },
   {
    "duration": 0,
    "start_time": "2023-04-21T23:00:29.498Z"
   },
   {
    "duration": 0,
    "start_time": "2023-04-21T23:00:29.500Z"
   },
   {
    "duration": 0,
    "start_time": "2023-04-21T23:00:29.501Z"
   },
   {
    "duration": 10,
    "start_time": "2023-04-21T23:00:29.506Z"
   },
   {
    "duration": 12,
    "start_time": "2023-04-21T23:00:29.517Z"
   },
   {
    "duration": 0,
    "start_time": "2023-04-21T23:00:29.531Z"
   },
   {
    "duration": 0,
    "start_time": "2023-04-21T23:00:29.533Z"
   },
   {
    "duration": 0,
    "start_time": "2023-04-21T23:00:29.534Z"
   },
   {
    "duration": 0,
    "start_time": "2023-04-21T23:00:29.594Z"
   },
   {
    "duration": 0,
    "start_time": "2023-04-21T23:00:29.595Z"
   },
   {
    "duration": 0,
    "start_time": "2023-04-21T23:00:29.597Z"
   },
   {
    "duration": 2009,
    "start_time": "2023-04-22T16:01:40.867Z"
   },
   {
    "duration": 332,
    "start_time": "2023-04-22T16:01:42.878Z"
   },
   {
    "duration": 4,
    "start_time": "2023-04-22T16:01:43.212Z"
   },
   {
    "duration": 155,
    "start_time": "2023-04-22T16:01:43.217Z"
   },
   {
    "duration": 0,
    "start_time": "2023-04-22T16:01:43.375Z"
   },
   {
    "duration": 0,
    "start_time": "2023-04-22T16:01:43.377Z"
   },
   {
    "duration": 0,
    "start_time": "2023-04-22T16:01:43.378Z"
   },
   {
    "duration": 0,
    "start_time": "2023-04-22T16:01:43.379Z"
   },
   {
    "duration": 0,
    "start_time": "2023-04-22T16:01:43.381Z"
   },
   {
    "duration": 0,
    "start_time": "2023-04-22T16:01:43.382Z"
   },
   {
    "duration": 0,
    "start_time": "2023-04-22T16:01:43.383Z"
   },
   {
    "duration": 0,
    "start_time": "2023-04-22T16:01:43.385Z"
   },
   {
    "duration": 0,
    "start_time": "2023-04-22T16:01:43.386Z"
   },
   {
    "duration": 0,
    "start_time": "2023-04-22T16:01:43.388Z"
   },
   {
    "duration": 0,
    "start_time": "2023-04-22T16:01:43.389Z"
   },
   {
    "duration": 0,
    "start_time": "2023-04-22T16:01:43.390Z"
   },
   {
    "duration": 0,
    "start_time": "2023-04-22T16:01:43.391Z"
   },
   {
    "duration": 0,
    "start_time": "2023-04-22T16:01:43.393Z"
   },
   {
    "duration": 0,
    "start_time": "2023-04-22T16:01:43.394Z"
   },
   {
    "duration": 0,
    "start_time": "2023-04-22T16:01:43.449Z"
   },
   {
    "duration": 0,
    "start_time": "2023-04-22T16:01:43.451Z"
   },
   {
    "duration": 0,
    "start_time": "2023-04-22T16:01:43.452Z"
   },
   {
    "duration": 0,
    "start_time": "2023-04-22T16:01:43.454Z"
   },
   {
    "duration": 0,
    "start_time": "2023-04-22T16:01:43.455Z"
   },
   {
    "duration": 1,
    "start_time": "2023-04-22T16:01:43.456Z"
   },
   {
    "duration": 0,
    "start_time": "2023-04-22T16:01:43.457Z"
   },
   {
    "duration": 0,
    "start_time": "2023-04-22T16:01:43.459Z"
   },
   {
    "duration": 0,
    "start_time": "2023-04-22T16:01:43.460Z"
   },
   {
    "duration": 0,
    "start_time": "2023-04-22T16:01:43.462Z"
   },
   {
    "duration": 0,
    "start_time": "2023-04-22T16:01:43.462Z"
   },
   {
    "duration": 0,
    "start_time": "2023-04-22T16:01:43.464Z"
   },
   {
    "duration": 0,
    "start_time": "2023-04-22T16:01:43.465Z"
   },
   {
    "duration": 0,
    "start_time": "2023-04-22T16:01:43.465Z"
   },
   {
    "duration": 0,
    "start_time": "2023-04-22T16:01:43.466Z"
   },
   {
    "duration": 1,
    "start_time": "2023-04-22T16:01:43.467Z"
   },
   {
    "duration": 0,
    "start_time": "2023-04-22T16:01:43.469Z"
   },
   {
    "duration": 0,
    "start_time": "2023-04-22T16:01:43.470Z"
   },
   {
    "duration": 0,
    "start_time": "2023-04-22T16:01:43.471Z"
   },
   {
    "duration": 0,
    "start_time": "2023-04-22T16:01:43.472Z"
   },
   {
    "duration": 0,
    "start_time": "2023-04-22T16:01:43.473Z"
   },
   {
    "duration": 0,
    "start_time": "2023-04-22T16:01:43.474Z"
   },
   {
    "duration": 0,
    "start_time": "2023-04-22T16:01:43.475Z"
   },
   {
    "duration": 0,
    "start_time": "2023-04-22T16:01:43.548Z"
   },
   {
    "duration": 0,
    "start_time": "2023-04-22T16:01:43.550Z"
   },
   {
    "duration": 0,
    "start_time": "2023-04-22T16:01:43.551Z"
   },
   {
    "duration": 0,
    "start_time": "2023-04-22T16:01:43.552Z"
   },
   {
    "duration": 0,
    "start_time": "2023-04-22T16:01:43.553Z"
   },
   {
    "duration": 0,
    "start_time": "2023-04-22T16:01:43.554Z"
   },
   {
    "duration": 0,
    "start_time": "2023-04-22T16:01:43.555Z"
   },
   {
    "duration": 0,
    "start_time": "2023-04-22T16:01:43.556Z"
   },
   {
    "duration": 0,
    "start_time": "2023-04-22T16:01:43.557Z"
   },
   {
    "duration": 0,
    "start_time": "2023-04-22T16:01:43.559Z"
   },
   {
    "duration": 0,
    "start_time": "2023-04-22T16:01:43.559Z"
   },
   {
    "duration": 0,
    "start_time": "2023-04-22T16:01:43.560Z"
   },
   {
    "duration": 0,
    "start_time": "2023-04-22T16:01:43.561Z"
   },
   {
    "duration": 0,
    "start_time": "2023-04-22T16:01:43.562Z"
   },
   {
    "duration": 0,
    "start_time": "2023-04-22T16:01:43.563Z"
   },
   {
    "duration": 0,
    "start_time": "2023-04-22T16:01:43.564Z"
   },
   {
    "duration": 0,
    "start_time": "2023-04-22T16:01:43.565Z"
   },
   {
    "duration": 0,
    "start_time": "2023-04-22T16:01:43.566Z"
   },
   {
    "duration": 0,
    "start_time": "2023-04-22T16:01:43.567Z"
   },
   {
    "duration": 0,
    "start_time": "2023-04-22T16:01:43.569Z"
   },
   {
    "duration": 0,
    "start_time": "2023-04-22T16:01:43.570Z"
   },
   {
    "duration": 0,
    "start_time": "2023-04-22T16:01:43.571Z"
   },
   {
    "duration": 0,
    "start_time": "2023-04-22T16:01:43.572Z"
   },
   {
    "duration": 0,
    "start_time": "2023-04-22T16:01:43.573Z"
   },
   {
    "duration": 0,
    "start_time": "2023-04-22T16:01:43.575Z"
   },
   {
    "duration": 0,
    "start_time": "2023-04-22T16:01:43.650Z"
   },
   {
    "duration": 0,
    "start_time": "2023-04-22T16:01:43.651Z"
   },
   {
    "duration": 0,
    "start_time": "2023-04-22T16:01:43.652Z"
   },
   {
    "duration": 978,
    "start_time": "2023-04-22T16:02:38.704Z"
   },
   {
    "duration": 142,
    "start_time": "2023-04-22T16:02:39.684Z"
   },
   {
    "duration": 2,
    "start_time": "2023-04-22T16:02:39.828Z"
   },
   {
    "duration": 13,
    "start_time": "2023-04-22T16:02:39.832Z"
   },
   {
    "duration": 10,
    "start_time": "2023-04-22T16:02:39.848Z"
   },
   {
    "duration": 6,
    "start_time": "2023-04-22T16:02:39.860Z"
   },
   {
    "duration": 5,
    "start_time": "2023-04-22T16:02:39.868Z"
   },
   {
    "duration": 122,
    "start_time": "2023-04-22T16:02:39.875Z"
   },
   {
    "duration": 0,
    "start_time": "2023-04-22T16:02:39.999Z"
   },
   {
    "duration": 0,
    "start_time": "2023-04-22T16:02:40.000Z"
   },
   {
    "duration": 0,
    "start_time": "2023-04-22T16:02:40.001Z"
   },
   {
    "duration": 0,
    "start_time": "2023-04-22T16:02:40.002Z"
   },
   {
    "duration": 0,
    "start_time": "2023-04-22T16:02:40.003Z"
   },
   {
    "duration": 0,
    "start_time": "2023-04-22T16:02:40.004Z"
   },
   {
    "duration": 0,
    "start_time": "2023-04-22T16:02:40.004Z"
   },
   {
    "duration": 0,
    "start_time": "2023-04-22T16:02:40.005Z"
   },
   {
    "duration": 0,
    "start_time": "2023-04-22T16:02:40.006Z"
   },
   {
    "duration": 0,
    "start_time": "2023-04-22T16:02:40.007Z"
   },
   {
    "duration": 0,
    "start_time": "2023-04-22T16:02:40.008Z"
   },
   {
    "duration": 0,
    "start_time": "2023-04-22T16:02:40.009Z"
   },
   {
    "duration": 0,
    "start_time": "2023-04-22T16:02:40.010Z"
   },
   {
    "duration": 0,
    "start_time": "2023-04-22T16:02:40.011Z"
   },
   {
    "duration": 0,
    "start_time": "2023-04-22T16:02:40.012Z"
   },
   {
    "duration": 0,
    "start_time": "2023-04-22T16:02:40.013Z"
   },
   {
    "duration": 0,
    "start_time": "2023-04-22T16:02:40.013Z"
   },
   {
    "duration": 0,
    "start_time": "2023-04-22T16:02:40.015Z"
   },
   {
    "duration": 0,
    "start_time": "2023-04-22T16:02:40.015Z"
   },
   {
    "duration": 0,
    "start_time": "2023-04-22T16:02:40.016Z"
   },
   {
    "duration": 0,
    "start_time": "2023-04-22T16:02:40.017Z"
   },
   {
    "duration": 0,
    "start_time": "2023-04-22T16:02:40.049Z"
   },
   {
    "duration": 0,
    "start_time": "2023-04-22T16:02:40.050Z"
   },
   {
    "duration": 0,
    "start_time": "2023-04-22T16:02:40.051Z"
   },
   {
    "duration": 0,
    "start_time": "2023-04-22T16:02:40.052Z"
   },
   {
    "duration": 0,
    "start_time": "2023-04-22T16:02:40.053Z"
   },
   {
    "duration": 0,
    "start_time": "2023-04-22T16:02:40.054Z"
   },
   {
    "duration": 0,
    "start_time": "2023-04-22T16:02:40.055Z"
   },
   {
    "duration": 0,
    "start_time": "2023-04-22T16:02:40.056Z"
   },
   {
    "duration": 0,
    "start_time": "2023-04-22T16:02:40.057Z"
   },
   {
    "duration": 0,
    "start_time": "2023-04-22T16:02:40.058Z"
   },
   {
    "duration": 0,
    "start_time": "2023-04-22T16:02:40.058Z"
   },
   {
    "duration": 0,
    "start_time": "2023-04-22T16:02:40.059Z"
   },
   {
    "duration": 0,
    "start_time": "2023-04-22T16:02:40.060Z"
   },
   {
    "duration": 0,
    "start_time": "2023-04-22T16:02:40.061Z"
   },
   {
    "duration": 0,
    "start_time": "2023-04-22T16:02:40.062Z"
   },
   {
    "duration": 0,
    "start_time": "2023-04-22T16:02:40.063Z"
   },
   {
    "duration": 0,
    "start_time": "2023-04-22T16:02:40.064Z"
   },
   {
    "duration": 0,
    "start_time": "2023-04-22T16:02:40.065Z"
   },
   {
    "duration": 0,
    "start_time": "2023-04-22T16:02:40.065Z"
   },
   {
    "duration": 0,
    "start_time": "2023-04-22T16:02:40.066Z"
   },
   {
    "duration": 0,
    "start_time": "2023-04-22T16:02:40.067Z"
   },
   {
    "duration": 0,
    "start_time": "2023-04-22T16:02:40.068Z"
   },
   {
    "duration": 0,
    "start_time": "2023-04-22T16:02:40.069Z"
   },
   {
    "duration": 0,
    "start_time": "2023-04-22T16:02:40.070Z"
   },
   {
    "duration": 0,
    "start_time": "2023-04-22T16:02:40.070Z"
   },
   {
    "duration": 0,
    "start_time": "2023-04-22T16:02:40.071Z"
   },
   {
    "duration": 0,
    "start_time": "2023-04-22T16:02:40.072Z"
   },
   {
    "duration": 0,
    "start_time": "2023-04-22T16:02:40.073Z"
   },
   {
    "duration": 0,
    "start_time": "2023-04-22T16:02:40.074Z"
   },
   {
    "duration": 0,
    "start_time": "2023-04-22T16:02:40.075Z"
   },
   {
    "duration": 0,
    "start_time": "2023-04-22T16:02:40.076Z"
   },
   {
    "duration": 0,
    "start_time": "2023-04-22T16:02:40.077Z"
   },
   {
    "duration": 0,
    "start_time": "2023-04-22T16:02:40.077Z"
   },
   {
    "duration": 0,
    "start_time": "2023-04-22T16:02:40.078Z"
   },
   {
    "duration": 0,
    "start_time": "2023-04-22T16:02:40.079Z"
   },
   {
    "duration": 0,
    "start_time": "2023-04-22T16:02:40.079Z"
   },
   {
    "duration": 0,
    "start_time": "2023-04-22T16:02:40.080Z"
   },
   {
    "duration": 0,
    "start_time": "2023-04-22T16:02:40.081Z"
   },
   {
    "duration": 0,
    "start_time": "2023-04-22T16:02:40.082Z"
   },
   {
    "duration": 0,
    "start_time": "2023-04-22T16:02:40.083Z"
   },
   {
    "duration": 1026,
    "start_time": "2023-04-22T16:03:06.465Z"
   },
   {
    "duration": 107,
    "start_time": "2023-04-22T16:03:07.493Z"
   },
   {
    "duration": 3,
    "start_time": "2023-04-22T16:03:07.602Z"
   },
   {
    "duration": 14,
    "start_time": "2023-04-22T16:03:07.607Z"
   },
   {
    "duration": 9,
    "start_time": "2023-04-22T16:03:07.623Z"
   },
   {
    "duration": 8,
    "start_time": "2023-04-22T16:03:07.633Z"
   },
   {
    "duration": 5,
    "start_time": "2023-04-22T16:03:07.642Z"
   },
   {
    "duration": 7,
    "start_time": "2023-04-22T16:03:07.648Z"
   },
   {
    "duration": 10,
    "start_time": "2023-04-22T16:03:07.657Z"
   },
   {
    "duration": 5,
    "start_time": "2023-04-22T16:03:07.670Z"
   },
   {
    "duration": 8,
    "start_time": "2023-04-22T16:03:07.677Z"
   },
   {
    "duration": 12,
    "start_time": "2023-04-22T16:03:07.686Z"
   },
   {
    "duration": 7,
    "start_time": "2023-04-22T16:03:07.700Z"
   },
   {
    "duration": 5,
    "start_time": "2023-04-22T16:03:07.709Z"
   },
   {
    "duration": 12,
    "start_time": "2023-04-22T16:03:07.716Z"
   },
   {
    "duration": 27,
    "start_time": "2023-04-22T16:03:07.730Z"
   },
   {
    "duration": 5,
    "start_time": "2023-04-22T16:03:07.758Z"
   },
   {
    "duration": 15,
    "start_time": "2023-04-22T16:03:07.765Z"
   },
   {
    "duration": 15,
    "start_time": "2023-04-22T16:03:07.782Z"
   },
   {
    "duration": 4,
    "start_time": "2023-04-22T16:03:07.799Z"
   },
   {
    "duration": 7,
    "start_time": "2023-04-22T16:03:07.804Z"
   },
   {
    "duration": 163,
    "start_time": "2023-04-22T16:03:07.812Z"
   },
   {
    "duration": 111,
    "start_time": "2023-04-22T16:03:07.976Z"
   },
   {
    "duration": 10,
    "start_time": "2023-04-22T16:03:08.089Z"
   },
   {
    "duration": 8,
    "start_time": "2023-04-22T16:03:08.101Z"
   },
   {
    "duration": 267,
    "start_time": "2023-04-22T16:03:08.111Z"
   },
   {
    "duration": 259,
    "start_time": "2023-04-22T16:03:08.380Z"
   },
   {
    "duration": 6,
    "start_time": "2023-04-22T16:03:08.648Z"
   },
   {
    "duration": 363,
    "start_time": "2023-04-22T16:03:08.655Z"
   },
   {
    "duration": 11,
    "start_time": "2023-04-22T16:03:09.019Z"
   },
   {
    "duration": 24,
    "start_time": "2023-04-22T16:03:09.032Z"
   },
   {
    "duration": 323,
    "start_time": "2023-04-22T16:03:09.058Z"
   },
   {
    "duration": 12,
    "start_time": "2023-04-22T16:03:09.383Z"
   },
   {
    "duration": 365,
    "start_time": "2023-04-22T16:03:09.396Z"
   },
   {
    "duration": 9,
    "start_time": "2023-04-22T16:03:09.763Z"
   },
   {
    "duration": 8,
    "start_time": "2023-04-22T16:03:09.774Z"
   },
   {
    "duration": 139,
    "start_time": "2023-04-22T16:03:09.783Z"
   },
   {
    "duration": 5,
    "start_time": "2023-04-22T16:03:09.924Z"
   },
   {
    "duration": 3,
    "start_time": "2023-04-22T16:03:09.948Z"
   },
   {
    "duration": 132,
    "start_time": "2023-04-22T16:03:09.952Z"
   },
   {
    "duration": 8,
    "start_time": "2023-04-22T16:03:10.086Z"
   },
   {
    "duration": 14,
    "start_time": "2023-04-22T16:03:10.096Z"
   },
   {
    "duration": 10,
    "start_time": "2023-04-22T16:03:10.112Z"
   },
   {
    "duration": 60,
    "start_time": "2023-04-22T16:03:10.124Z"
   },
   {
    "duration": 15,
    "start_time": "2023-04-22T16:03:10.185Z"
   },
   {
    "duration": 51,
    "start_time": "2023-04-22T16:03:10.201Z"
   },
   {
    "duration": 27,
    "start_time": "2023-04-22T16:03:10.253Z"
   },
   {
    "duration": 47,
    "start_time": "2023-04-22T16:03:10.281Z"
   },
   {
    "duration": 26,
    "start_time": "2023-04-22T16:03:10.329Z"
   },
   {
    "duration": 45,
    "start_time": "2023-04-22T16:03:10.356Z"
   },
   {
    "duration": 47,
    "start_time": "2023-04-22T16:03:10.402Z"
   },
   {
    "duration": 67,
    "start_time": "2023-04-22T16:03:10.450Z"
   },
   {
    "duration": 93,
    "start_time": "2023-04-22T16:03:10.519Z"
   },
   {
    "duration": 12,
    "start_time": "2023-04-22T16:03:10.614Z"
   },
   {
    "duration": 6,
    "start_time": "2023-04-22T16:03:10.627Z"
   },
   {
    "duration": 34,
    "start_time": "2023-04-22T16:03:10.634Z"
   },
   {
    "duration": 4,
    "start_time": "2023-04-22T16:03:10.669Z"
   },
   {
    "duration": 9,
    "start_time": "2023-04-22T16:03:10.674Z"
   },
   {
    "duration": 5,
    "start_time": "2023-04-22T16:03:10.684Z"
   },
   {
    "duration": 10,
    "start_time": "2023-04-22T16:03:10.690Z"
   },
   {
    "duration": 13,
    "start_time": "2023-04-22T16:03:10.701Z"
   },
   {
    "duration": 7,
    "start_time": "2023-04-22T16:03:10.716Z"
   },
   {
    "duration": 26,
    "start_time": "2023-04-22T16:03:10.725Z"
   },
   {
    "duration": 6,
    "start_time": "2023-04-22T16:03:10.752Z"
   },
   {
    "duration": 6,
    "start_time": "2023-04-22T16:03:10.759Z"
   },
   {
    "duration": 24,
    "start_time": "2023-04-22T16:03:10.767Z"
   },
   {
    "duration": 3,
    "start_time": "2023-04-22T16:03:10.792Z"
   },
   {
    "duration": 11,
    "start_time": "2023-04-22T16:03:10.797Z"
   },
   {
    "duration": 7,
    "start_time": "2023-04-22T16:03:10.809Z"
   }
  ],
  "kernelspec": {
   "display_name": "Python 3 (ipykernel)",
   "language": "python",
   "name": "python3"
  },
  "language_info": {
   "codemirror_mode": {
    "name": "ipython",
    "version": 3
   },
   "file_extension": ".py",
   "mimetype": "text/x-python",
   "name": "python",
   "nbconvert_exporter": "python",
   "pygments_lexer": "ipython3",
   "version": "3.9.13"
  },
  "toc": {
   "base_numbering": 1,
   "nav_menu": {},
   "number_sections": true,
   "sideBar": true,
   "skip_h1_title": true,
   "title_cell": "Table of Contents",
   "title_sidebar": "Contents",
   "toc_cell": false,
   "toc_position": {},
   "toc_section_display": true,
   "toc_window_display": false
  }
 },
 "nbformat": 4,
 "nbformat_minor": 5
}
