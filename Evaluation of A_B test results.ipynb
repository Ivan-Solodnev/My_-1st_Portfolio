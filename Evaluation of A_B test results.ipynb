{
 "cells": [
  {
   "cell_type": "markdown",
   "id": "11834835",
   "metadata": {},
   "source": [
    "# Анализ корректности проведения  A/B теста и его результатов"
   ]
  },
  {
   "cell_type": "markdown",
   "id": "cafc968f",
   "metadata": {},
   "source": [
    "## Цели и задачи проекта: \n",
    "\n",
    "1. Оценить корректность проведения теста\n",
    "   - удостовериться, что нет пересечений с конкурирующим тестом и нет пользователей, участвующих в двух группах теста одновременно;\n",
    "   - проверить равномерность распределения пользователей по тестовым группам и правильность их формирования.\n",
    "2. Проанализировать результаты теста"
   ]
  },
  {
   "cell_type": "markdown",
   "id": "9649e5b4",
   "metadata": {},
   "source": [
    "## Описание данных: \n",
    "\n",
    "В вашем распоряжении есть датасет с действиями пользователей, техническое задание и несколько вспомогательных датасетов.\n",
    "\n",
    "**Техническое Задание:**\n",
    "- Название теста: recommender_system_test;\n",
    "- Группы: А (контрольная), B (новая платёжная воронка);\n",
    "- Дата запуска: 2020-12-07;\n",
    "- Дата остановки набора новых пользователей: 2020-12-21;\n",
    "- Дата остановки: 2021-01-04;\n",
    "- Аудитория: 15% новых пользователей из региона EU;\n",
    "- Назначение теста: тестирование изменений, связанных с внедрением улучшенной рекомендательной системы;\n",
    "- Ожидаемое количество участников теста: 6000.\n",
    "- Ожидаемый эффект: за 14 дней с момента регистрации в системе пользователи покажут улучшение каждой метрики не менее, чем на 10%:\n",
    "    1. конверсии в просмотр карточек товаров — событие product_page\n",
    "    2. просмотры корзины — product_cart\n",
    "    3. покупки — purchase."
   ]
  },
  {
   "cell_type": "markdown",
   "id": "4481ce7a",
   "metadata": {},
   "source": [
    "**Данные:**\n",
    "\n",
    "#### /datasets/ab_project_marketing_events.csv — календарь маркетинговых событий на 2020 год;\n",
    "- name — название маркетингового события;\n",
    "- regions — регионы, в которых будет проводиться рекламная кампания;\n",
    "- start_dt — дата начала кампании;\n",
    "- finish_dt — дата завершения кампании.\n",
    "\n",
    "#### /datasets/final_ab_new_users.csv — все пользователи, зарегистрировавшиеся в интернет-магазине в период с 7 по 21 декабря 2020 года;\n",
    "- user_id — идентификатор пользователя;\n",
    "- first_date — дата регистрации;\n",
    "- region — регион пользователя;\n",
    "- device — устройство, с которого происходила регистрация.\n",
    "\n",
    "#### /datasets/final_ab_events.csv — все события новых пользователей в период с 7 декабря 2020 по 4 января 2021 года;\n",
    "- user_id — идентификатор пользователя;\n",
    "- event_dt — дата и время события;\n",
    "- event_name — тип события;\n",
    "- details — дополнительные данные о событии. Например, для покупок, purchase, в этом поле хранится стоимость покупки в долларах.\n",
    "\n",
    "#### /datasets/final_ab_participants.csv — таблица участников тестов.\n",
    "- user_id — идентификатор пользователя;\n",
    "- ab_test — название теста;\n",
    "- group — группа пользователя."
   ]
  },
  {
   "cell_type": "markdown",
   "id": "5b0bc03c",
   "metadata": {},
   "source": [
    "## Описание процесса анализа :\n",
    "\n",
    "1. Исследовать данные \n",
    "\n",
    "    \n",
    "2. Оценить корректность проведения теста. Обратить внимание на:\n",
    "    - Соответствие данных требованиям технического задания. Проверить корректность всех пунктов ТЗ.\n",
    "    - Время проведения теста. Убедиться, что оно не совпадает с маркетинговыми и другими активностями.\n",
    "    - Аудиторию теста. Удостовериться, что нет пересечений с конкурирующим тестом и нет пользователей, участвующих в двух группах теста одновременно.\n",
    "    - Проверить равномерность распределения пользователей по тестовым группам и правильность их формирования.\n",
    "    \n",
    "      \n",
    "3. Провести исследовательский анализ данных:\n",
    "    - Как количество событий на пользователя распределено в выборках?\n",
    "    - Как число событий в выборках распределено по дням?\n",
    "    - Как меняется конверсия в воронке в выборках на разных этапах?\n",
    "    - Понять, есть-ли особенности данных, которые нужно учесть, прежде чем приступать к A/B-тестированию?\n",
    "    \n",
    "     \n",
    "4. Провести оценку результатов A/B-тестирования:\n",
    "    - Проверить статистическую разницу долей z-критерием.\n",
    "    \n",
    "       \n",
    "5. Общий вывод"
   ]
  },
  {
   "cell_type": "code",
   "execution_count": 147,
   "id": "41725085",
   "metadata": {},
   "outputs": [],
   "source": [
    "import pandas as pd\n",
    "from datetime import datetime, timedelta\n",
    "import matplotlib.pyplot as plt\n",
    "import seaborn as sns\n",
    "import plotly.express as px\n",
    "from plotly import graph_objects as go\n",
    "\n",
    "from scipy import stats as st\n",
    "import numpy as np\n",
    "import math as mth"
   ]
  },
  {
   "cell_type": "code",
   "execution_count": 148,
   "id": "9d9d07da",
   "metadata": {},
   "outputs": [],
   "source": [
    "import warnings\n",
    "warnings.filterwarnings('ignore')"
   ]
  },
  {
   "cell_type": "markdown",
   "id": "ddf704ed",
   "metadata": {},
   "source": [
    "## 1. Загрузим и исследуем данные: "
   ]
  },
  {
   "cell_type": "code",
   "execution_count": 149,
   "id": "29838867",
   "metadata": {},
   "outputs": [],
   "source": [
    "try:\n",
    "    marketing_events = pd.read_csv('ab_project_marketing_events.csv')\n",
    "    new_users = pd.read_csv('final_ab_new_users.csv')\n",
    "    events = pd.read_csv('final_ab_events.csv')\n",
    "    ab_participants = pd.read_csv('final_ab_participants.csv')\n",
    "except: \n",
    "    marketing_events = pd.read_csv('/datasets/ab_project_marketing_events.csv')\n",
    "    new_users = pd.read_csv('/datasets/final_ab_new_users.csv')\n",
    "    events = pd.read_csv('/datasets/final_ab_events.csv')\n",
    "    ab_participants = pd.read_csv('/datasets/final_ab_participants.csv')"
   ]
  },
  {
   "cell_type": "markdown",
   "id": "280a365d",
   "metadata": {},
   "source": [
    "#### Исследуем marketing_events:"
   ]
  },
  {
   "cell_type": "code",
   "execution_count": 150,
   "id": "74b06e05",
   "metadata": {},
   "outputs": [
    {
     "data": {
      "text/html": [
       "<div>\n",
       "<style scoped>\n",
       "    .dataframe tbody tr th:only-of-type {\n",
       "        vertical-align: middle;\n",
       "    }\n",
       "\n",
       "    .dataframe tbody tr th {\n",
       "        vertical-align: top;\n",
       "    }\n",
       "\n",
       "    .dataframe thead th {\n",
       "        text-align: right;\n",
       "    }\n",
       "</style>\n",
       "<table border=\"1\" class=\"dataframe\">\n",
       "  <thead>\n",
       "    <tr style=\"text-align: right;\">\n",
       "      <th></th>\n",
       "      <th>name</th>\n",
       "      <th>regions</th>\n",
       "      <th>start_dt</th>\n",
       "      <th>finish_dt</th>\n",
       "    </tr>\n",
       "  </thead>\n",
       "  <tbody>\n",
       "    <tr>\n",
       "      <th>0</th>\n",
       "      <td>Christmas&amp;New Year Promo</td>\n",
       "      <td>EU, N.America</td>\n",
       "      <td>2020-12-25</td>\n",
       "      <td>2021-01-03</td>\n",
       "    </tr>\n",
       "    <tr>\n",
       "      <th>1</th>\n",
       "      <td>St. Valentine's Day Giveaway</td>\n",
       "      <td>EU, CIS, APAC, N.America</td>\n",
       "      <td>2020-02-14</td>\n",
       "      <td>2020-02-16</td>\n",
       "    </tr>\n",
       "    <tr>\n",
       "      <th>2</th>\n",
       "      <td>St. Patric's Day Promo</td>\n",
       "      <td>EU, N.America</td>\n",
       "      <td>2020-03-17</td>\n",
       "      <td>2020-03-19</td>\n",
       "    </tr>\n",
       "    <tr>\n",
       "      <th>3</th>\n",
       "      <td>Easter Promo</td>\n",
       "      <td>EU, CIS, APAC, N.America</td>\n",
       "      <td>2020-04-12</td>\n",
       "      <td>2020-04-19</td>\n",
       "    </tr>\n",
       "    <tr>\n",
       "      <th>4</th>\n",
       "      <td>4th of July Promo</td>\n",
       "      <td>N.America</td>\n",
       "      <td>2020-07-04</td>\n",
       "      <td>2020-07-11</td>\n",
       "    </tr>\n",
       "  </tbody>\n",
       "</table>\n",
       "</div>"
      ],
      "text/plain": [
       "                           name                   regions    start_dt  \\\n",
       "0      Christmas&New Year Promo             EU, N.America  2020-12-25   \n",
       "1  St. Valentine's Day Giveaway  EU, CIS, APAC, N.America  2020-02-14   \n",
       "2        St. Patric's Day Promo             EU, N.America  2020-03-17   \n",
       "3                  Easter Promo  EU, CIS, APAC, N.America  2020-04-12   \n",
       "4             4th of July Promo                 N.America  2020-07-04   \n",
       "\n",
       "    finish_dt  \n",
       "0  2021-01-03  \n",
       "1  2020-02-16  \n",
       "2  2020-03-19  \n",
       "3  2020-04-19  \n",
       "4  2020-07-11  "
      ]
     },
     "execution_count": 150,
     "metadata": {},
     "output_type": "execute_result"
    }
   ],
   "source": [
    "marketing_events.head()"
   ]
  },
  {
   "cell_type": "code",
   "execution_count": 151,
   "id": "b7028a96",
   "metadata": {
    "scrolled": false
   },
   "outputs": [
    {
     "name": "stdout",
     "output_type": "stream",
     "text": [
      "<class 'pandas.core.frame.DataFrame'>\n",
      "RangeIndex: 14 entries, 0 to 13\n",
      "Data columns (total 4 columns):\n",
      " #   Column     Non-Null Count  Dtype \n",
      "---  ------     --------------  ----- \n",
      " 0   name       14 non-null     object\n",
      " 1   regions    14 non-null     object\n",
      " 2   start_dt   14 non-null     object\n",
      " 3   finish_dt  14 non-null     object\n",
      "dtypes: object(4)\n",
      "memory usage: 576.0+ bytes\n"
     ]
    }
   ],
   "source": [
    "marketing_events.info()"
   ]
  },
  {
   "cell_type": "code",
   "execution_count": 152,
   "id": "97d5cb75",
   "metadata": {
    "scrolled": true
   },
   "outputs": [
    {
     "data": {
      "text/plain": [
       "name         0\n",
       "regions      0\n",
       "start_dt     0\n",
       "finish_dt    0\n",
       "dtype: int64"
      ]
     },
     "execution_count": 152,
     "metadata": {},
     "output_type": "execute_result"
    }
   ],
   "source": [
    "marketing_events.isna().sum()"
   ]
  },
  {
   "cell_type": "code",
   "execution_count": 153,
   "id": "b608c94b",
   "metadata": {},
   "outputs": [
    {
     "data": {
      "text/plain": [
       "0"
      ]
     },
     "execution_count": 153,
     "metadata": {},
     "output_type": "execute_result"
    }
   ],
   "source": [
    "marketing_events.duplicated().sum()"
   ]
  },
  {
   "cell_type": "code",
   "execution_count": 154,
   "id": "84cc76ad",
   "metadata": {},
   "outputs": [
    {
     "name": "stdout",
     "output_type": "stream",
     "text": [
      "<class 'pandas.core.frame.DataFrame'>\n",
      "RangeIndex: 14 entries, 0 to 13\n",
      "Data columns (total 4 columns):\n",
      " #   Column     Non-Null Count  Dtype         \n",
      "---  ------     --------------  -----         \n",
      " 0   name       14 non-null     object        \n",
      " 1   regions    14 non-null     object        \n",
      " 2   start_dt   14 non-null     datetime64[ns]\n",
      " 3   finish_dt  14 non-null     datetime64[ns]\n",
      "dtypes: datetime64[ns](2), object(2)\n",
      "memory usage: 576.0+ bytes\n"
     ]
    }
   ],
   "source": [
    "# Переведем даты в datetime:\n",
    "marketing_events['start_dt'] = pd.to_datetime(marketing_events['start_dt'])\n",
    "marketing_events['finish_dt'] = pd.to_datetime(marketing_events['finish_dt'])\n",
    "marketing_events.info()"
   ]
  },
  {
   "cell_type": "markdown",
   "id": "4bc9e6af",
   "metadata": {},
   "source": [
    "#### Исследуем new_users:"
   ]
  },
  {
   "cell_type": "code",
   "execution_count": 155,
   "id": "bd30b6ef",
   "metadata": {
    "scrolled": true
   },
   "outputs": [
    {
     "data": {
      "text/html": [
       "<div>\n",
       "<style scoped>\n",
       "    .dataframe tbody tr th:only-of-type {\n",
       "        vertical-align: middle;\n",
       "    }\n",
       "\n",
       "    .dataframe tbody tr th {\n",
       "        vertical-align: top;\n",
       "    }\n",
       "\n",
       "    .dataframe thead th {\n",
       "        text-align: right;\n",
       "    }\n",
       "</style>\n",
       "<table border=\"1\" class=\"dataframe\">\n",
       "  <thead>\n",
       "    <tr style=\"text-align: right;\">\n",
       "      <th></th>\n",
       "      <th>user_id</th>\n",
       "      <th>first_date</th>\n",
       "      <th>region</th>\n",
       "      <th>device</th>\n",
       "    </tr>\n",
       "  </thead>\n",
       "  <tbody>\n",
       "    <tr>\n",
       "      <th>0</th>\n",
       "      <td>D72A72121175D8BE</td>\n",
       "      <td>2020-12-07</td>\n",
       "      <td>EU</td>\n",
       "      <td>PC</td>\n",
       "    </tr>\n",
       "    <tr>\n",
       "      <th>1</th>\n",
       "      <td>F1C668619DFE6E65</td>\n",
       "      <td>2020-12-07</td>\n",
       "      <td>N.America</td>\n",
       "      <td>Android</td>\n",
       "    </tr>\n",
       "    <tr>\n",
       "      <th>2</th>\n",
       "      <td>2E1BF1D4C37EA01F</td>\n",
       "      <td>2020-12-07</td>\n",
       "      <td>EU</td>\n",
       "      <td>PC</td>\n",
       "    </tr>\n",
       "    <tr>\n",
       "      <th>3</th>\n",
       "      <td>50734A22C0C63768</td>\n",
       "      <td>2020-12-07</td>\n",
       "      <td>EU</td>\n",
       "      <td>iPhone</td>\n",
       "    </tr>\n",
       "    <tr>\n",
       "      <th>4</th>\n",
       "      <td>E1BDDCE0DAFA2679</td>\n",
       "      <td>2020-12-07</td>\n",
       "      <td>N.America</td>\n",
       "      <td>iPhone</td>\n",
       "    </tr>\n",
       "  </tbody>\n",
       "</table>\n",
       "</div>"
      ],
      "text/plain": [
       "            user_id  first_date     region   device\n",
       "0  D72A72121175D8BE  2020-12-07         EU       PC\n",
       "1  F1C668619DFE6E65  2020-12-07  N.America  Android\n",
       "2  2E1BF1D4C37EA01F  2020-12-07         EU       PC\n",
       "3  50734A22C0C63768  2020-12-07         EU   iPhone\n",
       "4  E1BDDCE0DAFA2679  2020-12-07  N.America   iPhone"
      ]
     },
     "execution_count": 155,
     "metadata": {},
     "output_type": "execute_result"
    }
   ],
   "source": [
    " new_users.head()"
   ]
  },
  {
   "cell_type": "code",
   "execution_count": 156,
   "id": "957fdbfa",
   "metadata": {
    "scrolled": true
   },
   "outputs": [
    {
     "name": "stdout",
     "output_type": "stream",
     "text": [
      "<class 'pandas.core.frame.DataFrame'>\n",
      "RangeIndex: 61733 entries, 0 to 61732\n",
      "Data columns (total 4 columns):\n",
      " #   Column      Non-Null Count  Dtype \n",
      "---  ------      --------------  ----- \n",
      " 0   user_id     61733 non-null  object\n",
      " 1   first_date  61733 non-null  object\n",
      " 2   region      61733 non-null  object\n",
      " 3   device      61733 non-null  object\n",
      "dtypes: object(4)\n",
      "memory usage: 1.9+ MB\n"
     ]
    }
   ],
   "source": [
    " new_users.info()"
   ]
  },
  {
   "cell_type": "code",
   "execution_count": 157,
   "id": "41d15c65",
   "metadata": {
    "scrolled": true
   },
   "outputs": [
    {
     "data": {
      "text/plain": [
       "user_id       0\n",
       "first_date    0\n",
       "region        0\n",
       "device        0\n",
       "dtype: int64"
      ]
     },
     "execution_count": 157,
     "metadata": {},
     "output_type": "execute_result"
    }
   ],
   "source": [
    " new_users.isna().sum()"
   ]
  },
  {
   "cell_type": "code",
   "execution_count": 158,
   "id": "12f7d91b",
   "metadata": {},
   "outputs": [
    {
     "data": {
      "text/plain": [
       "0"
      ]
     },
     "execution_count": 158,
     "metadata": {},
     "output_type": "execute_result"
    }
   ],
   "source": [
    " new_users.duplicated().sum()"
   ]
  },
  {
   "cell_type": "markdown",
   "id": "080634bc",
   "metadata": {},
   "source": [
    "перевести дату в datetime"
   ]
  },
  {
   "cell_type": "code",
   "execution_count": 159,
   "id": "ca5c30c5",
   "metadata": {},
   "outputs": [],
   "source": [
    "new_users['first_date'] = pd.to_datetime(new_users['first_date'])"
   ]
  },
  {
   "cell_type": "markdown",
   "id": "170b3184",
   "metadata": {},
   "source": [
    "#### Исследуем events:"
   ]
  },
  {
   "cell_type": "code",
   "execution_count": 160,
   "id": "d9cb4078",
   "metadata": {},
   "outputs": [
    {
     "data": {
      "text/html": [
       "<div>\n",
       "<style scoped>\n",
       "    .dataframe tbody tr th:only-of-type {\n",
       "        vertical-align: middle;\n",
       "    }\n",
       "\n",
       "    .dataframe tbody tr th {\n",
       "        vertical-align: top;\n",
       "    }\n",
       "\n",
       "    .dataframe thead th {\n",
       "        text-align: right;\n",
       "    }\n",
       "</style>\n",
       "<table border=\"1\" class=\"dataframe\">\n",
       "  <thead>\n",
       "    <tr style=\"text-align: right;\">\n",
       "      <th></th>\n",
       "      <th>user_id</th>\n",
       "      <th>event_dt</th>\n",
       "      <th>event_name</th>\n",
       "      <th>details</th>\n",
       "    </tr>\n",
       "  </thead>\n",
       "  <tbody>\n",
       "    <tr>\n",
       "      <th>0</th>\n",
       "      <td>E1BDDCE0DAFA2679</td>\n",
       "      <td>2020-12-07 20:22:03</td>\n",
       "      <td>purchase</td>\n",
       "      <td>99.99</td>\n",
       "    </tr>\n",
       "    <tr>\n",
       "      <th>1</th>\n",
       "      <td>7B6452F081F49504</td>\n",
       "      <td>2020-12-07 09:22:53</td>\n",
       "      <td>purchase</td>\n",
       "      <td>9.99</td>\n",
       "    </tr>\n",
       "    <tr>\n",
       "      <th>2</th>\n",
       "      <td>9CD9F34546DF254C</td>\n",
       "      <td>2020-12-07 12:59:29</td>\n",
       "      <td>purchase</td>\n",
       "      <td>4.99</td>\n",
       "    </tr>\n",
       "    <tr>\n",
       "      <th>3</th>\n",
       "      <td>96F27A054B191457</td>\n",
       "      <td>2020-12-07 04:02:40</td>\n",
       "      <td>purchase</td>\n",
       "      <td>4.99</td>\n",
       "    </tr>\n",
       "    <tr>\n",
       "      <th>4</th>\n",
       "      <td>1FD7660FDF94CA1F</td>\n",
       "      <td>2020-12-07 10:15:09</td>\n",
       "      <td>purchase</td>\n",
       "      <td>4.99</td>\n",
       "    </tr>\n",
       "  </tbody>\n",
       "</table>\n",
       "</div>"
      ],
      "text/plain": [
       "            user_id             event_dt event_name  details\n",
       "0  E1BDDCE0DAFA2679  2020-12-07 20:22:03   purchase    99.99\n",
       "1  7B6452F081F49504  2020-12-07 09:22:53   purchase     9.99\n",
       "2  9CD9F34546DF254C  2020-12-07 12:59:29   purchase     4.99\n",
       "3  96F27A054B191457  2020-12-07 04:02:40   purchase     4.99\n",
       "4  1FD7660FDF94CA1F  2020-12-07 10:15:09   purchase     4.99"
      ]
     },
     "execution_count": 160,
     "metadata": {},
     "output_type": "execute_result"
    }
   ],
   "source": [
    "events.head()"
   ]
  },
  {
   "cell_type": "code",
   "execution_count": 161,
   "id": "6a1f2a04",
   "metadata": {},
   "outputs": [
    {
     "name": "stdout",
     "output_type": "stream",
     "text": [
      "<class 'pandas.core.frame.DataFrame'>\n",
      "RangeIndex: 440317 entries, 0 to 440316\n",
      "Data columns (total 4 columns):\n",
      " #   Column      Non-Null Count   Dtype  \n",
      "---  ------      --------------   -----  \n",
      " 0   user_id     440317 non-null  object \n",
      " 1   event_dt    440317 non-null  object \n",
      " 2   event_name  440317 non-null  object \n",
      " 3   details     62740 non-null   float64\n",
      "dtypes: float64(1), object(3)\n",
      "memory usage: 13.4+ MB\n"
     ]
    }
   ],
   "source": [
    "events.info()"
   ]
  },
  {
   "cell_type": "code",
   "execution_count": 162,
   "id": "b0ce17ac",
   "metadata": {
    "scrolled": true
   },
   "outputs": [
    {
     "data": {
      "text/plain": [
       "user_id            0\n",
       "event_dt           0\n",
       "event_name         0\n",
       "details       377577\n",
       "dtype: int64"
      ]
     },
     "execution_count": 162,
     "metadata": {},
     "output_type": "execute_result"
    }
   ],
   "source": [
    "events.isna().sum()"
   ]
  },
  {
   "cell_type": "code",
   "execution_count": 163,
   "id": "1c745010",
   "metadata": {},
   "outputs": [
    {
     "data": {
      "text/plain": [
       "0"
      ]
     },
     "execution_count": 163,
     "metadata": {},
     "output_type": "execute_result"
    }
   ],
   "source": [
    "events.duplicated().sum()"
   ]
  },
  {
   "cell_type": "markdown",
   "id": "41942f32",
   "metadata": {},
   "source": [
    "- Сделать отдельный столбец с датой в формате datetime\n",
    "- Пропуски в details - это нормально, тк может не быть дополнительной информации по типу события"
   ]
  },
  {
   "cell_type": "code",
   "execution_count": 164,
   "id": "ca43a7bb",
   "metadata": {
    "scrolled": true
   },
   "outputs": [
    {
     "name": "stdout",
     "output_type": "stream",
     "text": [
      "<class 'pandas.core.frame.DataFrame'>\n",
      "RangeIndex: 440317 entries, 0 to 440316\n",
      "Data columns (total 4 columns):\n",
      " #   Column      Non-Null Count   Dtype         \n",
      "---  ------      --------------   -----         \n",
      " 0   user_id     440317 non-null  object        \n",
      " 1   event_dt    440317 non-null  datetime64[ns]\n",
      " 2   event_name  440317 non-null  object        \n",
      " 3   details     62740 non-null   float64       \n",
      "dtypes: datetime64[ns](1), float64(1), object(2)\n",
      "memory usage: 13.4+ MB\n"
     ]
    }
   ],
   "source": [
    "events['event_dt'] = pd.to_datetime(events['event_dt'])\n",
    "events.info()\n",
    "# events['date']"
   ]
  },
  {
   "cell_type": "code",
   "execution_count": 165,
   "id": "0be402e4",
   "metadata": {},
   "outputs": [
    {
     "data": {
      "text/html": [
       "<div>\n",
       "<style scoped>\n",
       "    .dataframe tbody tr th:only-of-type {\n",
       "        vertical-align: middle;\n",
       "    }\n",
       "\n",
       "    .dataframe tbody tr th {\n",
       "        vertical-align: top;\n",
       "    }\n",
       "\n",
       "    .dataframe thead th {\n",
       "        text-align: right;\n",
       "    }\n",
       "</style>\n",
       "<table border=\"1\" class=\"dataframe\">\n",
       "  <thead>\n",
       "    <tr style=\"text-align: right;\">\n",
       "      <th></th>\n",
       "      <th>user_id</th>\n",
       "      <th>event_dt</th>\n",
       "      <th>event_name</th>\n",
       "      <th>details</th>\n",
       "      <th>date</th>\n",
       "    </tr>\n",
       "  </thead>\n",
       "  <tbody>\n",
       "    <tr>\n",
       "      <th>0</th>\n",
       "      <td>E1BDDCE0DAFA2679</td>\n",
       "      <td>2020-12-07 20:22:03</td>\n",
       "      <td>purchase</td>\n",
       "      <td>99.99</td>\n",
       "      <td>2020-12-07</td>\n",
       "    </tr>\n",
       "    <tr>\n",
       "      <th>1</th>\n",
       "      <td>7B6452F081F49504</td>\n",
       "      <td>2020-12-07 09:22:53</td>\n",
       "      <td>purchase</td>\n",
       "      <td>9.99</td>\n",
       "      <td>2020-12-07</td>\n",
       "    </tr>\n",
       "    <tr>\n",
       "      <th>2</th>\n",
       "      <td>9CD9F34546DF254C</td>\n",
       "      <td>2020-12-07 12:59:29</td>\n",
       "      <td>purchase</td>\n",
       "      <td>4.99</td>\n",
       "      <td>2020-12-07</td>\n",
       "    </tr>\n",
       "    <tr>\n",
       "      <th>3</th>\n",
       "      <td>96F27A054B191457</td>\n",
       "      <td>2020-12-07 04:02:40</td>\n",
       "      <td>purchase</td>\n",
       "      <td>4.99</td>\n",
       "      <td>2020-12-07</td>\n",
       "    </tr>\n",
       "    <tr>\n",
       "      <th>4</th>\n",
       "      <td>1FD7660FDF94CA1F</td>\n",
       "      <td>2020-12-07 10:15:09</td>\n",
       "      <td>purchase</td>\n",
       "      <td>4.99</td>\n",
       "      <td>2020-12-07</td>\n",
       "    </tr>\n",
       "  </tbody>\n",
       "</table>\n",
       "</div>"
      ],
      "text/plain": [
       "            user_id            event_dt event_name  details        date\n",
       "0  E1BDDCE0DAFA2679 2020-12-07 20:22:03   purchase    99.99  2020-12-07\n",
       "1  7B6452F081F49504 2020-12-07 09:22:53   purchase     9.99  2020-12-07\n",
       "2  9CD9F34546DF254C 2020-12-07 12:59:29   purchase     4.99  2020-12-07\n",
       "3  96F27A054B191457 2020-12-07 04:02:40   purchase     4.99  2020-12-07\n",
       "4  1FD7660FDF94CA1F 2020-12-07 10:15:09   purchase     4.99  2020-12-07"
      ]
     },
     "execution_count": 165,
     "metadata": {},
     "output_type": "execute_result"
    }
   ],
   "source": [
    "events['date'] = events['event_dt'].dt.date\n",
    "events.head()"
   ]
  },
  {
   "cell_type": "markdown",
   "id": "330f669f",
   "metadata": {},
   "source": [
    "#### Исследуем ab_participants:"
   ]
  },
  {
   "cell_type": "code",
   "execution_count": 166,
   "id": "a8d3e270",
   "metadata": {
    "scrolled": false
   },
   "outputs": [
    {
     "data": {
      "text/html": [
       "<div>\n",
       "<style scoped>\n",
       "    .dataframe tbody tr th:only-of-type {\n",
       "        vertical-align: middle;\n",
       "    }\n",
       "\n",
       "    .dataframe tbody tr th {\n",
       "        vertical-align: top;\n",
       "    }\n",
       "\n",
       "    .dataframe thead th {\n",
       "        text-align: right;\n",
       "    }\n",
       "</style>\n",
       "<table border=\"1\" class=\"dataframe\">\n",
       "  <thead>\n",
       "    <tr style=\"text-align: right;\">\n",
       "      <th></th>\n",
       "      <th>user_id</th>\n",
       "      <th>group</th>\n",
       "      <th>ab_test</th>\n",
       "    </tr>\n",
       "  </thead>\n",
       "  <tbody>\n",
       "    <tr>\n",
       "      <th>0</th>\n",
       "      <td>D1ABA3E2887B6A73</td>\n",
       "      <td>A</td>\n",
       "      <td>recommender_system_test</td>\n",
       "    </tr>\n",
       "    <tr>\n",
       "      <th>1</th>\n",
       "      <td>A7A3664BD6242119</td>\n",
       "      <td>A</td>\n",
       "      <td>recommender_system_test</td>\n",
       "    </tr>\n",
       "    <tr>\n",
       "      <th>2</th>\n",
       "      <td>DABC14FDDFADD29E</td>\n",
       "      <td>A</td>\n",
       "      <td>recommender_system_test</td>\n",
       "    </tr>\n",
       "    <tr>\n",
       "      <th>3</th>\n",
       "      <td>04988C5DF189632E</td>\n",
       "      <td>A</td>\n",
       "      <td>recommender_system_test</td>\n",
       "    </tr>\n",
       "    <tr>\n",
       "      <th>4</th>\n",
       "      <td>482F14783456D21B</td>\n",
       "      <td>B</td>\n",
       "      <td>recommender_system_test</td>\n",
       "    </tr>\n",
       "  </tbody>\n",
       "</table>\n",
       "</div>"
      ],
      "text/plain": [
       "            user_id group                  ab_test\n",
       "0  D1ABA3E2887B6A73     A  recommender_system_test\n",
       "1  A7A3664BD6242119     A  recommender_system_test\n",
       "2  DABC14FDDFADD29E     A  recommender_system_test\n",
       "3  04988C5DF189632E     A  recommender_system_test\n",
       "4  482F14783456D21B     B  recommender_system_test"
      ]
     },
     "execution_count": 166,
     "metadata": {},
     "output_type": "execute_result"
    }
   ],
   "source": [
    "ab_participants.head()"
   ]
  },
  {
   "cell_type": "code",
   "execution_count": 167,
   "id": "de408627",
   "metadata": {},
   "outputs": [
    {
     "name": "stdout",
     "output_type": "stream",
     "text": [
      "<class 'pandas.core.frame.DataFrame'>\n",
      "RangeIndex: 18268 entries, 0 to 18267\n",
      "Data columns (total 3 columns):\n",
      " #   Column   Non-Null Count  Dtype \n",
      "---  ------   --------------  ----- \n",
      " 0   user_id  18268 non-null  object\n",
      " 1   group    18268 non-null  object\n",
      " 2   ab_test  18268 non-null  object\n",
      "dtypes: object(3)\n",
      "memory usage: 428.3+ KB\n"
     ]
    }
   ],
   "source": [
    "ab_participants.info()"
   ]
  },
  {
   "cell_type": "code",
   "execution_count": 168,
   "id": "b0c69505",
   "metadata": {},
   "outputs": [
    {
     "data": {
      "text/plain": [
       "user_id    0\n",
       "group      0\n",
       "ab_test    0\n",
       "dtype: int64"
      ]
     },
     "execution_count": 168,
     "metadata": {},
     "output_type": "execute_result"
    }
   ],
   "source": [
    "ab_participants.isna().sum()"
   ]
  },
  {
   "cell_type": "code",
   "execution_count": 169,
   "id": "8578d31d",
   "metadata": {},
   "outputs": [
    {
     "data": {
      "text/plain": [
       "0"
      ]
     },
     "execution_count": 169,
     "metadata": {},
     "output_type": "execute_result"
    }
   ],
   "source": [
    "ab_participants.duplicated().sum()"
   ]
  },
  {
   "cell_type": "markdown",
   "id": "d788eaa1",
   "metadata": {},
   "source": [
    "### Вывод по итогам изучения данных: \n",
    "- столбцы со временем переведены в datetime64 + создан отдельный столбей с датой в events\n",
    "- явных дуюликатов не обнаружено\n",
    "- пропуски есть только в таблице events в колонке details - это нормально, тк может не быть доп. информации по типу события"
   ]
  },
  {
   "cell_type": "markdown",
   "id": "9fe2cc9e",
   "metadata": {},
   "source": [
    "## 2. Оценить корректность проведения теста:"
   ]
  },
  {
   "cell_type": "markdown",
   "id": "7648466f",
   "metadata": {},
   "source": [
    "### 2.1 Соответствие данных требованиям технического задания\n",
    "Проверим корректность всех пунктов технического задания:\n",
    "\n",
    "**Техническое Задание:**\n",
    "- Название теста: recommender_system_test;\n",
    "- Группы: А (контрольная), B (новая платёжная воронка);\n",
    "- Дата запуска: 2020-12-07;\n",
    "- Дата остановки набора новых пользователей: 2020-12-21;\n",
    "- Дата остановки: 2021-01-04;\n",
    "- Аудитория: 15% новых пользователей из региона EU;\n",
    "- Назначение теста: тестирование изменений, связанных с внедрением улучшенной рекомендательной системы;\n",
    "- Ожидаемое количество участников теста: 6000.\n",
    "- Ожидаемый эффект: за 14 дней с момента регистрации в системе пользователи покажут улучшение каждой метрики не менее, чем на 10%:\n",
    "    1. конверсии в просмотр карточек товаров — событие product_page\n",
    "    2. просмотры корзины — product_cart\n",
    "    3. покупки — purchase."
   ]
  },
  {
   "cell_type": "markdown",
   "id": "fe54b07c",
   "metadata": {},
   "source": [
    "#### Название теста: recommender_system_test;"
   ]
  },
  {
   "cell_type": "code",
   "execution_count": 170,
   "id": "095d07ee",
   "metadata": {
    "scrolled": true
   },
   "outputs": [
    {
     "data": {
      "text/plain": [
       "array(['recommender_system_test', 'interface_eu_test'], dtype=object)"
      ]
     },
     "execution_count": 170,
     "metadata": {},
     "output_type": "execute_result"
    }
   ],
   "source": [
    "ab_participants['ab_test'].unique()"
   ]
  },
  {
   "cell_type": "code",
   "execution_count": 171,
   "id": "81b649c8",
   "metadata": {
    "scrolled": true
   },
   "outputs": [
    {
     "data": {
      "text/html": [
       "<div>\n",
       "<style scoped>\n",
       "    .dataframe tbody tr th:only-of-type {\n",
       "        vertical-align: middle;\n",
       "    }\n",
       "\n",
       "    .dataframe tbody tr th {\n",
       "        vertical-align: top;\n",
       "    }\n",
       "\n",
       "    .dataframe thead th {\n",
       "        text-align: right;\n",
       "    }\n",
       "</style>\n",
       "<table border=\"1\" class=\"dataframe\">\n",
       "  <thead>\n",
       "    <tr style=\"text-align: right;\">\n",
       "      <th></th>\n",
       "      <th>user_id</th>\n",
       "      <th>group</th>\n",
       "      <th>ab_test</th>\n",
       "    </tr>\n",
       "  </thead>\n",
       "  <tbody>\n",
       "    <tr>\n",
       "      <th>0</th>\n",
       "      <td>D1ABA3E2887B6A73</td>\n",
       "      <td>A</td>\n",
       "      <td>recommender_system_test</td>\n",
       "    </tr>\n",
       "  </tbody>\n",
       "</table>\n",
       "</div>"
      ],
      "text/plain": [
       "            user_id group                  ab_test\n",
       "0  D1ABA3E2887B6A73     A  recommender_system_test"
      ]
     },
     "execution_count": 171,
     "metadata": {},
     "output_type": "execute_result"
    }
   ],
   "source": [
    "ab_participants.head(1)"
   ]
  },
  {
   "cell_type": "code",
   "execution_count": 172,
   "id": "fd199139",
   "metadata": {},
   "outputs": [
    {
     "data": {
      "text/html": [
       "<div>\n",
       "<style scoped>\n",
       "    .dataframe tbody tr th:only-of-type {\n",
       "        vertical-align: middle;\n",
       "    }\n",
       "\n",
       "    .dataframe tbody tr th {\n",
       "        vertical-align: top;\n",
       "    }\n",
       "\n",
       "    .dataframe thead th {\n",
       "        text-align: right;\n",
       "    }\n",
       "</style>\n",
       "<table border=\"1\" class=\"dataframe\">\n",
       "  <thead>\n",
       "    <tr style=\"text-align: right;\">\n",
       "      <th></th>\n",
       "      <th>ab_test</th>\n",
       "      <th>user_id</th>\n",
       "    </tr>\n",
       "  </thead>\n",
       "  <tbody>\n",
       "    <tr>\n",
       "      <th>0</th>\n",
       "      <td>interface_eu_test</td>\n",
       "      <td>11567</td>\n",
       "    </tr>\n",
       "    <tr>\n",
       "      <th>1</th>\n",
       "      <td>recommender_system_test</td>\n",
       "      <td>6701</td>\n",
       "    </tr>\n",
       "  </tbody>\n",
       "</table>\n",
       "</div>"
      ],
      "text/plain": [
       "                   ab_test  user_id\n",
       "0        interface_eu_test    11567\n",
       "1  recommender_system_test     6701"
      ]
     },
     "execution_count": 172,
     "metadata": {},
     "output_type": "execute_result"
    }
   ],
   "source": [
    "ab_participants.groupby(['ab_test'],as_index=False)['user_id'].count()"
   ]
  },
  {
   "cell_type": "markdown",
   "id": "53bc1f01",
   "metadata": {},
   "source": [
    "В данных смешались пользователи и группы из 2х тестов. Данных по интересующему нас тесту 6701 строк."
   ]
  },
  {
   "cell_type": "code",
   "execution_count": 173,
   "id": "b8a73551",
   "metadata": {},
   "outputs": [],
   "source": [
    "participants_all_users = ab_participants.merge(new_users, left_on='user_id', right_on='user_id')"
   ]
  },
  {
   "cell_type": "code",
   "execution_count": 174,
   "id": "ace3f111",
   "metadata": {},
   "outputs": [
    {
     "data": {
      "text/plain": [
       "6701"
      ]
     },
     "execution_count": 174,
     "metadata": {},
     "output_type": "execute_result"
    }
   ],
   "source": [
    "# Оставим только нужный тест : \n",
    "ab_participants = ab_participants[ab_participants['ab_test'] == 'recommender_system_test']\n",
    "ab_participants.shape[0]"
   ]
  },
  {
   "cell_type": "markdown",
   "id": "2af754e0",
   "metadata": {},
   "source": [
    "#### Дата запуска: 2020-12-07;"
   ]
  },
  {
   "cell_type": "code",
   "execution_count": 175,
   "id": "e4a67e6a",
   "metadata": {},
   "outputs": [
    {
     "data": {
      "text/html": [
       "<div>\n",
       "<style scoped>\n",
       "    .dataframe tbody tr th:only-of-type {\n",
       "        vertical-align: middle;\n",
       "    }\n",
       "\n",
       "    .dataframe tbody tr th {\n",
       "        vertical-align: top;\n",
       "    }\n",
       "\n",
       "    .dataframe thead th {\n",
       "        text-align: right;\n",
       "    }\n",
       "</style>\n",
       "<table border=\"1\" class=\"dataframe\">\n",
       "  <thead>\n",
       "    <tr style=\"text-align: right;\">\n",
       "      <th></th>\n",
       "      <th>user_id</th>\n",
       "      <th>group</th>\n",
       "      <th>ab_test</th>\n",
       "      <th>first_date</th>\n",
       "      <th>region</th>\n",
       "      <th>device</th>\n",
       "    </tr>\n",
       "  </thead>\n",
       "  <tbody>\n",
       "    <tr>\n",
       "      <th>0</th>\n",
       "      <td>D1ABA3E2887B6A73</td>\n",
       "      <td>A</td>\n",
       "      <td>recommender_system_test</td>\n",
       "      <td>2020-12-07</td>\n",
       "      <td>EU</td>\n",
       "      <td>PC</td>\n",
       "    </tr>\n",
       "    <tr>\n",
       "      <th>1</th>\n",
       "      <td>A7A3664BD6242119</td>\n",
       "      <td>A</td>\n",
       "      <td>recommender_system_test</td>\n",
       "      <td>2020-12-20</td>\n",
       "      <td>EU</td>\n",
       "      <td>iPhone</td>\n",
       "    </tr>\n",
       "    <tr>\n",
       "      <th>2</th>\n",
       "      <td>DABC14FDDFADD29E</td>\n",
       "      <td>A</td>\n",
       "      <td>recommender_system_test</td>\n",
       "      <td>2020-12-08</td>\n",
       "      <td>EU</td>\n",
       "      <td>Mac</td>\n",
       "    </tr>\n",
       "    <tr>\n",
       "      <th>3</th>\n",
       "      <td>04988C5DF189632E</td>\n",
       "      <td>A</td>\n",
       "      <td>recommender_system_test</td>\n",
       "      <td>2020-12-14</td>\n",
       "      <td>EU</td>\n",
       "      <td>iPhone</td>\n",
       "    </tr>\n",
       "    <tr>\n",
       "      <th>4</th>\n",
       "      <td>482F14783456D21B</td>\n",
       "      <td>B</td>\n",
       "      <td>recommender_system_test</td>\n",
       "      <td>2020-12-14</td>\n",
       "      <td>EU</td>\n",
       "      <td>PC</td>\n",
       "    </tr>\n",
       "  </tbody>\n",
       "</table>\n",
       "</div>"
      ],
      "text/plain": [
       "            user_id group                  ab_test first_date region  device\n",
       "0  D1ABA3E2887B6A73     A  recommender_system_test 2020-12-07     EU      PC\n",
       "1  A7A3664BD6242119     A  recommender_system_test 2020-12-20     EU  iPhone\n",
       "2  DABC14FDDFADD29E     A  recommender_system_test 2020-12-08     EU     Mac\n",
       "3  04988C5DF189632E     A  recommender_system_test 2020-12-14     EU  iPhone\n",
       "4  482F14783456D21B     B  recommender_system_test 2020-12-14     EU      PC"
      ]
     },
     "execution_count": 175,
     "metadata": {},
     "output_type": "execute_result"
    }
   ],
   "source": [
    "# Объединим очищенный participants c new_users:\n",
    "participants_new_users = ab_participants.merge(new_users, left_on='user_id', right_on='user_id')\n",
    "participants_new_users.head()"
   ]
  },
  {
   "cell_type": "code",
   "execution_count": 176,
   "id": "a906c25b",
   "metadata": {},
   "outputs": [
    {
     "data": {
      "text/plain": [
       "Timestamp('2020-12-07 00:00:00')"
      ]
     },
     "execution_count": 176,
     "metadata": {},
     "output_type": "execute_result"
    }
   ],
   "source": [
    "participants_new_users[participants_new_users['region'] == 'EU']['first_date'].min()"
   ]
  },
  {
   "cell_type": "markdown",
   "id": "b0c9353f",
   "metadata": {},
   "source": [
    "Минимальная дата регистрации пользователя соответствует."
   ]
  },
  {
   "cell_type": "markdown",
   "id": "0a004f20",
   "metadata": {},
   "source": [
    "#### Дата остановки набора новых пользователей: 2020-12-21;"
   ]
  },
  {
   "cell_type": "code",
   "execution_count": 177,
   "id": "c1905c45",
   "metadata": {
    "scrolled": false
   },
   "outputs": [
    {
     "data": {
      "text/plain": [
       "Timestamp('2020-12-21 00:00:00')"
      ]
     },
     "execution_count": 177,
     "metadata": {},
     "output_type": "execute_result"
    }
   ],
   "source": [
    "participants_new_users[participants_new_users['region'] == 'EU']['first_date'].max()"
   ]
  },
  {
   "cell_type": "markdown",
   "id": "32560f9d",
   "metadata": {},
   "source": [
    "Дата остановки набора новых пользователей - тоже соответствует."
   ]
  },
  {
   "cell_type": "markdown",
   "id": "f81c2b93",
   "metadata": {},
   "source": [
    "#### Дата остановки: 2021-01-04;"
   ]
  },
  {
   "cell_type": "code",
   "execution_count": 178,
   "id": "ed584e62",
   "metadata": {
    "scrolled": true
   },
   "outputs": [
    {
     "data": {
      "text/html": [
       "<div>\n",
       "<style scoped>\n",
       "    .dataframe tbody tr th:only-of-type {\n",
       "        vertical-align: middle;\n",
       "    }\n",
       "\n",
       "    .dataframe tbody tr th {\n",
       "        vertical-align: top;\n",
       "    }\n",
       "\n",
       "    .dataframe thead th {\n",
       "        text-align: right;\n",
       "    }\n",
       "</style>\n",
       "<table border=\"1\" class=\"dataframe\">\n",
       "  <thead>\n",
       "    <tr style=\"text-align: right;\">\n",
       "      <th></th>\n",
       "      <th>user_id</th>\n",
       "      <th>group</th>\n",
       "      <th>ab_test</th>\n",
       "      <th>first_date</th>\n",
       "      <th>region</th>\n",
       "      <th>device</th>\n",
       "      <th>event_dt</th>\n",
       "      <th>event_name</th>\n",
       "      <th>details</th>\n",
       "      <th>date</th>\n",
       "    </tr>\n",
       "  </thead>\n",
       "  <tbody>\n",
       "    <tr>\n",
       "      <th>0</th>\n",
       "      <td>D1ABA3E2887B6A73</td>\n",
       "      <td>A</td>\n",
       "      <td>recommender_system_test</td>\n",
       "      <td>2020-12-07</td>\n",
       "      <td>EU</td>\n",
       "      <td>PC</td>\n",
       "      <td>2020-12-07 14:43:27</td>\n",
       "      <td>purchase</td>\n",
       "      <td>99.99</td>\n",
       "      <td>2020-12-07</td>\n",
       "    </tr>\n",
       "    <tr>\n",
       "      <th>1</th>\n",
       "      <td>D1ABA3E2887B6A73</td>\n",
       "      <td>A</td>\n",
       "      <td>recommender_system_test</td>\n",
       "      <td>2020-12-07</td>\n",
       "      <td>EU</td>\n",
       "      <td>PC</td>\n",
       "      <td>2020-12-25 00:04:56</td>\n",
       "      <td>purchase</td>\n",
       "      <td>4.99</td>\n",
       "      <td>2020-12-25</td>\n",
       "    </tr>\n",
       "    <tr>\n",
       "      <th>2</th>\n",
       "      <td>D1ABA3E2887B6A73</td>\n",
       "      <td>A</td>\n",
       "      <td>recommender_system_test</td>\n",
       "      <td>2020-12-07</td>\n",
       "      <td>EU</td>\n",
       "      <td>PC</td>\n",
       "      <td>2020-12-07 14:43:29</td>\n",
       "      <td>product_cart</td>\n",
       "      <td>NaN</td>\n",
       "      <td>2020-12-07</td>\n",
       "    </tr>\n",
       "    <tr>\n",
       "      <th>3</th>\n",
       "      <td>D1ABA3E2887B6A73</td>\n",
       "      <td>A</td>\n",
       "      <td>recommender_system_test</td>\n",
       "      <td>2020-12-07</td>\n",
       "      <td>EU</td>\n",
       "      <td>PC</td>\n",
       "      <td>2020-12-25 00:04:57</td>\n",
       "      <td>product_cart</td>\n",
       "      <td>NaN</td>\n",
       "      <td>2020-12-25</td>\n",
       "    </tr>\n",
       "    <tr>\n",
       "      <th>4</th>\n",
       "      <td>D1ABA3E2887B6A73</td>\n",
       "      <td>A</td>\n",
       "      <td>recommender_system_test</td>\n",
       "      <td>2020-12-07</td>\n",
       "      <td>EU</td>\n",
       "      <td>PC</td>\n",
       "      <td>2020-12-07 14:43:27</td>\n",
       "      <td>product_page</td>\n",
       "      <td>NaN</td>\n",
       "      <td>2020-12-07</td>\n",
       "    </tr>\n",
       "  </tbody>\n",
       "</table>\n",
       "</div>"
      ],
      "text/plain": [
       "            user_id group                  ab_test first_date region device  \\\n",
       "0  D1ABA3E2887B6A73     A  recommender_system_test 2020-12-07     EU     PC   \n",
       "1  D1ABA3E2887B6A73     A  recommender_system_test 2020-12-07     EU     PC   \n",
       "2  D1ABA3E2887B6A73     A  recommender_system_test 2020-12-07     EU     PC   \n",
       "3  D1ABA3E2887B6A73     A  recommender_system_test 2020-12-07     EU     PC   \n",
       "4  D1ABA3E2887B6A73     A  recommender_system_test 2020-12-07     EU     PC   \n",
       "\n",
       "             event_dt    event_name  details        date  \n",
       "0 2020-12-07 14:43:27      purchase    99.99  2020-12-07  \n",
       "1 2020-12-25 00:04:56      purchase     4.99  2020-12-25  \n",
       "2 2020-12-07 14:43:29  product_cart      NaN  2020-12-07  \n",
       "3 2020-12-25 00:04:57  product_cart      NaN  2020-12-25  \n",
       "4 2020-12-07 14:43:27  product_page      NaN  2020-12-07  "
      ]
     },
     "execution_count": 178,
     "metadata": {},
     "output_type": "execute_result"
    }
   ],
   "source": [
    "participants_new_users_events = participants_new_users.merge(events, how='left', on='user_id')\n",
    "participants_new_users_events.head()"
   ]
  },
  {
   "cell_type": "code",
   "execution_count": 179,
   "id": "0354e5b8",
   "metadata": {},
   "outputs": [
    {
     "data": {
      "text/plain": [
       "Timestamp('2020-12-30 12:42:57')"
      ]
     },
     "execution_count": 179,
     "metadata": {},
     "output_type": "execute_result"
    }
   ],
   "source": [
    "participants_new_users_events[participants_new_users_events['region'] == 'EU']['event_dt'].max()"
   ]
  },
  {
   "cell_type": "markdown",
   "id": "67f00977",
   "metadata": {},
   "source": [
    "Последнее событие зарегистрировано 2020-12-30 - соответствует ТЗ"
   ]
  },
  {
   "cell_type": "markdown",
   "id": "27645e45",
   "metadata": {},
   "source": [
    "#### Аудитория: 15% новых пользователей из региона EU;"
   ]
  },
  {
   "cell_type": "code",
   "execution_count": 180,
   "id": "d673826f",
   "metadata": {},
   "outputs": [],
   "source": [
    "# Кол-во уникальных пользователей из Европы c нашим тестом\n",
    "our_test_eu_users = participants_new_users[participants_new_users['region'] == 'EU']['user_id'].nunique()"
   ]
  },
  {
   "cell_type": "code",
   "execution_count": 181,
   "id": "855fd42d",
   "metadata": {},
   "outputs": [],
   "source": [
    "# Кол-во уникальных пользователей из Европы до 21 числа включительно, в таблице final_ab_new_users(new_users)\n",
    "all_eu_users = new_users[(new_users['region'] == 'EU') & (new_users['first_date'] <= '2020-12-21')]['user_id'].nunique()"
   ]
  },
  {
   "cell_type": "code",
   "execution_count": 182,
   "id": "5296dd9b",
   "metadata": {
    "scrolled": true
   },
   "outputs": [
    {
     "name": "stdout",
     "output_type": "stream",
     "text": [
      "Доля пользователей региона Европа в данных:  15.0 %\n"
     ]
    }
   ],
   "source": [
    "print('Доля пользователей региона Европа в данных: ',our_test_eu_users/all_eu_users*100,'%')"
   ]
  },
  {
   "cell_type": "markdown",
   "id": "90861756",
   "metadata": {},
   "source": [
    "Доля пользователей более 15% - соответствует условиям"
   ]
  },
  {
   "cell_type": "markdown",
   "id": "9ca328d6",
   "metadata": {},
   "source": [
    "#### Ожидаемое количество участников теста: 6000:"
   ]
  },
  {
   "cell_type": "code",
   "execution_count": 183,
   "id": "8483e69c",
   "metadata": {},
   "outputs": [
    {
     "name": "stdout",
     "output_type": "stream",
     "text": [
      "Кол-во участников теста: 6351\n"
     ]
    }
   ],
   "source": [
    "print(\n",
    "    'Кол-во участников теста:',\n",
    "    participants_new_users_events[participants_new_users_events['region'] == 'EU']['user_id'].nunique())"
   ]
  },
  {
   "cell_type": "code",
   "execution_count": 184,
   "id": "3a4d0b06",
   "metadata": {},
   "outputs": [],
   "source": [
    "# Оставим в данных только регион Европа: \n",
    "participants_new_users_events = participants_new_users_events[participants_new_users_events['region'] == 'EU']"
   ]
  },
  {
   "cell_type": "markdown",
   "id": "0083e768",
   "metadata": {},
   "source": [
    "#### Ожидаемый эффект: \n",
    "#### за 14 дней с момента регистрации в системе пользователи покажут улучшение каждой метрики не менее, чем на 10%:\n",
    "    1. конверсии в просмотр карточек товаров — событие product_page\n",
    "    2. просмотры корзины — product_cart\n",
    "    3. покупки — purchase."
   ]
  },
  {
   "cell_type": "code",
   "execution_count": 185,
   "id": "232be039",
   "metadata": {},
   "outputs": [
    {
     "data": {
      "text/html": [
       "<div>\n",
       "<style scoped>\n",
       "    .dataframe tbody tr th:only-of-type {\n",
       "        vertical-align: middle;\n",
       "    }\n",
       "\n",
       "    .dataframe tbody tr th {\n",
       "        vertical-align: top;\n",
       "    }\n",
       "\n",
       "    .dataframe thead th {\n",
       "        text-align: right;\n",
       "    }\n",
       "</style>\n",
       "<table border=\"1\" class=\"dataframe\">\n",
       "  <thead>\n",
       "    <tr style=\"text-align: right;\">\n",
       "      <th></th>\n",
       "      <th>user_id</th>\n",
       "      <th>group</th>\n",
       "      <th>ab_test</th>\n",
       "      <th>first_date</th>\n",
       "      <th>region</th>\n",
       "      <th>device</th>\n",
       "      <th>event_dt</th>\n",
       "      <th>event_name</th>\n",
       "      <th>details</th>\n",
       "      <th>date</th>\n",
       "      <th>lifetime</th>\n",
       "    </tr>\n",
       "  </thead>\n",
       "  <tbody>\n",
       "    <tr>\n",
       "      <th>0</th>\n",
       "      <td>D1ABA3E2887B6A73</td>\n",
       "      <td>A</td>\n",
       "      <td>recommender_system_test</td>\n",
       "      <td>2020-12-07</td>\n",
       "      <td>EU</td>\n",
       "      <td>PC</td>\n",
       "      <td>2020-12-07 14:43:27</td>\n",
       "      <td>purchase</td>\n",
       "      <td>99.99</td>\n",
       "      <td>2020-12-07</td>\n",
       "      <td>0.0</td>\n",
       "    </tr>\n",
       "    <tr>\n",
       "      <th>1</th>\n",
       "      <td>D1ABA3E2887B6A73</td>\n",
       "      <td>A</td>\n",
       "      <td>recommender_system_test</td>\n",
       "      <td>2020-12-07</td>\n",
       "      <td>EU</td>\n",
       "      <td>PC</td>\n",
       "      <td>2020-12-25 00:04:56</td>\n",
       "      <td>purchase</td>\n",
       "      <td>4.99</td>\n",
       "      <td>2020-12-25</td>\n",
       "      <td>18.0</td>\n",
       "    </tr>\n",
       "    <tr>\n",
       "      <th>2</th>\n",
       "      <td>D1ABA3E2887B6A73</td>\n",
       "      <td>A</td>\n",
       "      <td>recommender_system_test</td>\n",
       "      <td>2020-12-07</td>\n",
       "      <td>EU</td>\n",
       "      <td>PC</td>\n",
       "      <td>2020-12-07 14:43:29</td>\n",
       "      <td>product_cart</td>\n",
       "      <td>NaN</td>\n",
       "      <td>2020-12-07</td>\n",
       "      <td>0.0</td>\n",
       "    </tr>\n",
       "    <tr>\n",
       "      <th>3</th>\n",
       "      <td>D1ABA3E2887B6A73</td>\n",
       "      <td>A</td>\n",
       "      <td>recommender_system_test</td>\n",
       "      <td>2020-12-07</td>\n",
       "      <td>EU</td>\n",
       "      <td>PC</td>\n",
       "      <td>2020-12-25 00:04:57</td>\n",
       "      <td>product_cart</td>\n",
       "      <td>NaN</td>\n",
       "      <td>2020-12-25</td>\n",
       "      <td>18.0</td>\n",
       "    </tr>\n",
       "    <tr>\n",
       "      <th>4</th>\n",
       "      <td>D1ABA3E2887B6A73</td>\n",
       "      <td>A</td>\n",
       "      <td>recommender_system_test</td>\n",
       "      <td>2020-12-07</td>\n",
       "      <td>EU</td>\n",
       "      <td>PC</td>\n",
       "      <td>2020-12-07 14:43:27</td>\n",
       "      <td>product_page</td>\n",
       "      <td>NaN</td>\n",
       "      <td>2020-12-07</td>\n",
       "      <td>0.0</td>\n",
       "    </tr>\n",
       "  </tbody>\n",
       "</table>\n",
       "</div>"
      ],
      "text/plain": [
       "            user_id group                  ab_test first_date region device  \\\n",
       "0  D1ABA3E2887B6A73     A  recommender_system_test 2020-12-07     EU     PC   \n",
       "1  D1ABA3E2887B6A73     A  recommender_system_test 2020-12-07     EU     PC   \n",
       "2  D1ABA3E2887B6A73     A  recommender_system_test 2020-12-07     EU     PC   \n",
       "3  D1ABA3E2887B6A73     A  recommender_system_test 2020-12-07     EU     PC   \n",
       "4  D1ABA3E2887B6A73     A  recommender_system_test 2020-12-07     EU     PC   \n",
       "\n",
       "             event_dt    event_name  details        date  lifetime  \n",
       "0 2020-12-07 14:43:27      purchase    99.99  2020-12-07       0.0  \n",
       "1 2020-12-25 00:04:56      purchase     4.99  2020-12-25      18.0  \n",
       "2 2020-12-07 14:43:29  product_cart      NaN  2020-12-07       0.0  \n",
       "3 2020-12-25 00:04:57  product_cart      NaN  2020-12-25      18.0  \n",
       "4 2020-12-07 14:43:27  product_page      NaN  2020-12-07       0.0  "
      ]
     },
     "execution_count": 185,
     "metadata": {},
     "output_type": "execute_result"
    }
   ],
   "source": [
    "participants_new_users_events['lifetime'] = (\n",
    "   participants_new_users_events['event_dt'] - participants_new_users_events['first_date']\n",
    ").dt.days\n",
    "participants_new_users_events.head()"
   ]
  },
  {
   "cell_type": "code",
   "execution_count": 186,
   "id": "a80f81df",
   "metadata": {},
   "outputs": [
    {
     "data": {
      "text/html": [
       "<div>\n",
       "<style scoped>\n",
       "    .dataframe tbody tr th:only-of-type {\n",
       "        vertical-align: middle;\n",
       "    }\n",
       "\n",
       "    .dataframe tbody tr th {\n",
       "        vertical-align: top;\n",
       "    }\n",
       "\n",
       "    .dataframe thead th {\n",
       "        text-align: right;\n",
       "    }\n",
       "</style>\n",
       "<table border=\"1\" class=\"dataframe\">\n",
       "  <thead>\n",
       "    <tr style=\"text-align: right;\">\n",
       "      <th>lifetime</th>\n",
       "      <th>0.0</th>\n",
       "      <th>1.0</th>\n",
       "      <th>2.0</th>\n",
       "      <th>3.0</th>\n",
       "      <th>4.0</th>\n",
       "      <th>5.0</th>\n",
       "      <th>6.0</th>\n",
       "      <th>7.0</th>\n",
       "      <th>8.0</th>\n",
       "      <th>9.0</th>\n",
       "      <th>...</th>\n",
       "      <th>14.0</th>\n",
       "      <th>15.0</th>\n",
       "      <th>16.0</th>\n",
       "      <th>17.0</th>\n",
       "      <th>18.0</th>\n",
       "      <th>19.0</th>\n",
       "      <th>20.0</th>\n",
       "      <th>21.0</th>\n",
       "      <th>22.0</th>\n",
       "      <th>23.0</th>\n",
       "    </tr>\n",
       "    <tr>\n",
       "      <th>first_date</th>\n",
       "      <th></th>\n",
       "      <th></th>\n",
       "      <th></th>\n",
       "      <th></th>\n",
       "      <th></th>\n",
       "      <th></th>\n",
       "      <th></th>\n",
       "      <th></th>\n",
       "      <th></th>\n",
       "      <th></th>\n",
       "      <th></th>\n",
       "      <th></th>\n",
       "      <th></th>\n",
       "      <th></th>\n",
       "      <th></th>\n",
       "      <th></th>\n",
       "      <th></th>\n",
       "      <th></th>\n",
       "      <th></th>\n",
       "      <th></th>\n",
       "      <th></th>\n",
       "    </tr>\n",
       "  </thead>\n",
       "  <tbody>\n",
       "    <tr>\n",
       "      <th>2020-12-07</th>\n",
       "      <td>311.0</td>\n",
       "      <td>129.0</td>\n",
       "      <td>103.0</td>\n",
       "      <td>75.0</td>\n",
       "      <td>56.0</td>\n",
       "      <td>47.0</td>\n",
       "      <td>39.0</td>\n",
       "      <td>36.0</td>\n",
       "      <td>25.0</td>\n",
       "      <td>29.0</td>\n",
       "      <td>...</td>\n",
       "      <td>17.0</td>\n",
       "      <td>15.0</td>\n",
       "      <td>12.0</td>\n",
       "      <td>15.0</td>\n",
       "      <td>16.0</td>\n",
       "      <td>15.0</td>\n",
       "      <td>18.0</td>\n",
       "      <td>8.0</td>\n",
       "      <td>14.0</td>\n",
       "      <td>2.0</td>\n",
       "    </tr>\n",
       "    <tr>\n",
       "      <th>2020-12-08</th>\n",
       "      <td>132.0</td>\n",
       "      <td>68.0</td>\n",
       "      <td>41.0</td>\n",
       "      <td>25.0</td>\n",
       "      <td>13.0</td>\n",
       "      <td>20.0</td>\n",
       "      <td>16.0</td>\n",
       "      <td>16.0</td>\n",
       "      <td>12.0</td>\n",
       "      <td>9.0</td>\n",
       "      <td>...</td>\n",
       "      <td>4.0</td>\n",
       "      <td>5.0</td>\n",
       "      <td>12.0</td>\n",
       "      <td>4.0</td>\n",
       "      <td>4.0</td>\n",
       "      <td>2.0</td>\n",
       "      <td>2.0</td>\n",
       "      <td>6.0</td>\n",
       "      <td>NaN</td>\n",
       "      <td>NaN</td>\n",
       "    </tr>\n",
       "    <tr>\n",
       "      <th>2020-12-09</th>\n",
       "      <td>161.0</td>\n",
       "      <td>72.0</td>\n",
       "      <td>37.0</td>\n",
       "      <td>33.0</td>\n",
       "      <td>27.0</td>\n",
       "      <td>18.0</td>\n",
       "      <td>16.0</td>\n",
       "      <td>18.0</td>\n",
       "      <td>18.0</td>\n",
       "      <td>15.0</td>\n",
       "      <td>...</td>\n",
       "      <td>14.0</td>\n",
       "      <td>5.0</td>\n",
       "      <td>11.0</td>\n",
       "      <td>9.0</td>\n",
       "      <td>4.0</td>\n",
       "      <td>5.0</td>\n",
       "      <td>9.0</td>\n",
       "      <td>NaN</td>\n",
       "      <td>NaN</td>\n",
       "      <td>NaN</td>\n",
       "    </tr>\n",
       "    <tr>\n",
       "      <th>2020-12-10</th>\n",
       "      <td>92.0</td>\n",
       "      <td>36.0</td>\n",
       "      <td>21.0</td>\n",
       "      <td>8.0</td>\n",
       "      <td>8.0</td>\n",
       "      <td>8.0</td>\n",
       "      <td>14.0</td>\n",
       "      <td>11.0</td>\n",
       "      <td>6.0</td>\n",
       "      <td>6.0</td>\n",
       "      <td>...</td>\n",
       "      <td>5.0</td>\n",
       "      <td>3.0</td>\n",
       "      <td>2.0</td>\n",
       "      <td>2.0</td>\n",
       "      <td>4.0</td>\n",
       "      <td>4.0</td>\n",
       "      <td>NaN</td>\n",
       "      <td>NaN</td>\n",
       "      <td>NaN</td>\n",
       "      <td>NaN</td>\n",
       "    </tr>\n",
       "    <tr>\n",
       "      <th>2020-12-11</th>\n",
       "      <td>106.0</td>\n",
       "      <td>45.0</td>\n",
       "      <td>37.0</td>\n",
       "      <td>18.0</td>\n",
       "      <td>14.0</td>\n",
       "      <td>6.0</td>\n",
       "      <td>16.0</td>\n",
       "      <td>10.0</td>\n",
       "      <td>7.0</td>\n",
       "      <td>7.0</td>\n",
       "      <td>...</td>\n",
       "      <td>2.0</td>\n",
       "      <td>8.0</td>\n",
       "      <td>4.0</td>\n",
       "      <td>3.0</td>\n",
       "      <td>8.0</td>\n",
       "      <td>NaN</td>\n",
       "      <td>NaN</td>\n",
       "      <td>NaN</td>\n",
       "      <td>NaN</td>\n",
       "      <td>NaN</td>\n",
       "    </tr>\n",
       "    <tr>\n",
       "      <th>2020-12-12</th>\n",
       "      <td>111.0</td>\n",
       "      <td>38.0</td>\n",
       "      <td>32.0</td>\n",
       "      <td>16.0</td>\n",
       "      <td>16.0</td>\n",
       "      <td>12.0</td>\n",
       "      <td>15.0</td>\n",
       "      <td>13.0</td>\n",
       "      <td>7.0</td>\n",
       "      <td>10.0</td>\n",
       "      <td>...</td>\n",
       "      <td>6.0</td>\n",
       "      <td>9.0</td>\n",
       "      <td>3.0</td>\n",
       "      <td>3.0</td>\n",
       "      <td>NaN</td>\n",
       "      <td>NaN</td>\n",
       "      <td>NaN</td>\n",
       "      <td>NaN</td>\n",
       "      <td>NaN</td>\n",
       "      <td>NaN</td>\n",
       "    </tr>\n",
       "    <tr>\n",
       "      <th>2020-12-13</th>\n",
       "      <td>66.0</td>\n",
       "      <td>19.0</td>\n",
       "      <td>15.0</td>\n",
       "      <td>8.0</td>\n",
       "      <td>13.0</td>\n",
       "      <td>2.0</td>\n",
       "      <td>5.0</td>\n",
       "      <td>7.0</td>\n",
       "      <td>3.0</td>\n",
       "      <td>3.0</td>\n",
       "      <td>...</td>\n",
       "      <td>4.0</td>\n",
       "      <td>3.0</td>\n",
       "      <td>2.0</td>\n",
       "      <td>NaN</td>\n",
       "      <td>NaN</td>\n",
       "      <td>NaN</td>\n",
       "      <td>NaN</td>\n",
       "      <td>NaN</td>\n",
       "      <td>NaN</td>\n",
       "      <td>NaN</td>\n",
       "    </tr>\n",
       "    <tr>\n",
       "      <th>2020-12-14</th>\n",
       "      <td>434.0</td>\n",
       "      <td>218.0</td>\n",
       "      <td>150.0</td>\n",
       "      <td>104.0</td>\n",
       "      <td>77.0</td>\n",
       "      <td>79.0</td>\n",
       "      <td>55.0</td>\n",
       "      <td>55.0</td>\n",
       "      <td>56.0</td>\n",
       "      <td>42.0</td>\n",
       "      <td>...</td>\n",
       "      <td>32.0</td>\n",
       "      <td>31.0</td>\n",
       "      <td>NaN</td>\n",
       "      <td>NaN</td>\n",
       "      <td>NaN</td>\n",
       "      <td>NaN</td>\n",
       "      <td>NaN</td>\n",
       "      <td>NaN</td>\n",
       "      <td>NaN</td>\n",
       "      <td>NaN</td>\n",
       "    </tr>\n",
       "    <tr>\n",
       "      <th>2020-12-15</th>\n",
       "      <td>233.0</td>\n",
       "      <td>97.0</td>\n",
       "      <td>76.0</td>\n",
       "      <td>50.0</td>\n",
       "      <td>58.0</td>\n",
       "      <td>40.0</td>\n",
       "      <td>34.0</td>\n",
       "      <td>21.0</td>\n",
       "      <td>24.0</td>\n",
       "      <td>23.0</td>\n",
       "      <td>...</td>\n",
       "      <td>12.0</td>\n",
       "      <td>NaN</td>\n",
       "      <td>NaN</td>\n",
       "      <td>NaN</td>\n",
       "      <td>NaN</td>\n",
       "      <td>NaN</td>\n",
       "      <td>NaN</td>\n",
       "      <td>NaN</td>\n",
       "      <td>NaN</td>\n",
       "      <td>NaN</td>\n",
       "    </tr>\n",
       "    <tr>\n",
       "      <th>2020-12-16</th>\n",
       "      <td>257.0</td>\n",
       "      <td>125.0</td>\n",
       "      <td>87.0</td>\n",
       "      <td>58.0</td>\n",
       "      <td>51.0</td>\n",
       "      <td>51.0</td>\n",
       "      <td>30.0</td>\n",
       "      <td>33.0</td>\n",
       "      <td>30.0</td>\n",
       "      <td>24.0</td>\n",
       "      <td>...</td>\n",
       "      <td>NaN</td>\n",
       "      <td>NaN</td>\n",
       "      <td>NaN</td>\n",
       "      <td>NaN</td>\n",
       "      <td>NaN</td>\n",
       "      <td>NaN</td>\n",
       "      <td>NaN</td>\n",
       "      <td>NaN</td>\n",
       "      <td>NaN</td>\n",
       "      <td>NaN</td>\n",
       "    </tr>\n",
       "    <tr>\n",
       "      <th>2020-12-17</th>\n",
       "      <td>238.0</td>\n",
       "      <td>114.0</td>\n",
       "      <td>89.0</td>\n",
       "      <td>45.0</td>\n",
       "      <td>39.0</td>\n",
       "      <td>32.0</td>\n",
       "      <td>36.0</td>\n",
       "      <td>30.0</td>\n",
       "      <td>17.0</td>\n",
       "      <td>24.0</td>\n",
       "      <td>...</td>\n",
       "      <td>NaN</td>\n",
       "      <td>NaN</td>\n",
       "      <td>NaN</td>\n",
       "      <td>NaN</td>\n",
       "      <td>NaN</td>\n",
       "      <td>NaN</td>\n",
       "      <td>NaN</td>\n",
       "      <td>NaN</td>\n",
       "      <td>NaN</td>\n",
       "      <td>NaN</td>\n",
       "    </tr>\n",
       "    <tr>\n",
       "      <th>2020-12-18</th>\n",
       "      <td>258.0</td>\n",
       "      <td>130.0</td>\n",
       "      <td>81.0</td>\n",
       "      <td>81.0</td>\n",
       "      <td>55.0</td>\n",
       "      <td>43.0</td>\n",
       "      <td>38.0</td>\n",
       "      <td>30.0</td>\n",
       "      <td>22.0</td>\n",
       "      <td>25.0</td>\n",
       "      <td>...</td>\n",
       "      <td>NaN</td>\n",
       "      <td>NaN</td>\n",
       "      <td>NaN</td>\n",
       "      <td>NaN</td>\n",
       "      <td>NaN</td>\n",
       "      <td>NaN</td>\n",
       "      <td>NaN</td>\n",
       "      <td>NaN</td>\n",
       "      <td>NaN</td>\n",
       "      <td>NaN</td>\n",
       "    </tr>\n",
       "    <tr>\n",
       "      <th>2020-12-19</th>\n",
       "      <td>269.0</td>\n",
       "      <td>134.0</td>\n",
       "      <td>77.0</td>\n",
       "      <td>65.0</td>\n",
       "      <td>47.0</td>\n",
       "      <td>48.0</td>\n",
       "      <td>32.0</td>\n",
       "      <td>28.0</td>\n",
       "      <td>29.0</td>\n",
       "      <td>26.0</td>\n",
       "      <td>...</td>\n",
       "      <td>NaN</td>\n",
       "      <td>NaN</td>\n",
       "      <td>NaN</td>\n",
       "      <td>NaN</td>\n",
       "      <td>NaN</td>\n",
       "      <td>NaN</td>\n",
       "      <td>NaN</td>\n",
       "      <td>NaN</td>\n",
       "      <td>NaN</td>\n",
       "      <td>NaN</td>\n",
       "    </tr>\n",
       "    <tr>\n",
       "      <th>2020-12-20</th>\n",
       "      <td>318.0</td>\n",
       "      <td>156.0</td>\n",
       "      <td>101.0</td>\n",
       "      <td>74.0</td>\n",
       "      <td>66.0</td>\n",
       "      <td>40.0</td>\n",
       "      <td>45.0</td>\n",
       "      <td>38.0</td>\n",
       "      <td>34.0</td>\n",
       "      <td>24.0</td>\n",
       "      <td>...</td>\n",
       "      <td>NaN</td>\n",
       "      <td>NaN</td>\n",
       "      <td>NaN</td>\n",
       "      <td>NaN</td>\n",
       "      <td>NaN</td>\n",
       "      <td>NaN</td>\n",
       "      <td>NaN</td>\n",
       "      <td>NaN</td>\n",
       "      <td>NaN</td>\n",
       "      <td>NaN</td>\n",
       "    </tr>\n",
       "    <tr>\n",
       "      <th>2020-12-21</th>\n",
       "      <td>481.0</td>\n",
       "      <td>244.0</td>\n",
       "      <td>169.0</td>\n",
       "      <td>114.0</td>\n",
       "      <td>89.0</td>\n",
       "      <td>71.0</td>\n",
       "      <td>66.0</td>\n",
       "      <td>64.0</td>\n",
       "      <td>47.0</td>\n",
       "      <td>NaN</td>\n",
       "      <td>...</td>\n",
       "      <td>NaN</td>\n",
       "      <td>NaN</td>\n",
       "      <td>NaN</td>\n",
       "      <td>NaN</td>\n",
       "      <td>NaN</td>\n",
       "      <td>NaN</td>\n",
       "      <td>NaN</td>\n",
       "      <td>NaN</td>\n",
       "      <td>NaN</td>\n",
       "      <td>NaN</td>\n",
       "    </tr>\n",
       "  </tbody>\n",
       "</table>\n",
       "<p>15 rows × 24 columns</p>\n",
       "</div>"
      ],
      "text/plain": [
       "lifetime     0.0    1.0    2.0    3.0   4.0   5.0   6.0   7.0   8.0   9.0   \\\n",
       "first_date                                                                   \n",
       "2020-12-07  311.0  129.0  103.0   75.0  56.0  47.0  39.0  36.0  25.0  29.0   \n",
       "2020-12-08  132.0   68.0   41.0   25.0  13.0  20.0  16.0  16.0  12.0   9.0   \n",
       "2020-12-09  161.0   72.0   37.0   33.0  27.0  18.0  16.0  18.0  18.0  15.0   \n",
       "2020-12-10   92.0   36.0   21.0    8.0   8.0   8.0  14.0  11.0   6.0   6.0   \n",
       "2020-12-11  106.0   45.0   37.0   18.0  14.0   6.0  16.0  10.0   7.0   7.0   \n",
       "2020-12-12  111.0   38.0   32.0   16.0  16.0  12.0  15.0  13.0   7.0  10.0   \n",
       "2020-12-13   66.0   19.0   15.0    8.0  13.0   2.0   5.0   7.0   3.0   3.0   \n",
       "2020-12-14  434.0  218.0  150.0  104.0  77.0  79.0  55.0  55.0  56.0  42.0   \n",
       "2020-12-15  233.0   97.0   76.0   50.0  58.0  40.0  34.0  21.0  24.0  23.0   \n",
       "2020-12-16  257.0  125.0   87.0   58.0  51.0  51.0  30.0  33.0  30.0  24.0   \n",
       "2020-12-17  238.0  114.0   89.0   45.0  39.0  32.0  36.0  30.0  17.0  24.0   \n",
       "2020-12-18  258.0  130.0   81.0   81.0  55.0  43.0  38.0  30.0  22.0  25.0   \n",
       "2020-12-19  269.0  134.0   77.0   65.0  47.0  48.0  32.0  28.0  29.0  26.0   \n",
       "2020-12-20  318.0  156.0  101.0   74.0  66.0  40.0  45.0  38.0  34.0  24.0   \n",
       "2020-12-21  481.0  244.0  169.0  114.0  89.0  71.0  66.0  64.0  47.0   NaN   \n",
       "\n",
       "lifetime    ...  14.0  15.0  16.0  17.0  18.0  19.0  20.0  21.0  22.0  23.0  \n",
       "first_date  ...                                                              \n",
       "2020-12-07  ...  17.0  15.0  12.0  15.0  16.0  15.0  18.0   8.0  14.0   2.0  \n",
       "2020-12-08  ...   4.0   5.0  12.0   4.0   4.0   2.0   2.0   6.0   NaN   NaN  \n",
       "2020-12-09  ...  14.0   5.0  11.0   9.0   4.0   5.0   9.0   NaN   NaN   NaN  \n",
       "2020-12-10  ...   5.0   3.0   2.0   2.0   4.0   4.0   NaN   NaN   NaN   NaN  \n",
       "2020-12-11  ...   2.0   8.0   4.0   3.0   8.0   NaN   NaN   NaN   NaN   NaN  \n",
       "2020-12-12  ...   6.0   9.0   3.0   3.0   NaN   NaN   NaN   NaN   NaN   NaN  \n",
       "2020-12-13  ...   4.0   3.0   2.0   NaN   NaN   NaN   NaN   NaN   NaN   NaN  \n",
       "2020-12-14  ...  32.0  31.0   NaN   NaN   NaN   NaN   NaN   NaN   NaN   NaN  \n",
       "2020-12-15  ...  12.0   NaN   NaN   NaN   NaN   NaN   NaN   NaN   NaN   NaN  \n",
       "2020-12-16  ...   NaN   NaN   NaN   NaN   NaN   NaN   NaN   NaN   NaN   NaN  \n",
       "2020-12-17  ...   NaN   NaN   NaN   NaN   NaN   NaN   NaN   NaN   NaN   NaN  \n",
       "2020-12-18  ...   NaN   NaN   NaN   NaN   NaN   NaN   NaN   NaN   NaN   NaN  \n",
       "2020-12-19  ...   NaN   NaN   NaN   NaN   NaN   NaN   NaN   NaN   NaN   NaN  \n",
       "2020-12-20  ...   NaN   NaN   NaN   NaN   NaN   NaN   NaN   NaN   NaN   NaN  \n",
       "2020-12-21  ...   NaN   NaN   NaN   NaN   NaN   NaN   NaN   NaN   NaN   NaN  \n",
       "\n",
       "[15 rows x 24 columns]"
      ]
     },
     "execution_count": 186,
     "metadata": {},
     "output_type": "execute_result"
    }
   ],
   "source": [
    "result_grouped = participants_new_users_events.pivot_table(\n",
    "    index=['first_date'], columns='lifetime', values='user_id', aggfunc='nunique'\n",
    ")\n",
    "\n",
    "result_grouped"
   ]
  },
  {
   "cell_type": "code",
   "execution_count": 214,
   "id": "9ab625cd",
   "metadata": {},
   "outputs": [],
   "source": [
    "# Оставим в данных только lifetime 14 дней и менее:\n",
    "participants_new_users_events = participants_new_users_events[participants_new_users_events['lifetime'] <= 14]"
   ]
  },
  {
   "cell_type": "markdown",
   "id": "11afd004",
   "metadata": {},
   "source": [
    "### 2.2 Время проведения теста\n",
    "Убедимся, что оно не совпадает с маркетинговыми и другими активностями."
   ]
  },
  {
   "cell_type": "code",
   "execution_count": 188,
   "id": "e672a768",
   "metadata": {},
   "outputs": [
    {
     "data": {
      "text/html": [
       "<div>\n",
       "<style scoped>\n",
       "    .dataframe tbody tr th:only-of-type {\n",
       "        vertical-align: middle;\n",
       "    }\n",
       "\n",
       "    .dataframe tbody tr th {\n",
       "        vertical-align: top;\n",
       "    }\n",
       "\n",
       "    .dataframe thead th {\n",
       "        text-align: right;\n",
       "    }\n",
       "</style>\n",
       "<table border=\"1\" class=\"dataframe\">\n",
       "  <thead>\n",
       "    <tr style=\"text-align: right;\">\n",
       "      <th></th>\n",
       "      <th>name</th>\n",
       "      <th>regions</th>\n",
       "      <th>start_dt</th>\n",
       "      <th>finish_dt</th>\n",
       "    </tr>\n",
       "  </thead>\n",
       "  <tbody>\n",
       "    <tr>\n",
       "      <th>6</th>\n",
       "      <td>Chinese New Year Promo</td>\n",
       "      <td>APAC</td>\n",
       "      <td>2020-01-25</td>\n",
       "      <td>2020-02-07</td>\n",
       "    </tr>\n",
       "    <tr>\n",
       "      <th>1</th>\n",
       "      <td>St. Valentine's Day Giveaway</td>\n",
       "      <td>EU, CIS, APAC, N.America</td>\n",
       "      <td>2020-02-14</td>\n",
       "      <td>2020-02-16</td>\n",
       "    </tr>\n",
       "    <tr>\n",
       "      <th>8</th>\n",
       "      <td>International Women's Day Promo</td>\n",
       "      <td>EU, CIS, APAC</td>\n",
       "      <td>2020-03-08</td>\n",
       "      <td>2020-03-10</td>\n",
       "    </tr>\n",
       "    <tr>\n",
       "      <th>2</th>\n",
       "      <td>St. Patric's Day Promo</td>\n",
       "      <td>EU, N.America</td>\n",
       "      <td>2020-03-17</td>\n",
       "      <td>2020-03-19</td>\n",
       "    </tr>\n",
       "    <tr>\n",
       "      <th>3</th>\n",
       "      <td>Easter Promo</td>\n",
       "      <td>EU, CIS, APAC, N.America</td>\n",
       "      <td>2020-04-12</td>\n",
       "      <td>2020-04-19</td>\n",
       "    </tr>\n",
       "    <tr>\n",
       "      <th>7</th>\n",
       "      <td>Labor day (May 1st) Ads Campaign</td>\n",
       "      <td>EU, CIS, APAC</td>\n",
       "      <td>2020-05-01</td>\n",
       "      <td>2020-05-03</td>\n",
       "    </tr>\n",
       "    <tr>\n",
       "      <th>9</th>\n",
       "      <td>Victory Day CIS (May 9th) Event</td>\n",
       "      <td>CIS</td>\n",
       "      <td>2020-05-09</td>\n",
       "      <td>2020-05-11</td>\n",
       "    </tr>\n",
       "    <tr>\n",
       "      <th>11</th>\n",
       "      <td>Dragon Boat Festival Giveaway</td>\n",
       "      <td>APAC</td>\n",
       "      <td>2020-06-25</td>\n",
       "      <td>2020-07-01</td>\n",
       "    </tr>\n",
       "    <tr>\n",
       "      <th>4</th>\n",
       "      <td>4th of July Promo</td>\n",
       "      <td>N.America</td>\n",
       "      <td>2020-07-04</td>\n",
       "      <td>2020-07-11</td>\n",
       "    </tr>\n",
       "    <tr>\n",
       "      <th>13</th>\n",
       "      <td>Chinese Moon Festival</td>\n",
       "      <td>APAC</td>\n",
       "      <td>2020-10-01</td>\n",
       "      <td>2020-10-07</td>\n",
       "    </tr>\n",
       "    <tr>\n",
       "      <th>12</th>\n",
       "      <td>Single's Day Gift Promo</td>\n",
       "      <td>APAC</td>\n",
       "      <td>2020-11-11</td>\n",
       "      <td>2020-11-12</td>\n",
       "    </tr>\n",
       "    <tr>\n",
       "      <th>5</th>\n",
       "      <td>Black Friday Ads Campaign</td>\n",
       "      <td>EU, CIS, APAC, N.America</td>\n",
       "      <td>2020-11-26</td>\n",
       "      <td>2020-12-01</td>\n",
       "    </tr>\n",
       "    <tr>\n",
       "      <th>0</th>\n",
       "      <td>Christmas&amp;New Year Promo</td>\n",
       "      <td>EU, N.America</td>\n",
       "      <td>2020-12-25</td>\n",
       "      <td>2021-01-03</td>\n",
       "    </tr>\n",
       "    <tr>\n",
       "      <th>10</th>\n",
       "      <td>CIS New Year Gift Lottery</td>\n",
       "      <td>CIS</td>\n",
       "      <td>2020-12-30</td>\n",
       "      <td>2021-01-07</td>\n",
       "    </tr>\n",
       "  </tbody>\n",
       "</table>\n",
       "</div>"
      ],
      "text/plain": [
       "                                name                   regions   start_dt  \\\n",
       "6             Chinese New Year Promo                      APAC 2020-01-25   \n",
       "1       St. Valentine's Day Giveaway  EU, CIS, APAC, N.America 2020-02-14   \n",
       "8    International Women's Day Promo             EU, CIS, APAC 2020-03-08   \n",
       "2             St. Patric's Day Promo             EU, N.America 2020-03-17   \n",
       "3                       Easter Promo  EU, CIS, APAC, N.America 2020-04-12   \n",
       "7   Labor day (May 1st) Ads Campaign             EU, CIS, APAC 2020-05-01   \n",
       "9    Victory Day CIS (May 9th) Event                       CIS 2020-05-09   \n",
       "11     Dragon Boat Festival Giveaway                      APAC 2020-06-25   \n",
       "4                  4th of July Promo                 N.America 2020-07-04   \n",
       "13             Chinese Moon Festival                      APAC 2020-10-01   \n",
       "12           Single's Day Gift Promo                      APAC 2020-11-11   \n",
       "5          Black Friday Ads Campaign  EU, CIS, APAC, N.America 2020-11-26   \n",
       "0           Christmas&New Year Promo             EU, N.America 2020-12-25   \n",
       "10         CIS New Year Gift Lottery                       CIS 2020-12-30   \n",
       "\n",
       "    finish_dt  \n",
       "6  2020-02-07  \n",
       "1  2020-02-16  \n",
       "8  2020-03-10  \n",
       "2  2020-03-19  \n",
       "3  2020-04-19  \n",
       "7  2020-05-03  \n",
       "9  2020-05-11  \n",
       "11 2020-07-01  \n",
       "4  2020-07-11  \n",
       "13 2020-10-07  \n",
       "12 2020-11-12  \n",
       "5  2020-12-01  \n",
       "0  2021-01-03  \n",
       "10 2021-01-07  "
      ]
     },
     "execution_count": 188,
     "metadata": {},
     "output_type": "execute_result"
    }
   ],
   "source": [
    "marketing_events.sort_values(by='start_dt')"
   ]
  },
  {
   "cell_type": "markdown",
   "id": "1a6cbe26",
   "metadata": {},
   "source": [
    "- Наш тест проводился с 2020-12-07 по 2021-01-04 , при этом последняя дата события 2020-12-30\n",
    "- Конец нашего периода совпадает с проведением в EU и N.America компании 'Christmas&New Year Promo', которая проходила с 2020-12-25 по 2021-01-03. \n",
    "- Данное пересечение могло повлиять на рез-ты нашего теста, стоит подумать над исключением событий произошедших после 2020-12-25 и далее.\n",
    "- Таким образом в наш тест должны попасть пользователили, которые прожили 14 дней с моменты регистрации и события до 2020-12-25 "
   ]
  },
  {
   "cell_type": "code",
   "execution_count": 189,
   "id": "039555fa",
   "metadata": {},
   "outputs": [
    {
     "name": "stdout",
     "output_type": "stream",
     "text": [
      "Кол-во событий всего:  22828\n",
      "Кол-во событий включая и после 2020-12-25:  2711\n",
      "Мы теряем % событий =  11.9\n"
     ]
    }
   ],
   "source": [
    "# посмотрим сколько событий до и после 2020-12-25:\n",
    "all_test_events = participants_new_users_events['event_dt'].count()\n",
    "event_before_2020_12_25 = participants_new_users_events[participants_new_users_events['event_dt'] >= '2020-12-25']['event_dt'].count()\n",
    "print('Кол-во событий всего: ',all_test_events)\n",
    "print('Кол-во событий включая и после 2020-12-25: ',event_before_2020_12_25)\n",
    "print('Мы теряем % событий = ', round((event_before_2020_12_25/all_test_events*100),1))"
   ]
  },
  {
   "cell_type": "markdown",
   "id": "9fde1d66",
   "metadata": {},
   "source": [
    "### 2.3 Проверим аудиторию теста: \n",
    "#### Проверим наличие пересечений с конкурирующим тестом и убедимся что нет пользователей, участвующих в двух группах теста одновременно. "
   ]
  },
  {
   "cell_type": "code",
   "execution_count": 190,
   "id": "a7b0ab80",
   "metadata": {
    "scrolled": false
   },
   "outputs": [
    {
     "data": {
      "text/plain": [
       "ab_test    1602\n",
       "dtype: int64"
      ]
     },
     "execution_count": 190,
     "metadata": {},
     "output_type": "execute_result"
    }
   ],
   "source": [
    "# Наличие пересечений с конкурирующим тестом:\n",
    "participants_all_users.groupby('user_id').agg({'ab_test' : 'nunique'}).query('ab_test>1').count()"
   ]
  },
  {
   "cell_type": "code",
   "execution_count": 191,
   "id": "b8c05558",
   "metadata": {},
   "outputs": [
    {
     "data": {
      "text/plain": [
       "group    0\n",
       "dtype: int64"
      ]
     },
     "execution_count": 191,
     "metadata": {},
     "output_type": "execute_result"
    }
   ],
   "source": [
    "# Наличие пользователей, участвующих в двух группах теста одновременно:\n",
    "ab_participants.groupby('user_id').agg({'group' : 'nunique'}).query('group>1').count()"
   ]
  },
  {
   "cell_type": "code",
   "execution_count": 192,
   "id": "9847011b",
   "metadata": {
    "scrolled": true
   },
   "outputs": [
    {
     "data": {
      "text/plain": [
       "group    0\n",
       "dtype: int64"
      ]
     },
     "execution_count": 192,
     "metadata": {},
     "output_type": "execute_result"
    }
   ],
   "source": [
    "(\n",
    "    ab_participants[ab_participants['ab_test'] == 'recommender_system_test']\n",
    "    .groupby('user_id').agg({'group' : 'nunique'}).query('group>1').count()\n",
    ")"
   ]
  },
  {
   "cell_type": "markdown",
   "id": "a06fcc7c",
   "metadata": {},
   "source": [
    "#### Посмотрим кол-во уникальных польз-лей в каждой группе:"
   ]
  },
  {
   "cell_type": "code",
   "execution_count": 193,
   "id": "cf5b5016",
   "metadata": {
    "scrolled": true
   },
   "outputs": [
    {
     "data": {
      "text/html": [
       "<div>\n",
       "<style scoped>\n",
       "    .dataframe tbody tr th:only-of-type {\n",
       "        vertical-align: middle;\n",
       "    }\n",
       "\n",
       "    .dataframe tbody tr th {\n",
       "        vertical-align: top;\n",
       "    }\n",
       "\n",
       "    .dataframe thead th {\n",
       "        text-align: right;\n",
       "    }\n",
       "</style>\n",
       "<table border=\"1\" class=\"dataframe\">\n",
       "  <thead>\n",
       "    <tr style=\"text-align: right;\">\n",
       "      <th></th>\n",
       "      <th>group</th>\n",
       "      <th>user_id</th>\n",
       "    </tr>\n",
       "  </thead>\n",
       "  <tbody>\n",
       "    <tr>\n",
       "      <th>0</th>\n",
       "      <td>A</td>\n",
       "      <td>2604</td>\n",
       "    </tr>\n",
       "    <tr>\n",
       "      <th>1</th>\n",
       "      <td>B</td>\n",
       "      <td>877</td>\n",
       "    </tr>\n",
       "  </tbody>\n",
       "</table>\n",
       "</div>"
      ],
      "text/plain": [
       "  group  user_id\n",
       "0     A     2604\n",
       "1     B      877"
      ]
     },
     "execution_count": 193,
     "metadata": {},
     "output_type": "execute_result"
    }
   ],
   "source": [
    "unique_users_cnt = participants_new_users_events.groupby('group',as_index=False)['user_id'].nunique()\n",
    "unique_users_cnt"
   ]
  },
  {
   "cell_type": "markdown",
   "id": "ab5b94ce",
   "metadata": {},
   "source": [
    "### Вывод: \n",
    "- Пересечений по группам нашего теста НЕТ.\n",
    "- Есть пересечения пользователей нашего теста с другим. Что может влиять на результаты нашего теста.\n",
    "- Группы достаточно большие и разница в кол-ве пользователей не критична для проведения теста"
   ]
  },
  {
   "cell_type": "markdown",
   "id": "f6768fff",
   "metadata": {},
   "source": [
    "## 3. Исследовательский анализ данных:"
   ]
  },
  {
   "cell_type": "markdown",
   "id": "e98f9155",
   "metadata": {},
   "source": [
    "###  3.1 Посмотрим как в выборках распределено количество событий на пользователя ?"
   ]
  },
  {
   "cell_type": "code",
   "execution_count": 194,
   "id": "e68c5e1e",
   "metadata": {},
   "outputs": [
    {
     "data": {
      "text/html": [
       "<div>\n",
       "<style scoped>\n",
       "    .dataframe tbody tr th:only-of-type {\n",
       "        vertical-align: middle;\n",
       "    }\n",
       "\n",
       "    .dataframe tbody tr th {\n",
       "        vertical-align: top;\n",
       "    }\n",
       "\n",
       "    .dataframe thead th {\n",
       "        text-align: right;\n",
       "    }\n",
       "</style>\n",
       "<table border=\"1\" class=\"dataframe\">\n",
       "  <thead>\n",
       "    <tr style=\"text-align: right;\">\n",
       "      <th></th>\n",
       "      <th>group</th>\n",
       "      <th>user_id</th>\n",
       "      <th>event_name</th>\n",
       "    </tr>\n",
       "  </thead>\n",
       "  <tbody>\n",
       "    <tr>\n",
       "      <th>0</th>\n",
       "      <td>A</td>\n",
       "      <td>0010A1C096941592</td>\n",
       "      <td>12</td>\n",
       "    </tr>\n",
       "    <tr>\n",
       "      <th>1</th>\n",
       "      <td>A</td>\n",
       "      <td>00341D8401F0F665</td>\n",
       "      <td>2</td>\n",
       "    </tr>\n",
       "    <tr>\n",
       "      <th>2</th>\n",
       "      <td>A</td>\n",
       "      <td>003DF44D7589BBD4</td>\n",
       "      <td>15</td>\n",
       "    </tr>\n",
       "    <tr>\n",
       "      <th>3</th>\n",
       "      <td>A</td>\n",
       "      <td>00505E15A9D81546</td>\n",
       "      <td>5</td>\n",
       "    </tr>\n",
       "    <tr>\n",
       "      <th>4</th>\n",
       "      <td>A</td>\n",
       "      <td>006E3E4E232CE760</td>\n",
       "      <td>6</td>\n",
       "    </tr>\n",
       "  </tbody>\n",
       "</table>\n",
       "</div>"
      ],
      "text/plain": [
       "  group           user_id  event_name\n",
       "0     A  0010A1C096941592          12\n",
       "1     A  00341D8401F0F665           2\n",
       "2     A  003DF44D7589BBD4          15\n",
       "3     A  00505E15A9D81546           5\n",
       "4     A  006E3E4E232CE760           6"
      ]
     },
     "execution_count": 194,
     "metadata": {},
     "output_type": "execute_result"
    }
   ],
   "source": [
    "events_by_users = participants_new_users_events.groupby(['group','user_id'],as_index=False)['event_name'].count()\n",
    "events_by_users.head()"
   ]
  },
  {
   "cell_type": "code",
   "execution_count": 195,
   "id": "980c9a6c",
   "metadata": {},
   "outputs": [
    {
     "data": {
      "image/png": "[encoded data removed]",
      "text/plain": [
       "<Figure size 1500x300 with 1 Axes>"
      ]
     },
     "metadata": {},
     "output_type": "display_data"
    }
   ],
   "source": [
    "events_by_users[events_by_users['group']== 'A']['event_name'].hist(figsize = (15,3),bins=14, range=(0,20))\n",
    "plt.title('Распределение событий на пользователя в группе А')\n",
    "plt.show()"
   ]
  },
  {
   "cell_type": "code",
   "execution_count": 196,
   "id": "2eed798b",
   "metadata": {
    "scrolled": false
   },
   "outputs": [
    {
     "data": {
      "image/png": "[encoded data removed]",
      "text/plain": [
       "<Figure size 1500x300 with 1 Axes>"
      ]
     },
     "metadata": {},
     "output_type": "display_data"
    }
   ],
   "source": [
    "events_by_users[events_by_users['group']== 'B']['event_name'].hist(figsize = (15,3),bins=14, range=(0,20),color = \"#5F9EA0\")\n",
    "plt.title('Распределение событий на пользователя в группе B')\n",
    "plt.show()"
   ]
  },
  {
   "cell_type": "code",
   "execution_count": 197,
   "id": "47452de7",
   "metadata": {},
   "outputs": [
    {
     "name": "stdout",
     "output_type": "stream",
     "text": [
      "Среднее кол-во событий в группе А: 6.903609831029186\n",
      "Среднее кол-во событий в группе B: 5.531356898517674\n",
      "Медиана событий в группе А: 6.0\n",
      "Медиана событий в группе B: 4.0\n"
     ]
    }
   ],
   "source": [
    "print('Среднее кол-во событий в группе А:',events_by_users[events_by_users['group']== 'A']['event_name'].mean())\n",
    "print('Среднее кол-во событий в группе B:',events_by_users[events_by_users['group']== 'B']['event_name'].mean())\n",
    "print('Медиана событий в группе А:',events_by_users[events_by_users['group']== 'A']['event_name'].median())\n",
    "print('Медиана событий в группе B:',events_by_users[events_by_users['group']== 'B']['event_name'].median())"
   ]
  },
  {
   "cell_type": "markdown",
   "id": "09352707",
   "metadata": {},
   "source": [
    "### Вывод:\n",
    "Кол-во событий по группам А и В распределено более-менее равномерно."
   ]
  },
  {
   "cell_type": "markdown",
   "id": "fe5c989d",
   "metadata": {},
   "source": [
    "### 3.2 Как число событий в выборках распределено по дням?"
   ]
  },
  {
   "cell_type": "code",
   "execution_count": 198,
   "id": "42f3b0c8",
   "metadata": {
    "scrolled": true
   },
   "outputs": [
    {
     "data": {
      "text/html": [
       "<div>\n",
       "<style scoped>\n",
       "    .dataframe tbody tr th:only-of-type {\n",
       "        vertical-align: middle;\n",
       "    }\n",
       "\n",
       "    .dataframe tbody tr th {\n",
       "        vertical-align: top;\n",
       "    }\n",
       "\n",
       "    .dataframe thead th {\n",
       "        text-align: right;\n",
       "    }\n",
       "</style>\n",
       "<table border=\"1\" class=\"dataframe\">\n",
       "  <thead>\n",
       "    <tr style=\"text-align: right;\">\n",
       "      <th></th>\n",
       "      <th>date</th>\n",
       "      <th>group</th>\n",
       "      <th>event_name</th>\n",
       "    </tr>\n",
       "  </thead>\n",
       "  <tbody>\n",
       "    <tr>\n",
       "      <th>0</th>\n",
       "      <td>2020-12-07</td>\n",
       "      <td>A</td>\n",
       "      <td>318</td>\n",
       "    </tr>\n",
       "    <tr>\n",
       "      <th>1</th>\n",
       "      <td>2020-12-07</td>\n",
       "      <td>B</td>\n",
       "      <td>356</td>\n",
       "    </tr>\n",
       "    <tr>\n",
       "      <th>2</th>\n",
       "      <td>2020-12-08</td>\n",
       "      <td>A</td>\n",
       "      <td>313</td>\n",
       "    </tr>\n",
       "    <tr>\n",
       "      <th>3</th>\n",
       "      <td>2020-12-08</td>\n",
       "      <td>B</td>\n",
       "      <td>238</td>\n",
       "    </tr>\n",
       "    <tr>\n",
       "      <th>4</th>\n",
       "      <td>2020-12-09</td>\n",
       "      <td>A</td>\n",
       "      <td>371</td>\n",
       "    </tr>\n",
       "  </tbody>\n",
       "</table>\n",
       "</div>"
      ],
      "text/plain": [
       "         date group  event_name\n",
       "0  2020-12-07     A         318\n",
       "1  2020-12-07     B         356\n",
       "2  2020-12-08     A         313\n",
       "3  2020-12-08     B         238\n",
       "4  2020-12-09     A         371"
      ]
     },
     "execution_count": 198,
     "metadata": {},
     "output_type": "execute_result"
    }
   ],
   "source": [
    "events_by_date = participants_new_users_events.groupby(['date','group'],as_index=False)['event_name'].count()\n",
    "events_by_date.head()"
   ]
  },
  {
   "cell_type": "code",
   "execution_count": 199,
   "id": "41ceb949",
   "metadata": {
    "scrolled": false
   },
   "outputs": [
    {
     "data": {
      "image/png": "[encoded data removed]",
      "text/plain": [
       "<Figure size 1500x300 with 1 Axes>"
      ]
     },
     "metadata": {},
     "output_type": "display_data"
    }
   ],
   "source": [
    "plt.figure(figsize=(15,3))\n",
    "sns.lineplot(data=events_by_date, x='date', y='event_name', hue='group')\n",
    "plt.title('Кол-во событий по дням в каждой группе')\n",
    "plt.xlabel('Дата')\n",
    "plt.ylabel('Кол-во событий')\n",
    "plt.show()"
   ]
  },
  {
   "cell_type": "code",
   "execution_count": 200,
   "id": "bfe61795",
   "metadata": {},
   "outputs": [
    {
     "data": {
      "text/plain": [
       "group  event_name  \n",
       "A      login           7968\n",
       "       product_cart    2385\n",
       "       product_page    5125\n",
       "       purchase        2499\n",
       "B      login           2345\n",
       "       product_cart     625\n",
       "       product_page    1257\n",
       "       purchase         624\n",
       "Name: event_name, dtype: int64"
      ]
     },
     "execution_count": 200,
     "metadata": {},
     "output_type": "execute_result"
    }
   ],
   "source": [
    "participants_new_users_events.groupby(['group','event_name'])['event_name'].count()"
   ]
  },
  {
   "cell_type": "markdown",
   "id": "7f86abd5",
   "metadata": {},
   "source": [
    "### 3.3 Как меняется конверсия в воронке в выборках на разных этапах?"
   ]
  },
  {
   "cell_type": "code",
   "execution_count": 201,
   "id": "d322cc20",
   "metadata": {},
   "outputs": [
    {
     "data": {
      "text/html": [
       "<div>\n",
       "<style scoped>\n",
       "    .dataframe tbody tr th:only-of-type {\n",
       "        vertical-align: middle;\n",
       "    }\n",
       "\n",
       "    .dataframe tbody tr th {\n",
       "        vertical-align: top;\n",
       "    }\n",
       "\n",
       "    .dataframe thead th {\n",
       "        text-align: right;\n",
       "    }\n",
       "</style>\n",
       "<table border=\"1\" class=\"dataframe\">\n",
       "  <thead>\n",
       "    <tr style=\"text-align: right;\">\n",
       "      <th>event_name</th>\n",
       "      <th>group</th>\n",
       "      <th>login</th>\n",
       "      <th>product_cart</th>\n",
       "      <th>product_page</th>\n",
       "      <th>purchase</th>\n",
       "    </tr>\n",
       "  </thead>\n",
       "  <tbody>\n",
       "    <tr>\n",
       "      <th>0</th>\n",
       "      <td>A</td>\n",
       "      <td>2604</td>\n",
       "      <td>782</td>\n",
       "      <td>1685</td>\n",
       "      <td>833</td>\n",
       "    </tr>\n",
       "    <tr>\n",
       "      <th>1</th>\n",
       "      <td>B</td>\n",
       "      <td>876</td>\n",
       "      <td>244</td>\n",
       "      <td>493</td>\n",
       "      <td>249</td>\n",
       "    </tr>\n",
       "  </tbody>\n",
       "</table>\n",
       "</div>"
      ],
      "text/plain": [
       "event_name group  login  product_cart  product_page  purchase\n",
       "0              A   2604           782          1685       833\n",
       "1              B    876           244           493       249"
      ]
     },
     "execution_count": 201,
     "metadata": {},
     "output_type": "execute_result"
    }
   ],
   "source": [
    " row_group_sales_funnel = (\n",
    "     participants_new_users_events.pivot_table(index='group',columns = 'event_name', values='user_id',aggfunc='nunique')\n",
    "     .reset_index()\n",
    " )\n",
    "row_group_sales_funnel"
   ]
  },
  {
   "cell_type": "code",
   "execution_count": 202,
   "id": "c762beb7",
   "metadata": {
    "scrolled": true
   },
   "outputs": [
    {
     "data": {
      "text/html": [
       "<div>\n",
       "<style scoped>\n",
       "    .dataframe tbody tr th:only-of-type {\n",
       "        vertical-align: middle;\n",
       "    }\n",
       "\n",
       "    .dataframe tbody tr th {\n",
       "        vertical-align: top;\n",
       "    }\n",
       "\n",
       "    .dataframe thead th {\n",
       "        text-align: right;\n",
       "    }\n",
       "</style>\n",
       "<table border=\"1\" class=\"dataframe\">\n",
       "  <thead>\n",
       "    <tr style=\"text-align: right;\">\n",
       "      <th></th>\n",
       "      <th>group</th>\n",
       "      <th>user_id</th>\n",
       "      <th>login</th>\n",
       "      <th>product_page</th>\n",
       "      <th>product_cart</th>\n",
       "      <th>purchase</th>\n",
       "    </tr>\n",
       "  </thead>\n",
       "  <tbody>\n",
       "    <tr>\n",
       "      <th>0</th>\n",
       "      <td>A</td>\n",
       "      <td>2604</td>\n",
       "      <td>2604</td>\n",
       "      <td>1685</td>\n",
       "      <td>782</td>\n",
       "      <td>833</td>\n",
       "    </tr>\n",
       "    <tr>\n",
       "      <th>1</th>\n",
       "      <td>B</td>\n",
       "      <td>877</td>\n",
       "      <td>876</td>\n",
       "      <td>493</td>\n",
       "      <td>244</td>\n",
       "      <td>249</td>\n",
       "    </tr>\n",
       "  </tbody>\n",
       "</table>\n",
       "</div>"
      ],
      "text/plain": [
       "  group  user_id  login  product_page  product_cart  purchase\n",
       "0     A     2604   2604          1685           782       833\n",
       "1     B      877    876           493           244       249"
      ]
     },
     "execution_count": 202,
     "metadata": {},
     "output_type": "execute_result"
    }
   ],
   "source": [
    "group_sales_funnel = row_group_sales_funnel.merge(unique_users_cnt,left_on='group', right_on='group')\n",
    "group_sales_funnel =  group_sales_funnel[['group','user_id','login','product_page','product_cart','purchase']]\n",
    "group_sales_funnel"
   ]
  },
  {
   "cell_type": "code",
   "execution_count": 203,
   "id": "d552b7b2",
   "metadata": {
    "scrolled": false
   },
   "outputs": [
    {
     "data": {
      "text/html": [
       "<div>\n",
       "<style scoped>\n",
       "    .dataframe tbody tr th:only-of-type {\n",
       "        vertical-align: middle;\n",
       "    }\n",
       "\n",
       "    .dataframe tbody tr th {\n",
       "        vertical-align: top;\n",
       "    }\n",
       "\n",
       "    .dataframe thead th {\n",
       "        text-align: right;\n",
       "    }\n",
       "</style>\n",
       "<table border=\"1\" class=\"dataframe\">\n",
       "  <thead>\n",
       "    <tr style=\"text-align: right;\">\n",
       "      <th></th>\n",
       "      <th>group</th>\n",
       "      <th>user_id</th>\n",
       "      <th>login</th>\n",
       "      <th>product_page</th>\n",
       "      <th>product_cart</th>\n",
       "      <th>purchase</th>\n",
       "      <th>login_share</th>\n",
       "      <th>pp_share</th>\n",
       "      <th>cart_share</th>\n",
       "      <th>purchase_share</th>\n",
       "    </tr>\n",
       "  </thead>\n",
       "  <tbody>\n",
       "    <tr>\n",
       "      <th>0</th>\n",
       "      <td>A</td>\n",
       "      <td>2604</td>\n",
       "      <td>2604</td>\n",
       "      <td>1685</td>\n",
       "      <td>782</td>\n",
       "      <td>833</td>\n",
       "      <td>100.0</td>\n",
       "      <td>64.7</td>\n",
       "      <td>30.0</td>\n",
       "      <td>32.0</td>\n",
       "    </tr>\n",
       "    <tr>\n",
       "      <th>1</th>\n",
       "      <td>B</td>\n",
       "      <td>877</td>\n",
       "      <td>876</td>\n",
       "      <td>493</td>\n",
       "      <td>244</td>\n",
       "      <td>249</td>\n",
       "      <td>99.9</td>\n",
       "      <td>56.2</td>\n",
       "      <td>27.8</td>\n",
       "      <td>28.4</td>\n",
       "    </tr>\n",
       "  </tbody>\n",
       "</table>\n",
       "</div>"
      ],
      "text/plain": [
       "  group  user_id  login  product_page  product_cart  purchase  login_share  \\\n",
       "0     A     2604   2604          1685           782       833        100.0   \n",
       "1     B      877    876           493           244       249         99.9   \n",
       "\n",
       "   pp_share  cart_share  purchase_share  \n",
       "0      64.7        30.0            32.0  \n",
       "1      56.2        27.8            28.4  "
      ]
     },
     "execution_count": 203,
     "metadata": {},
     "output_type": "execute_result"
    }
   ],
   "source": [
    "group_sales_funnel['login_share'] = round(group_sales_funnel['login'] / group_sales_funnel['user_id'] * 100, 1)\n",
    "group_sales_funnel['pp_share'] = round(group_sales_funnel['product_page'] / group_sales_funnel['user_id'] * 100, 1)\n",
    "group_sales_funnel['cart_share'] = round(group_sales_funnel['product_cart'] / group_sales_funnel['user_id'] * 100, 1)\n",
    "group_sales_funnel['purchase_share'] = round(group_sales_funnel['purchase'] / group_sales_funnel['user_id'] * 100, 1)\n",
    "group_sales_funnel"
   ]
  },
  {
   "cell_type": "markdown",
   "id": "87fee8fe",
   "metadata": {},
   "source": [
    "- На каждои этапе воронки конверсия снижается примерно в 2 раза к прошлому этапу.\n",
    "- При этом показатели в группе B более чем в 2 раза хуже чем в группе А\n",
    "- Больше всего пользователей теряется на этапе регистрация - логин\n",
    "    - в группе А этот показатель ~ 30%\n",
    "    - в группе В ~ 70 "
   ]
  },
  {
   "cell_type": "code",
   "execution_count": 204,
   "id": "545ddc80",
   "metadata": {
    "scrolled": true
   },
   "outputs": [
    {
     "data": {
      "text/html": [
       "<div>\n",
       "<style scoped>\n",
       "    .dataframe tbody tr th:only-of-type {\n",
       "        vertical-align: middle;\n",
       "    }\n",
       "\n",
       "    .dataframe tbody tr th {\n",
       "        vertical-align: top;\n",
       "    }\n",
       "\n",
       "    .dataframe thead th {\n",
       "        text-align: right;\n",
       "    }\n",
       "</style>\n",
       "<table border=\"1\" class=\"dataframe\">\n",
       "  <thead>\n",
       "    <tr style=\"text-align: right;\">\n",
       "      <th>event_name</th>\n",
       "      <th>group</th>\n",
       "      <th>login</th>\n",
       "      <th>product_page</th>\n",
       "      <th>product_cart</th>\n",
       "      <th>purchase</th>\n",
       "    </tr>\n",
       "  </thead>\n",
       "  <tbody>\n",
       "    <tr>\n",
       "      <th>0</th>\n",
       "      <td>A</td>\n",
       "      <td>2604</td>\n",
       "      <td>1685</td>\n",
       "      <td>782</td>\n",
       "      <td>833</td>\n",
       "    </tr>\n",
       "    <tr>\n",
       "      <th>1</th>\n",
       "      <td>B</td>\n",
       "      <td>876</td>\n",
       "      <td>493</td>\n",
       "      <td>244</td>\n",
       "      <td>249</td>\n",
       "    </tr>\n",
       "  </tbody>\n",
       "</table>\n",
       "</div>"
      ],
      "text/plain": [
       "event_name group  login  product_page  product_cart  purchase\n",
       "0              A   2604          1685           782       833\n",
       "1              B    876           493           244       249"
      ]
     },
     "execution_count": 204,
     "metadata": {},
     "output_type": "execute_result"
    }
   ],
   "source": [
    "login_group_sales_funnel = row_group_sales_funnel[['group','login','product_page','product_cart','purchase']]\n",
    "login_group_sales_funnel"
   ]
  },
  {
   "cell_type": "code",
   "execution_count": 205,
   "id": "a4b32441",
   "metadata": {},
   "outputs": [
    {
     "data": {
      "text/html": [
       "<div>\n",
       "<style scoped>\n",
       "    .dataframe tbody tr th:only-of-type {\n",
       "        vertical-align: middle;\n",
       "    }\n",
       "\n",
       "    .dataframe tbody tr th {\n",
       "        vertical-align: top;\n",
       "    }\n",
       "\n",
       "    .dataframe thead th {\n",
       "        text-align: right;\n",
       "    }\n",
       "</style>\n",
       "<table border=\"1\" class=\"dataframe\">\n",
       "  <thead>\n",
       "    <tr style=\"text-align: right;\">\n",
       "      <th>event_name</th>\n",
       "      <th>group</th>\n",
       "      <th>login</th>\n",
       "      <th>product_page</th>\n",
       "      <th>product_cart</th>\n",
       "      <th>purchase</th>\n",
       "      <th>pp_share</th>\n",
       "      <th>cart_share</th>\n",
       "      <th>purchase_share</th>\n",
       "    </tr>\n",
       "  </thead>\n",
       "  <tbody>\n",
       "    <tr>\n",
       "      <th>0</th>\n",
       "      <td>A</td>\n",
       "      <td>2604</td>\n",
       "      <td>1685</td>\n",
       "      <td>782</td>\n",
       "      <td>833</td>\n",
       "      <td>64.7</td>\n",
       "      <td>30.0</td>\n",
       "      <td>32.0</td>\n",
       "    </tr>\n",
       "    <tr>\n",
       "      <th>1</th>\n",
       "      <td>B</td>\n",
       "      <td>876</td>\n",
       "      <td>493</td>\n",
       "      <td>244</td>\n",
       "      <td>249</td>\n",
       "      <td>56.3</td>\n",
       "      <td>27.9</td>\n",
       "      <td>28.4</td>\n",
       "    </tr>\n",
       "  </tbody>\n",
       "</table>\n",
       "</div>"
      ],
      "text/plain": [
       "event_name group  login  product_page  product_cart  purchase  pp_share  \\\n",
       "0              A   2604          1685           782       833      64.7   \n",
       "1              B    876           493           244       249      56.3   \n",
       "\n",
       "event_name  cart_share  purchase_share  \n",
       "0                 30.0            32.0  \n",
       "1                 27.9            28.4  "
      ]
     },
     "execution_count": 205,
     "metadata": {},
     "output_type": "execute_result"
    }
   ],
   "source": [
    "login_group_sales_funnel['pp_share'] = round(login_group_sales_funnel['product_page'] / login_group_sales_funnel['login'] * 100, 1)\n",
    "login_group_sales_funnel['cart_share'] = round(login_group_sales_funnel['product_cart'] / login_group_sales_funnel['login'] * 100, 1)\n",
    "login_group_sales_funnel['purchase_share'] = round(login_group_sales_funnel['purchase'] / login_group_sales_funnel['login'] * 100, 1)\n",
    "login_group_sales_funnel"
   ]
  },
  {
   "cell_type": "code",
   "execution_count": 206,
   "id": "d5494835",
   "metadata": {},
   "outputs": [],
   "source": [
    "df_a = login_group_sales_funnel.drop(index=1,columns=['group','pp_share','cart_share','purchase_share']).transpose().reset_index()\n",
    "df_a['group'] = 'А'\n",
    "df_a.columns = ['event_name','cnt','group']\n",
    "\n",
    "df_b = login_group_sales_funnel.drop(index=0,columns=['group','pp_share','cart_share','purchase_share']).transpose().reset_index()\n",
    "df_b['group'] = 'B'\n",
    "df_b.columns = ['event_name','cnt','group']\n",
    "\n",
    "df_ab = pd.concat([df_a, df_b], axis=0)"
   ]
  },
  {
   "cell_type": "code",
   "execution_count": 207,
   "id": "2bb8ffa8",
   "metadata": {},
   "outputs": [
    {
     "data": {
      "application/vnd.plotly.v1+json": {
       "config": {
        "plotlyServerURL": "https://plot.ly"
       },
       "data": [
        {
         "hovertemplate": "group=А<br>cnt=%{x}<br>event_name=%{y}<extra></extra>",
         "legendgroup": "А",
         "marker": {
          "color": "#636efa"
         },
         "name": "А",
         "orientation": "h",
         "showlegend": true,
         "type": "funnel",
         "x": [
          2604,
          1685,
          782,
          833
         ],
         "xaxis": "x",
         "y": [
          "login",
          "product_page",
          "product_cart",
          "purchase"
         ],
         "yaxis": "y"
        },
        {
         "hovertemplate": "group=B<br>cnt=%{x}<br>event_name=%{y}<extra></extra>",
         "legendgroup": "B",
         "marker": {
          "color": "#EF553B"
         },
         "name": "B",
         "orientation": "h",
         "showlegend": true,
         "type": "funnel",
         "x": [
          876,
          493,
          244,
          249
         ],
         "xaxis": "x",
         "y": [
          "login",
          "product_page",
          "product_cart",
          "purchase"
         ],
         "yaxis": "y"
        }
       ],
       "layout": {
        "legend": {
         "title": {
          "text": "group"
         },
         "tracegroupgap": 0
        },
        "margin": {
         "t": 60
        },
        "template": {
         "data": {
          "bar": [
           {
            "error_x": {
             "color": "#2a3f5f"
            },
            "error_y": {
             "color": "#2a3f5f"
            },
            "marker": {
             "line": {
              "color": "#E5ECF6",
              "width": 0.5
             },
             "pattern": {
              "fillmode": "overlay",
              "size": 10,
              "solidity": 0.2
             }
            },
            "type": "bar"
           }
          ],
          "barpolar": [
           {
            "marker": {
             "line": {
              "color": "#E5ECF6",
              "width": 0.5
             },
             "pattern": {
              "fillmode": "overlay",
              "size": 10,
              "solidity": 0.2
             }
            },
            "type": "barpolar"
           }
          ],
          "carpet": [
           {
            "aaxis": {
             "endlinecolor": "#2a3f5f",
             "gridcolor": "white",
             "linecolor": "white",
             "minorgridcolor": "white",
             "startlinecolor": "#2a3f5f"
            },
            "baxis": {
             "endlinecolor": "#2a3f5f",
             "gridcolor": "white",
             "linecolor": "white",
             "minorgridcolor": "white",
             "startlinecolor": "#2a3f5f"
            },
            "type": "carpet"
           }
          ],
          "choropleth": [
           {
            "colorbar": {
             "outlinewidth": 0,
             "ticks": ""
            },
            "type": "choropleth"
           }
          ],
          "contour": [
           {
            "colorbar": {
             "outlinewidth": 0,
             "ticks": ""
            },
            "colorscale": [
             [
              0,
              "#0d0887"
             ],
             [
              0.1111111111111111,
              "#46039f"
             ],
             [
              0.2222222222222222,
              "#7201a8"
             ],
             [
              0.3333333333333333,
              "#9c179e"
             ],
             [
              0.4444444444444444,
              "#bd3786"
             ],
             [
              0.5555555555555556,
              "#d8576b"
             ],
             [
              0.6666666666666666,
              "#ed7953"
             ],
             [
              0.7777777777777778,
              "#fb9f3a"
             ],
             [
              0.8888888888888888,
              "#fdca26"
             ],
             [
              1,
              "#f0f921"
             ]
            ],
            "type": "contour"
           }
          ],
          "contourcarpet": [
           {
            "colorbar": {
             "outlinewidth": 0,
             "ticks": ""
            },
            "type": "contourcarpet"
           }
          ],
          "heatmap": [
           {
            "colorbar": {
             "outlinewidth": 0,
             "ticks": ""
            },
            "colorscale": [
             [
              0,
              "#0d0887"
             ],
             [
              0.1111111111111111,
              "#46039f"
             ],
             [
              0.2222222222222222,
              "#7201a8"
             ],
             [
              0.3333333333333333,
              "#9c179e"
             ],
             [
              0.4444444444444444,
              "#bd3786"
             ],
             [
              0.5555555555555556,
              "#d8576b"
             ],
             [
              0.6666666666666666,
              "#ed7953"
             ],
             [
              0.7777777777777778,
              "#fb9f3a"
             ],
             [
              0.8888888888888888,
              "#fdca26"
             ],
             [
              1,
              "#f0f921"
             ]
            ],
            "type": "heatmap"
           }
          ],
          "heatmapgl": [
           {
            "colorbar": {
             "outlinewidth": 0,
             "ticks": ""
            },
            "colorscale": [
             [
              0,
              "#0d0887"
             ],
             [
              0.1111111111111111,
              "#46039f"
             ],
             [
              0.2222222222222222,
              "#7201a8"
             ],
             [
              0.3333333333333333,
              "#9c179e"
             ],
             [
              0.4444444444444444,
              "#bd3786"
             ],
             [
              0.5555555555555556,
              "#d8576b"
             ],
             [
              0.6666666666666666,
              "#ed7953"
             ],
             [
              0.7777777777777778,
              "#fb9f3a"
             ],
             [
              0.8888888888888888,
              "#fdca26"
             ],
             [
              1,
              "#f0f921"
             ]
            ],
            "type": "heatmapgl"
           }
          ],
          "histogram": [
           {
            "marker": {
             "pattern": {
              "fillmode": "overlay",
              "size": 10,
              "solidity": 0.2
             }
            },
            "type": "histogram"
           }
          ],
          "histogram2d": [
           {
            "colorbar": {
             "outlinewidth": 0,
             "ticks": ""
            },
            "colorscale": [
             [
              0,
              "#0d0887"
             ],
             [
              0.1111111111111111,
              "#46039f"
             ],
             [
              0.2222222222222222,
              "#7201a8"
             ],
             [
              0.3333333333333333,
              "#9c179e"
             ],
             [
              0.4444444444444444,
              "#bd3786"
             ],
             [
              0.5555555555555556,
              "#d8576b"
             ],
             [
              0.6666666666666666,
              "#ed7953"
             ],
             [
              0.7777777777777778,
              "#fb9f3a"
             ],
             [
              0.8888888888888888,
              "#fdca26"
             ],
             [
              1,
              "#f0f921"
             ]
            ],
            "type": "histogram2d"
           }
          ],
          "histogram2dcontour": [
           {
            "colorbar": {
             "outlinewidth": 0,
             "ticks": ""
            },
            "colorscale": [
             [
              0,
              "#0d0887"
             ],
             [
              0.1111111111111111,
              "#46039f"
             ],
             [
              0.2222222222222222,
              "#7201a8"
             ],
             [
              0.3333333333333333,
              "#9c179e"
             ],
             [
              0.4444444444444444,
              "#bd3786"
             ],
             [
              0.5555555555555556,
              "#d8576b"
             ],
             [
              0.6666666666666666,
              "#ed7953"
             ],
             [
              0.7777777777777778,
              "#fb9f3a"
             ],
             [
              0.8888888888888888,
              "#fdca26"
             ],
             [
              1,
              "#f0f921"
             ]
            ],
            "type": "histogram2dcontour"
           }
          ],
          "mesh3d": [
           {
            "colorbar": {
             "outlinewidth": 0,
             "ticks": ""
            },
            "type": "mesh3d"
           }
          ],
          "parcoords": [
           {
            "line": {
             "colorbar": {
              "outlinewidth": 0,
              "ticks": ""
             }
            },
            "type": "parcoords"
           }
          ],
          "pie": [
           {
            "automargin": true,
            "type": "pie"
           }
          ],
          "scatter": [
           {
            "fillpattern": {
             "fillmode": "overlay",
             "size": 10,
             "solidity": 0.2
            },
            "type": "scatter"
           }
          ],
          "scatter3d": [
           {
            "line": {
             "colorbar": {
              "outlinewidth": 0,
              "ticks": ""
             }
            },
            "marker": {
             "colorbar": {
              "outlinewidth": 0,
              "ticks": ""
             }
            },
            "type": "scatter3d"
           }
          ],
          "scattercarpet": [
           {
            "marker": {
             "colorbar": {
              "outlinewidth": 0,
              "ticks": ""
             }
            },
            "type": "scattercarpet"
           }
          ],
          "scattergeo": [
           {
            "marker": {
             "colorbar": {
              "outlinewidth": 0,
              "ticks": ""
             }
            },
            "type": "scattergeo"
           }
          ],
          "scattergl": [
           {
            "marker": {
             "colorbar": {
              "outlinewidth": 0,
              "ticks": ""
             }
            },
            "type": "scattergl"
           }
          ],
          "scattermapbox": [
           {
            "marker": {
             "colorbar": {
              "outlinewidth": 0,
              "ticks": ""
             }
            },
            "type": "scattermapbox"
           }
          ],
          "scatterpolar": [
           {
            "marker": {
             "colorbar": {
              "outlinewidth": 0,
              "ticks": ""
             }
            },
            "type": "scatterpolar"
           }
          ],
          "scatterpolargl": [
           {
            "marker": {
             "colorbar": {
              "outlinewidth": 0,
              "ticks": ""
             }
            },
            "type": "scatterpolargl"
           }
          ],
          "scatterternary": [
           {
            "marker": {
             "colorbar": {
              "outlinewidth": 0,
              "ticks": ""
             }
            },
            "type": "scatterternary"
           }
          ],
          "surface": [
           {
            "colorbar": {
             "outlinewidth": 0,
             "ticks": ""
            },
            "colorscale": [
             [
              0,
              "#0d0887"
             ],
             [
              0.1111111111111111,
              "#46039f"
             ],
             [
              0.2222222222222222,
              "#7201a8"
             ],
             [
              0.3333333333333333,
              "#9c179e"
             ],
             [
              0.4444444444444444,
              "#bd3786"
             ],
             [
              0.5555555555555556,
              "#d8576b"
             ],
             [
              0.6666666666666666,
              "#ed7953"
             ],
             [
              0.7777777777777778,
              "#fb9f3a"
             ],
             [
              0.8888888888888888,
              "#fdca26"
             ],
             [
              1,
              "#f0f921"
             ]
            ],
            "type": "surface"
           }
          ],
          "table": [
           {
            "cells": {
             "fill": {
              "color": "#EBF0F8"
             },
             "line": {
              "color": "white"
             }
            },
            "header": {
             "fill": {
              "color": "#C8D4E3"
             },
             "line": {
              "color": "white"
             }
            },
            "type": "table"
           }
          ]
         },
         "layout": {
          "annotationdefaults": {
           "arrowcolor": "#2a3f5f",
           "arrowhead": 0,
           "arrowwidth": 1
          },
          "autotypenumbers": "strict",
          "coloraxis": {
           "colorbar": {
            "outlinewidth": 0,
            "ticks": ""
           }
          },
          "colorscale": {
           "diverging": [
            [
             0,
             "#8e0152"
            ],
            [
             0.1,
             "#c51b7d"
            ],
            [
             0.2,
             "#de77ae"
            ],
            [
             0.3,
             "#f1b6da"
            ],
            [
             0.4,
             "#fde0ef"
            ],
            [
             0.5,
             "#f7f7f7"
            ],
            [
             0.6,
             "#e6f5d0"
            ],
            [
             0.7,
             "#b8e186"
            ],
            [
             0.8,
             "#7fbc41"
            ],
            [
             0.9,
             "#4d9221"
            ],
            [
             1,
             "#276419"
            ]
           ],
           "sequential": [
            [
             0,
             "#0d0887"
            ],
            [
             0.1111111111111111,
             "#46039f"
            ],
            [
             0.2222222222222222,
             "#7201a8"
            ],
            [
             0.3333333333333333,
             "#9c179e"
            ],
            [
             0.4444444444444444,
             "#bd3786"
            ],
            [
             0.5555555555555556,
             "#d8576b"
            ],
            [
             0.6666666666666666,
             "#ed7953"
            ],
            [
             0.7777777777777778,
             "#fb9f3a"
            ],
            [
             0.8888888888888888,
             "#fdca26"
            ],
            [
             1,
             "#f0f921"
            ]
           ],
           "sequentialminus": [
            [
             0,
             "#0d0887"
            ],
            [
             0.1111111111111111,
             "#46039f"
            ],
            [
             0.2222222222222222,
             "#7201a8"
            ],
            [
             0.3333333333333333,
             "#9c179e"
            ],
            [
             0.4444444444444444,
             "#bd3786"
            ],
            [
             0.5555555555555556,
             "#d8576b"
            ],
            [
             0.6666666666666666,
             "#ed7953"
            ],
            [
             0.7777777777777778,
             "#fb9f3a"
            ],
            [
             0.8888888888888888,
             "#fdca26"
            ],
            [
             1,
             "#f0f921"
            ]
           ]
          },
          "colorway": [
           "#636efa",
           "#EF553B",
           "#00cc96",
           "#ab63fa",
           "#FFA15A",
           "#19d3f3",
           "#FF6692",
           "#B6E880",
           "#FF97FF",
           "#FECB52"
          ],
          "font": {
           "color": "#2a3f5f"
          },
          "geo": {
           "bgcolor": "white",
           "lakecolor": "white",
           "landcolor": "#E5ECF6",
           "showlakes": true,
           "showland": true,
           "subunitcolor": "white"
          },
          "hoverlabel": {
           "align": "left"
          },
          "hovermode": "closest",
          "mapbox": {
           "style": "light"
          },
          "paper_bgcolor": "white",
          "plot_bgcolor": "#E5ECF6",
          "polar": {
           "angularaxis": {
            "gridcolor": "white",
            "linecolor": "white",
            "ticks": ""
           },
           "bgcolor": "#E5ECF6",
           "radialaxis": {
            "gridcolor": "white",
            "linecolor": "white",
            "ticks": ""
           }
          },
          "scene": {
           "xaxis": {
            "backgroundcolor": "#E5ECF6",
            "gridcolor": "white",
            "gridwidth": 2,
            "linecolor": "white",
            "showbackground": true,
            "ticks": "",
            "zerolinecolor": "white"
           },
           "yaxis": {
            "backgroundcolor": "#E5ECF6",
            "gridcolor": "white",
            "gridwidth": 2,
            "linecolor": "white",
            "showbackground": true,
            "ticks": "",
            "zerolinecolor": "white"
           },
           "zaxis": {
            "backgroundcolor": "#E5ECF6",
            "gridcolor": "white",
            "gridwidth": 2,
            "linecolor": "white",
            "showbackground": true,
            "ticks": "",
            "zerolinecolor": "white"
           }
          },
          "shapedefaults": {
           "line": {
            "color": "#2a3f5f"
           }
          },
          "ternary": {
           "aaxis": {
            "gridcolor": "white",
            "linecolor": "white",
            "ticks": ""
           },
           "baxis": {
            "gridcolor": "white",
            "linecolor": "white",
            "ticks": ""
           },
           "bgcolor": "#E5ECF6",
           "caxis": {
            "gridcolor": "white",
            "linecolor": "white",
            "ticks": ""
           }
          },
          "title": {
           "x": 0.05
          },
          "xaxis": {
           "automargin": true,
           "gridcolor": "white",
           "linecolor": "white",
           "ticks": "",
           "title": {
            "standoff": 15
           },
           "zerolinecolor": "white",
           "zerolinewidth": 2
          },
          "yaxis": {
           "automargin": true,
           "gridcolor": "white",
           "linecolor": "white",
           "ticks": "",
           "title": {
            "standoff": 15
           },
           "zerolinecolor": "white",
           "zerolinewidth": 2
          }
         }
        },
        "title": {
         "text": "Доля пользователей совершивших событие:",
         "x": 0.5
        },
        "xaxis": {
         "anchor": "y",
         "domain": [
          0,
          1
         ],
         "title": {
          "text": "cnt"
         }
        },
        "yaxis": {
         "anchor": "x",
         "domain": [
          0,
          1
         ],
         "title": {
          "text": "event_name"
         }
        }
       }
      },
      "text/html": [
       "<div>                            <div id=\"23b803cc-27c2-4e94-a3dd-b54c4ba2df0c\" class=\"plotly-graph-div\" style=\"height:525px; width:100%;\"></div>            <script type=\"text/javascript\">                require([\"plotly\"], function(Plotly) {                    window.PLOTLYENV=window.PLOTLYENV || {};                                    if (document.getElementById(\"23b803cc-27c2-4e94-a3dd-b54c4ba2df0c\")) {                    Plotly.newPlot(                        \"23b803cc-27c2-4e94-a3dd-b54c4ba2df0c\",                        [{\"hovertemplate\":\"group=\\u0410<br>cnt=%{x}<br>event_name=%{y}<extra></extra>\",\"legendgroup\":\"\\u0410\",\"marker\":{\"color\":\"#636efa\"},\"name\":\"\\u0410\",\"orientation\":\"h\",\"showlegend\":true,\"x\":[2604,1685,782,833],\"xaxis\":\"x\",\"y\":[\"login\",\"product_page\",\"product_cart\",\"purchase\"],\"yaxis\":\"y\",\"type\":\"funnel\"},{\"hovertemplate\":\"group=B<br>cnt=%{x}<br>event_name=%{y}<extra></extra>\",\"legendgroup\":\"B\",\"marker\":{\"color\":\"#EF553B\"},\"name\":\"B\",\"orientation\":\"h\",\"showlegend\":true,\"x\":[876,493,244,249],\"xaxis\":\"x\",\"y\":[\"login\",\"product_page\",\"product_cart\",\"purchase\"],\"yaxis\":\"y\",\"type\":\"funnel\"}],                        {\"template\":{\"data\":{\"histogram2dcontour\":[{\"type\":\"histogram2dcontour\",\"colorbar\":{\"outlinewidth\":0,\"ticks\":\"\"},\"colorscale\":[[0.0,\"#0d0887\"],[0.1111111111111111,\"#46039f\"],[0.2222222222222222,\"#7201a8\"],[0.3333333333333333,\"#9c179e\"],[0.4444444444444444,\"#bd3786\"],[0.5555555555555556,\"#d8576b\"],[0.6666666666666666,\"#ed7953\"],[0.7777777777777778,\"#fb9f3a\"],[0.8888888888888888,\"#fdca26\"],[1.0,\"#f0f921\"]]}],\"choropleth\":[{\"type\":\"choropleth\",\"colorbar\":{\"outlinewidth\":0,\"ticks\":\"\"}}],\"histogram2d\":[{\"type\":\"histogram2d\",\"colorbar\":{\"outlinewidth\":0,\"ticks\":\"\"},\"colorscale\":[[0.0,\"#0d0887\"],[0.1111111111111111,\"#46039f\"],[0.2222222222222222,\"#7201a8\"],[0.3333333333333333,\"#9c179e\"],[0.4444444444444444,\"#bd3786\"],[0.5555555555555556,\"#d8576b\"],[0.6666666666666666,\"#ed7953\"],[0.7777777777777778,\"#fb9f3a\"],[0.8888888888888888,\"#fdca26\"],[1.0,\"#f0f921\"]]}],\"heatmap\":[{\"type\":\"heatmap\",\"colorbar\":{\"outlinewidth\":0,\"ticks\":\"\"},\"colorscale\":[[0.0,\"#0d0887\"],[0.1111111111111111,\"#46039f\"],[0.2222222222222222,\"#7201a8\"],[0.3333333333333333,\"#9c179e\"],[0.4444444444444444,\"#bd3786\"],[0.5555555555555556,\"#d8576b\"],[0.6666666666666666,\"#ed7953\"],[0.7777777777777778,\"#fb9f3a\"],[0.8888888888888888,\"#fdca26\"],[1.0,\"#f0f921\"]]}],\"heatmapgl\":[{\"type\":\"heatmapgl\",\"colorbar\":{\"outlinewidth\":0,\"ticks\":\"\"},\"colorscale\":[[0.0,\"#0d0887\"],[0.1111111111111111,\"#46039f\"],[0.2222222222222222,\"#7201a8\"],[0.3333333333333333,\"#9c179e\"],[0.4444444444444444,\"#bd3786\"],[0.5555555555555556,\"#d8576b\"],[0.6666666666666666,\"#ed7953\"],[0.7777777777777778,\"#fb9f3a\"],[0.8888888888888888,\"#fdca26\"],[1.0,\"#f0f921\"]]}],\"contourcarpet\":[{\"type\":\"contourcarpet\",\"colorbar\":{\"outlinewidth\":0,\"ticks\":\"\"}}],\"contour\":[{\"type\":\"contour\",\"colorbar\":{\"outlinewidth\":0,\"ticks\":\"\"},\"colorscale\":[[0.0,\"#0d0887\"],[0.1111111111111111,\"#46039f\"],[0.2222222222222222,\"#7201a8\"],[0.3333333333333333,\"#9c179e\"],[0.4444444444444444,\"#bd3786\"],[0.5555555555555556,\"#d8576b\"],[0.6666666666666666,\"#ed7953\"],[0.7777777777777778,\"#fb9f3a\"],[0.8888888888888888,\"#fdca26\"],[1.0,\"#f0f921\"]]}],\"surface\":[{\"type\":\"surface\",\"colorbar\":{\"outlinewidth\":0,\"ticks\":\"\"},\"colorscale\":[[0.0,\"#0d0887\"],[0.1111111111111111,\"#46039f\"],[0.2222222222222222,\"#7201a8\"],[0.3333333333333333,\"#9c179e\"],[0.4444444444444444,\"#bd3786\"],[0.5555555555555556,\"#d8576b\"],[0.6666666666666666,\"#ed7953\"],[0.7777777777777778,\"#fb9f3a\"],[0.8888888888888888,\"#fdca26\"],[1.0,\"#f0f921\"]]}],\"mesh3d\":[{\"type\":\"mesh3d\",\"colorbar\":{\"outlinewidth\":0,\"ticks\":\"\"}}],\"scatter\":[{\"fillpattern\":{\"fillmode\":\"overlay\",\"size\":10,\"solidity\":0.2},\"type\":\"scatter\"}],\"parcoords\":[{\"type\":\"parcoords\",\"line\":{\"colorbar\":{\"outlinewidth\":0,\"ticks\":\"\"}}}],\"scatterpolargl\":[{\"type\":\"scatterpolargl\",\"marker\":{\"colorbar\":{\"outlinewidth\":0,\"ticks\":\"\"}}}],\"bar\":[{\"error_x\":{\"color\":\"#2a3f5f\"},\"error_y\":{\"color\":\"#2a3f5f\"},\"marker\":{\"line\":{\"color\":\"#E5ECF6\",\"width\":0.5},\"pattern\":{\"fillmode\":\"overlay\",\"size\":10,\"solidity\":0.2}},\"type\":\"bar\"}],\"scattergeo\":[{\"type\":\"scattergeo\",\"marker\":{\"colorbar\":{\"outlinewidth\":0,\"ticks\":\"\"}}}],\"scatterpolar\":[{\"type\":\"scatterpolar\",\"marker\":{\"colorbar\":{\"outlinewidth\":0,\"ticks\":\"\"}}}],\"histogram\":[{\"marker\":{\"pattern\":{\"fillmode\":\"overlay\",\"size\":10,\"solidity\":0.2}},\"type\":\"histogram\"}],\"scattergl\":[{\"type\":\"scattergl\",\"marker\":{\"colorbar\":{\"outlinewidth\":0,\"ticks\":\"\"}}}],\"scatter3d\":[{\"type\":\"scatter3d\",\"line\":{\"colorbar\":{\"outlinewidth\":0,\"ticks\":\"\"}},\"marker\":{\"colorbar\":{\"outlinewidth\":0,\"ticks\":\"\"}}}],\"scattermapbox\":[{\"type\":\"scattermapbox\",\"marker\":{\"colorbar\":{\"outlinewidth\":0,\"ticks\":\"\"}}}],\"scatterternary\":[{\"type\":\"scatterternary\",\"marker\":{\"colorbar\":{\"outlinewidth\":0,\"ticks\":\"\"}}}],\"scattercarpet\":[{\"type\":\"scattercarpet\",\"marker\":{\"colorbar\":{\"outlinewidth\":0,\"ticks\":\"\"}}}],\"carpet\":[{\"aaxis\":{\"endlinecolor\":\"#2a3f5f\",\"gridcolor\":\"white\",\"linecolor\":\"white\",\"minorgridcolor\":\"white\",\"startlinecolor\":\"#2a3f5f\"},\"baxis\":{\"endlinecolor\":\"#2a3f5f\",\"gridcolor\":\"white\",\"linecolor\":\"white\",\"minorgridcolor\":\"white\",\"startlinecolor\":\"#2a3f5f\"},\"type\":\"carpet\"}],\"table\":[{\"cells\":{\"fill\":{\"color\":\"#EBF0F8\"},\"line\":{\"color\":\"white\"}},\"header\":{\"fill\":{\"color\":\"#C8D4E3\"},\"line\":{\"color\":\"white\"}},\"type\":\"table\"}],\"barpolar\":[{\"marker\":{\"line\":{\"color\":\"#E5ECF6\",\"width\":0.5},\"pattern\":{\"fillmode\":\"overlay\",\"size\":10,\"solidity\":0.2}},\"type\":\"barpolar\"}],\"pie\":[{\"automargin\":true,\"type\":\"pie\"}]},\"layout\":{\"autotypenumbers\":\"strict\",\"colorway\":[\"#636efa\",\"#EF553B\",\"#00cc96\",\"#ab63fa\",\"#FFA15A\",\"#19d3f3\",\"#FF6692\",\"#B6E880\",\"#FF97FF\",\"#FECB52\"],\"font\":{\"color\":\"#2a3f5f\"},\"hovermode\":\"closest\",\"hoverlabel\":{\"align\":\"left\"},\"paper_bgcolor\":\"white\",\"plot_bgcolor\":\"#E5ECF6\",\"polar\":{\"bgcolor\":\"#E5ECF6\",\"angularaxis\":{\"gridcolor\":\"white\",\"linecolor\":\"white\",\"ticks\":\"\"},\"radialaxis\":{\"gridcolor\":\"white\",\"linecolor\":\"white\",\"ticks\":\"\"}},\"ternary\":{\"bgcolor\":\"#E5ECF6\",\"aaxis\":{\"gridcolor\":\"white\",\"linecolor\":\"white\",\"ticks\":\"\"},\"baxis\":{\"gridcolor\":\"white\",\"linecolor\":\"white\",\"ticks\":\"\"},\"caxis\":{\"gridcolor\":\"white\",\"linecolor\":\"white\",\"ticks\":\"\"}},\"coloraxis\":{\"colorbar\":{\"outlinewidth\":0,\"ticks\":\"\"}},\"colorscale\":{\"sequential\":[[0.0,\"#0d0887\"],[0.1111111111111111,\"#46039f\"],[0.2222222222222222,\"#7201a8\"],[0.3333333333333333,\"#9c179e\"],[0.4444444444444444,\"#bd3786\"],[0.5555555555555556,\"#d8576b\"],[0.6666666666666666,\"#ed7953\"],[0.7777777777777778,\"#fb9f3a\"],[0.8888888888888888,\"#fdca26\"],[1.0,\"#f0f921\"]],\"sequentialminus\":[[0.0,\"#0d0887\"],[0.1111111111111111,\"#46039f\"],[0.2222222222222222,\"#7201a8\"],[0.3333333333333333,\"#9c179e\"],[0.4444444444444444,\"#bd3786\"],[0.5555555555555556,\"#d8576b\"],[0.6666666666666666,\"#ed7953\"],[0.7777777777777778,\"#fb9f3a\"],[0.8888888888888888,\"#fdca26\"],[1.0,\"#f0f921\"]],\"diverging\":[[0,\"#8e0152\"],[0.1,\"#c51b7d\"],[0.2,\"#de77ae\"],[0.3,\"#f1b6da\"],[0.4,\"#fde0ef\"],[0.5,\"#f7f7f7\"],[0.6,\"#e6f5d0\"],[0.7,\"#b8e186\"],[0.8,\"#7fbc41\"],[0.9,\"#4d9221\"],[1,\"#276419\"]]},\"xaxis\":{\"gridcolor\":\"white\",\"linecolor\":\"white\",\"ticks\":\"\",\"title\":{\"standoff\":15},\"zerolinecolor\":\"white\",\"automargin\":true,\"zerolinewidth\":2},\"yaxis\":{\"gridcolor\":\"white\",\"linecolor\":\"white\",\"ticks\":\"\",\"title\":{\"standoff\":15},\"zerolinecolor\":\"white\",\"automargin\":true,\"zerolinewidth\":2},\"scene\":{\"xaxis\":{\"backgroundcolor\":\"#E5ECF6\",\"gridcolor\":\"white\",\"linecolor\":\"white\",\"showbackground\":true,\"ticks\":\"\",\"zerolinecolor\":\"white\",\"gridwidth\":2},\"yaxis\":{\"backgroundcolor\":\"#E5ECF6\",\"gridcolor\":\"white\",\"linecolor\":\"white\",\"showbackground\":true,\"ticks\":\"\",\"zerolinecolor\":\"white\",\"gridwidth\":2},\"zaxis\":{\"backgroundcolor\":\"#E5ECF6\",\"gridcolor\":\"white\",\"linecolor\":\"white\",\"showbackground\":true,\"ticks\":\"\",\"zerolinecolor\":\"white\",\"gridwidth\":2}},\"shapedefaults\":{\"line\":{\"color\":\"#2a3f5f\"}},\"annotationdefaults\":{\"arrowcolor\":\"#2a3f5f\",\"arrowhead\":0,\"arrowwidth\":1},\"geo\":{\"bgcolor\":\"white\",\"landcolor\":\"#E5ECF6\",\"subunitcolor\":\"white\",\"showland\":true,\"showlakes\":true,\"lakecolor\":\"white\"},\"title\":{\"x\":0.05},\"mapbox\":{\"style\":\"light\"}}},\"xaxis\":{\"anchor\":\"y\",\"domain\":[0.0,1.0],\"title\":{\"text\":\"cnt\"}},\"yaxis\":{\"anchor\":\"x\",\"domain\":[0.0,1.0],\"title\":{\"text\":\"event_name\"}},\"legend\":{\"title\":{\"text\":\"group\"},\"tracegroupgap\":0},\"margin\":{\"t\":60},\"title\":{\"text\":\"\\u0414\\u043e\\u043b\\u044f \\u043f\\u043e\\u043b\\u044c\\u0437\\u043e\\u0432\\u0430\\u0442\\u0435\\u043b\\u0435\\u0439 \\u0441\\u043e\\u0432\\u0435\\u0440\\u0448\\u0438\\u0432\\u0448\\u0438\\u0445 \\u0441\\u043e\\u0431\\u044b\\u0442\\u0438\\u0435:\",\"x\":0.5}},                        {\"responsive\": true}                    ).then(function(){\n",
       "                            \n",
       "var gd = document.getElementById('23b803cc-27c2-4e94-a3dd-b54c4ba2df0c');\n",
       "var x = new MutationObserver(function (mutations, observer) {{\n",
       "        var display = window.getComputedStyle(gd).display;\n",
       "        if (!display || display === 'none') {{\n",
       "            console.log([gd, 'removed!']);\n",
       "            Plotly.purge(gd);\n",
       "            observer.disconnect();\n",
       "        }}\n",
       "}});\n",
       "\n",
       "// Listen for the removal of the full notebook cells\n",
       "var notebookContainer = gd.closest('#notebook-container');\n",
       "if (notebookContainer) {{\n",
       "    x.observe(notebookContainer, {childList: true});\n",
       "}}\n",
       "\n",
       "// Listen for the clearing of the current output cell\n",
       "var outputEl = gd.closest('.output');\n",
       "if (outputEl) {{\n",
       "    x.observe(outputEl, {childList: true});\n",
       "}}\n",
       "\n",
       "                        })                };                });            </script>        </div>"
      ]
     },
     "metadata": {},
     "output_type": "display_data"
    }
   ],
   "source": [
    "fig = px.funnel(df_ab, x='cnt', y='event_name', color='group')\n",
    "fig.update_layout(title_text='Доля пользователей совершивших событие:', title_x=0.5)\n",
    "fig.show()"
   ]
  },
  {
   "cell_type": "markdown",
   "id": "7165beb2",
   "metadata": {},
   "source": [
    "### Вывод:\n",
    "- Если смотреть показатели конверсии с этапа login, поскольку в ТЗ нас интересует конверсия начиная с этапа просмотра карточек, то:\n",
    "    1. С этапа логин, до просмотра карточки теряется ~ 40% польз-лей\n",
    "    2. С этапа просмотра карточки до просмотра в корзину теряется ~ 50% польз-лей\n",
    "    3. С этапа простомтра корзины до этапа покупки доля пользователей немного растет!!!\n",
    "    \n",
    "    \n",
    "- Получается что этап просмотра корзины снижает конверсию. Пользователи могут купить и не просматривая её"
   ]
  },
  {
   "cell_type": "markdown",
   "id": "30c1c272",
   "metadata": {},
   "source": [
    "## 4. Проведем оценку результатов A/B-тестирования:"
   ]
  },
  {
   "cell_type": "markdown",
   "id": "426bd8af",
   "metadata": {},
   "source": [
    "### 4.1 Проверим статистическую разницу долей z-критерием"
   ]
  },
  {
   "cell_type": "code",
   "execution_count": 208,
   "id": "434e4f90",
   "metadata": {},
   "outputs": [],
   "source": [
    "# Напишем функцию для проверки гипотезы о равенстве долей:\n",
    "def hypotesis(df,index1, index2, column1,column_unique_cnt, alpha = 0.05):\n",
    "    \"\"\" \n",
    "    df - (DataFrame) - название датафрейма из которого берем данные \n",
    "    index1 (int) - индекс, указывающий 1ую группу теста\n",
    "    index2 (int) - индекс, указывающий 2ую группу теста\n",
    "    column1 (series,int) - название столбца для расчета пропорций в наблюдаемых выборках\n",
    "    column_unique_cnt (series,int) - название столбца с общим размером выборки\n",
    "    alpha (float) - критический уровень статистической значимости \n",
    "    \n",
    "    \"\"\"\n",
    "    p1 = df.iloc[index1][column1] / df.iloc[index1][column_unique_cnt]\n",
    "    p2 = df.iloc[index2][column1] / df.iloc[index2][column_unique_cnt]\n",
    "    \n",
    "    p_combined = (\n",
    "        (df.iloc[index1][column1] + df.iloc[index2][column1]) /\n",
    "        (df.iloc[index1][column_unique_cnt] + df.iloc[index2][column_unique_cnt])\n",
    "    )\n",
    "    \n",
    "    difference = p1 - p2\n",
    "    \n",
    "    z_value = (\n",
    "        difference / mth.sqrt(p_combined * (1 - p_combined) * \n",
    "                              (1/df.iloc[index1][column_unique_cnt] +\n",
    "                               1/df.iloc[index2][column_unique_cnt]))\n",
    "    )\n",
    "    \n",
    "    distr = st.norm(0,1)\n",
    "    \n",
    "    p_value = (1 - distr.cdf(abs(z_value))) * 2\n",
    "    print('p-значение: ', p_value)\n",
    "    \n",
    "    if p_value < alpha: \n",
    "        print('Отвергаем нулевую гипотезу: между долями есть значимая разница')\n",
    "    else:\n",
    "        print('Не получилось отвергнуть нулевую гипотезу, нет оснований считать доли разными') "
   ]
  },
  {
   "cell_type": "code",
   "execution_count": 209,
   "id": "ca12e1a2",
   "metadata": {
    "scrolled": true
   },
   "outputs": [
    {
     "data": {
      "text/html": [
       "<div>\n",
       "<style scoped>\n",
       "    .dataframe tbody tr th:only-of-type {\n",
       "        vertical-align: middle;\n",
       "    }\n",
       "\n",
       "    .dataframe tbody tr th {\n",
       "        vertical-align: top;\n",
       "    }\n",
       "\n",
       "    .dataframe thead th {\n",
       "        text-align: right;\n",
       "    }\n",
       "</style>\n",
       "<table border=\"1\" class=\"dataframe\">\n",
       "  <thead>\n",
       "    <tr style=\"text-align: right;\">\n",
       "      <th>event_name</th>\n",
       "      <th>group</th>\n",
       "      <th>login</th>\n",
       "      <th>product_page</th>\n",
       "      <th>product_cart</th>\n",
       "      <th>purchase</th>\n",
       "      <th>pp_share</th>\n",
       "      <th>cart_share</th>\n",
       "      <th>purchase_share</th>\n",
       "    </tr>\n",
       "  </thead>\n",
       "  <tbody>\n",
       "    <tr>\n",
       "      <th>0</th>\n",
       "      <td>A</td>\n",
       "      <td>2604</td>\n",
       "      <td>1685</td>\n",
       "      <td>782</td>\n",
       "      <td>833</td>\n",
       "      <td>64.7</td>\n",
       "      <td>30.0</td>\n",
       "      <td>32.0</td>\n",
       "    </tr>\n",
       "    <tr>\n",
       "      <th>1</th>\n",
       "      <td>B</td>\n",
       "      <td>876</td>\n",
       "      <td>493</td>\n",
       "      <td>244</td>\n",
       "      <td>249</td>\n",
       "      <td>56.3</td>\n",
       "      <td>27.9</td>\n",
       "      <td>28.4</td>\n",
       "    </tr>\n",
       "  </tbody>\n",
       "</table>\n",
       "</div>"
      ],
      "text/plain": [
       "event_name group  login  product_page  product_cart  purchase  pp_share  \\\n",
       "0              A   2604          1685           782       833      64.7   \n",
       "1              B    876           493           244       249      56.3   \n",
       "\n",
       "event_name  cart_share  purchase_share  \n",
       "0                 30.0            32.0  \n",
       "1                 27.9            28.4  "
      ]
     },
     "execution_count": 209,
     "metadata": {},
     "output_type": "execute_result"
    }
   ],
   "source": [
    "login_group_sales_funnel"
   ]
  },
  {
   "cell_type": "code",
   "execution_count": 210,
   "id": "41f0fec2",
   "metadata": {},
   "outputs": [],
   "source": [
    "alpha = 0.05\n",
    "# ТК проводим 3 теста, необходимо применить поправку Бонферрони:\n",
    "fixed_alpha = alpha/3"
   ]
  },
  {
   "cell_type": "code",
   "execution_count": 211,
   "id": "e087c0c5",
   "metadata": {},
   "outputs": [
    {
     "name": "stdout",
     "output_type": "stream",
     "text": [
      "p-значение:  8.195976000324734e-06\n",
      "Отвергаем нулевую гипотезу: между долями есть значимая разница\n"
     ]
    }
   ],
   "source": [
    "hypotesis(login_group_sales_funnel,0,1,'product_page','login',fixed_alpha)"
   ]
  },
  {
   "cell_type": "code",
   "execution_count": 212,
   "id": "98985b87",
   "metadata": {
    "scrolled": true
   },
   "outputs": [
    {
     "name": "stdout",
     "output_type": "stream",
     "text": [
      "p-значение:  0.2215941567364419\n",
      "Не получилось отвергнуть нулевую гипотезу, нет оснований считать доли разными\n"
     ]
    }
   ],
   "source": [
    "hypotesis(login_group_sales_funnel,0,1,'product_cart','login',fixed_alpha)"
   ]
  },
  {
   "cell_type": "code",
   "execution_count": 213,
   "id": "6eaea118",
   "metadata": {},
   "outputs": [
    {
     "name": "stdout",
     "output_type": "stream",
     "text": [
      "p-значение:  0.04864766695042433\n",
      "Не получилось отвергнуть нулевую гипотезу, нет оснований считать доли разными\n"
     ]
    }
   ],
   "source": [
    "hypotesis(login_group_sales_funnel,0,1,'purchase','login',fixed_alpha)"
   ]
  },
  {
   "cell_type": "markdown",
   "id": "3f80fd6e",
   "metadata": {},
   "source": [
    "<a id=\"conclusion\"></a>\n",
    "## 5. Общий вывод:"
   ]
  },
  {
   "cell_type": "markdown",
   "id": "3d40f9b2",
   "metadata": {},
   "source": [
    "1. Тест проведен не совсем корректно, тк часть критериев ТЗ не выполнена: \n",
    "    - Есть пересечение теста с другой маркетинговой компанией\n",
    "    - Есть пересечение пользователей с другим тестом\n",
    "    - Кол-во пользователей в тесте сильно меньше ожидаемого\n",
    "2. По результатам проведенного теста ожидания об улучшение каждой метрики не менее, чем на 10% НЕ оправдались."
   ]
  },
  {
   "cell_type": "code",
   "execution_count": null,
   "id": "26200637",
   "metadata": {},
   "outputs": [],
   "source": []
  }
 ],
 "metadata": {
  "ExecuteTimeLog": [
   {
    "duration": 1370,
    "start_time": "2023-06-21T12:41:23.510Z"
   },
   {
    "duration": 6,
    "start_time": "2023-06-21T12:41:24.884Z"
   },
   {
    "duration": 2648,
    "start_time": "2023-06-21T12:41:24.892Z"
   },
   {
    "duration": 20,
    "start_time": "2023-06-21T12:41:27.543Z"
   },
   {
    "duration": 24,
    "start_time": "2023-06-21T12:41:27.567Z"
   },
   {
    "duration": 20,
    "start_time": "2023-06-21T12:41:27.593Z"
   },
   {
    "duration": 22,
    "start_time": "2023-06-21T12:41:27.616Z"
   },
   {
    "duration": 26,
    "start_time": "2023-06-21T12:41:27.641Z"
   },
   {
    "duration": 23,
    "start_time": "2023-06-21T12:41:27.669Z"
   },
   {
    "duration": 25,
    "start_time": "2023-06-21T12:41:27.694Z"
   },
   {
    "duration": 45,
    "start_time": "2023-06-21T12:41:27.722Z"
   },
   {
    "duration": 57,
    "start_time": "2023-06-21T12:41:27.772Z"
   },
   {
    "duration": 19,
    "start_time": "2023-06-21T12:41:27.832Z"
   },
   {
    "duration": 12,
    "start_time": "2023-06-21T12:41:27.860Z"
   },
   {
    "duration": 103,
    "start_time": "2023-06-21T12:41:27.873Z"
   },
   {
    "duration": 86,
    "start_time": "2023-06-21T12:41:27.983Z"
   },
   {
    "duration": 457,
    "start_time": "2023-06-21T12:41:28.071Z"
   },
   {
    "duration": 237,
    "start_time": "2023-06-21T12:41:28.530Z"
   },
   {
    "duration": 239,
    "start_time": "2023-06-21T12:41:28.769Z"
   },
   {
    "duration": 23,
    "start_time": "2023-06-21T12:41:29.009Z"
   },
   {
    "duration": 33,
    "start_time": "2023-06-21T12:41:29.034Z"
   },
   {
    "duration": 20,
    "start_time": "2023-06-21T12:41:29.069Z"
   },
   {
    "duration": 19,
    "start_time": "2023-06-21T12:41:29.091Z"
   },
   {
    "duration": 18,
    "start_time": "2023-06-21T12:41:29.112Z"
   },
   {
    "duration": 44,
    "start_time": "2023-06-21T12:41:29.132Z"
   },
   {
    "duration": 23,
    "start_time": "2023-06-21T12:41:29.178Z"
   },
   {
    "duration": 29,
    "start_time": "2023-06-21T12:41:29.204Z"
   },
   {
    "duration": 8,
    "start_time": "2023-06-21T12:41:29.235Z"
   },
   {
    "duration": 88,
    "start_time": "2023-06-21T12:41:29.245Z"
   },
   {
    "duration": 8,
    "start_time": "2023-06-21T12:41:29.335Z"
   },
   {
    "duration": 46,
    "start_time": "2023-06-21T12:41:29.345Z"
   },
   {
    "duration": 326,
    "start_time": "2023-06-21T12:41:29.393Z"
   },
   {
    "duration": 18,
    "start_time": "2023-06-21T12:41:29.721Z"
   },
   {
    "duration": 41,
    "start_time": "2023-06-21T12:41:29.741Z"
   },
   {
    "duration": 22,
    "start_time": "2023-06-21T12:41:29.784Z"
   },
   {
    "duration": 21,
    "start_time": "2023-06-21T12:41:29.809Z"
   },
   {
    "duration": 9,
    "start_time": "2023-06-21T12:41:29.833Z"
   },
   {
    "duration": 36,
    "start_time": "2023-06-21T12:41:29.844Z"
   },
   {
    "duration": 10,
    "start_time": "2023-06-21T12:41:29.883Z"
   },
   {
    "duration": 11,
    "start_time": "2023-06-21T12:41:29.895Z"
   },
   {
    "duration": 9,
    "start_time": "2023-06-21T12:41:29.912Z"
   },
   {
    "duration": 59,
    "start_time": "2023-06-21T12:41:29.924Z"
   },
   {
    "duration": 98,
    "start_time": "2023-06-21T12:41:29.986Z"
   },
   {
    "duration": 14,
    "start_time": "2023-06-21T12:41:30.087Z"
   },
   {
    "duration": 28,
    "start_time": "2023-06-21T12:41:30.104Z"
   },
   {
    "duration": 45,
    "start_time": "2023-06-21T12:41:30.134Z"
   },
   {
    "duration": 24,
    "start_time": "2023-06-21T12:41:30.185Z"
   },
   {
    "duration": 73,
    "start_time": "2023-06-21T12:41:30.211Z"
   },
   {
    "duration": 61,
    "start_time": "2023-06-21T12:41:30.286Z"
   },
   {
    "duration": 79,
    "start_time": "2023-06-21T12:41:30.350Z"
   },
   {
    "duration": 54,
    "start_time": "2023-06-21T12:41:30.431Z"
   },
   {
    "duration": 25,
    "start_time": "2023-06-21T12:41:30.488Z"
   },
   {
    "duration": 35,
    "start_time": "2023-06-21T12:41:30.515Z"
   },
   {
    "duration": 48,
    "start_time": "2023-06-21T12:41:30.552Z"
   },
   {
    "duration": 81,
    "start_time": "2023-06-21T12:41:30.602Z"
   },
   {
    "duration": 266,
    "start_time": "2023-06-21T12:41:30.685Z"
   },
   {
    "duration": 287,
    "start_time": "2023-06-21T12:41:30.953Z"
   },
   {
    "duration": 42,
    "start_time": "2023-06-21T12:41:31.242Z"
   },
   {
    "duration": 59,
    "start_time": "2023-06-21T12:41:31.286Z"
   },
   {
    "duration": 433,
    "start_time": "2023-06-21T12:41:31.347Z"
   },
   {
    "duration": 19,
    "start_time": "2023-06-21T12:41:31.783Z"
   },
   {
    "duration": 104,
    "start_time": "2023-06-21T12:41:31.804Z"
   },
   {
    "duration": 28,
    "start_time": "2023-06-21T12:41:31.910Z"
   },
   {
    "duration": 61,
    "start_time": "2023-06-21T12:41:31.940Z"
   },
   {
    "duration": 12,
    "start_time": "2023-06-21T12:41:32.003Z"
   },
   {
    "duration": 71,
    "start_time": "2023-06-21T12:41:32.017Z"
   },
   {
    "duration": 12,
    "start_time": "2023-06-21T12:41:32.090Z"
   },
   {
    "duration": 23,
    "start_time": "2023-06-21T12:41:32.106Z"
   },
   {
    "duration": 19,
    "start_time": "2023-06-21T12:41:32.131Z"
   },
   {
    "duration": 34,
    "start_time": "2023-06-21T12:41:32.152Z"
   },
   {
    "duration": 20,
    "start_time": "2023-06-21T12:41:32.189Z"
   },
   {
    "duration": 1311,
    "start_time": "2023-06-21T21:28:32.588Z"
   },
   {
    "duration": 2,
    "start_time": "2023-06-21T21:28:33.914Z"
   },
   {
    "duration": 1061,
    "start_time": "2023-06-21T21:28:33.917Z"
   },
   {
    "duration": 11,
    "start_time": "2023-06-21T21:28:34.980Z"
   },
   {
    "duration": 26,
    "start_time": "2023-06-21T21:28:34.993Z"
   },
   {
    "duration": 8,
    "start_time": "2023-06-21T21:28:35.021Z"
   },
   {
    "duration": 6,
    "start_time": "2023-06-21T21:28:35.031Z"
   },
   {
    "duration": 14,
    "start_time": "2023-06-21T21:28:35.038Z"
   },
   {
    "duration": 7,
    "start_time": "2023-06-21T21:28:35.054Z"
   },
   {
    "duration": 16,
    "start_time": "2023-06-21T21:28:35.064Z"
   },
   {
    "duration": 28,
    "start_time": "2023-06-21T21:28:35.081Z"
   },
   {
    "duration": 29,
    "start_time": "2023-06-21T21:28:35.111Z"
   },
   {
    "duration": 10,
    "start_time": "2023-06-21T21:28:35.141Z"
   },
   {
    "duration": 7,
    "start_time": "2023-06-21T21:28:35.152Z"
   },
   {
    "duration": 65,
    "start_time": "2023-06-21T21:28:35.160Z"
   },
   {
    "duration": 44,
    "start_time": "2023-06-21T21:28:35.226Z"
   },
   {
    "duration": 258,
    "start_time": "2023-06-21T21:28:35.271Z"
   },
   {
    "duration": 127,
    "start_time": "2023-06-21T21:28:35.531Z"
   },
   {
    "duration": 109,
    "start_time": "2023-06-21T21:28:35.659Z"
   },
   {
    "duration": 21,
    "start_time": "2023-06-21T21:28:35.770Z"
   },
   {
    "duration": 33,
    "start_time": "2023-06-21T21:28:35.792Z"
   },
   {
    "duration": 22,
    "start_time": "2023-06-21T21:28:35.826Z"
   },
   {
    "duration": 18,
    "start_time": "2023-06-21T21:28:35.850Z"
   },
   {
    "duration": 5,
    "start_time": "2023-06-21T21:28:35.869Z"
   },
   {
    "duration": 40,
    "start_time": "2023-06-21T21:28:35.876Z"
   },
   {
    "duration": 26,
    "start_time": "2023-06-21T21:28:35.918Z"
   },
   {
    "duration": 79,
    "start_time": "2023-06-21T21:28:35.945Z"
   },
   {
    "duration": 6,
    "start_time": "2023-06-21T21:28:36.031Z"
   },
   {
    "duration": 83,
    "start_time": "2023-06-21T21:28:36.038Z"
   },
   {
    "duration": 57,
    "start_time": "2023-06-21T21:28:36.123Z"
   },
   {
    "duration": 7,
    "start_time": "2023-06-21T21:28:36.182Z"
   },
   {
    "duration": 19,
    "start_time": "2023-06-21T21:28:36.191Z"
   },
   {
    "duration": 184,
    "start_time": "2023-06-21T21:28:36.212Z"
   },
   {
    "duration": 16,
    "start_time": "2023-06-21T21:28:36.397Z"
   },
   {
    "duration": 20,
    "start_time": "2023-06-21T21:28:36.414Z"
   },
   {
    "duration": 10,
    "start_time": "2023-06-21T21:28:36.435Z"
   },
   {
    "duration": 12,
    "start_time": "2023-06-21T21:28:36.446Z"
   },
   {
    "duration": 3,
    "start_time": "2023-06-21T21:28:36.459Z"
   },
   {
    "duration": 15,
    "start_time": "2023-06-21T21:28:36.463Z"
   },
   {
    "duration": 29,
    "start_time": "2023-06-21T21:28:36.480Z"
   },
   {
    "duration": 2,
    "start_time": "2023-06-21T21:28:36.510Z"
   },
   {
    "duration": 7,
    "start_time": "2023-06-21T21:28:36.515Z"
   },
   {
    "duration": 15,
    "start_time": "2023-06-21T21:28:36.523Z"
   },
   {
    "duration": 42,
    "start_time": "2023-06-21T21:28:36.539Z"
   },
   {
    "duration": 9,
    "start_time": "2023-06-21T21:28:36.582Z"
   },
   {
    "duration": 24,
    "start_time": "2023-06-21T21:28:36.592Z"
   },
   {
    "duration": 9,
    "start_time": "2023-06-21T21:28:36.618Z"
   },
   {
    "duration": 8,
    "start_time": "2023-06-21T21:28:36.628Z"
   },
   {
    "duration": 28,
    "start_time": "2023-06-21T21:28:36.637Z"
   },
   {
    "duration": 12,
    "start_time": "2023-06-21T21:28:36.666Z"
   },
   {
    "duration": 32,
    "start_time": "2023-06-21T21:28:36.680Z"
   },
   {
    "duration": 10,
    "start_time": "2023-06-21T21:28:36.714Z"
   },
   {
    "duration": 14,
    "start_time": "2023-06-21T21:28:36.726Z"
   },
   {
    "duration": 14,
    "start_time": "2023-06-21T21:28:36.741Z"
   },
   {
    "duration": 171,
    "start_time": "2023-06-21T21:28:36.757Z"
   },
   {
    "duration": 137,
    "start_time": "2023-06-21T21:28:36.929Z"
   },
   {
    "duration": 8,
    "start_time": "2023-06-21T21:28:37.068Z"
   },
   {
    "duration": 35,
    "start_time": "2023-06-21T21:28:37.077Z"
   },
   {
    "duration": 225,
    "start_time": "2023-06-21T21:28:37.114Z"
   },
   {
    "duration": 9,
    "start_time": "2023-06-21T21:28:37.341Z"
   },
   {
    "duration": 23,
    "start_time": "2023-06-21T21:28:37.351Z"
   },
   {
    "duration": 10,
    "start_time": "2023-06-21T21:28:37.375Z"
   },
   {
    "duration": 24,
    "start_time": "2023-06-21T21:28:37.399Z"
   },
   {
    "duration": 7,
    "start_time": "2023-06-21T21:28:37.424Z"
   },
   {
    "duration": 14,
    "start_time": "2023-06-21T21:28:37.432Z"
   },
   {
    "duration": 14,
    "start_time": "2023-06-21T21:28:37.447Z"
   },
   {
    "duration": 420,
    "start_time": "2023-06-21T21:28:37.462Z"
   },
   {
    "duration": 5,
    "start_time": "2023-06-21T21:28:37.883Z"
   },
   {
    "duration": 19,
    "start_time": "2023-06-21T21:28:37.890Z"
   },
   {
    "duration": 9,
    "start_time": "2023-06-21T21:28:37.912Z"
   },
   {
    "duration": 11,
    "start_time": "2023-06-21T21:28:37.922Z"
   },
   {
    "duration": 7,
    "start_time": "2023-06-21T21:28:37.934Z"
   },
   {
    "duration": 7,
    "start_time": "2023-06-21T21:28:37.942Z"
   },
   {
    "duration": 3,
    "start_time": "2023-06-21T21:31:06.556Z"
   },
   {
    "duration": 4,
    "start_time": "2023-06-21T21:31:16.464Z"
   },
   {
    "duration": 22,
    "start_time": "2023-06-21T21:31:16.470Z"
   },
   {
    "duration": 581,
    "start_time": "2023-06-21T21:31:16.494Z"
   },
   {
    "duration": 9,
    "start_time": "2023-06-21T21:31:17.077Z"
   },
   {
    "duration": 27,
    "start_time": "2023-06-21T21:31:17.088Z"
   },
   {
    "duration": 33,
    "start_time": "2023-06-21T21:31:17.117Z"
   },
   {
    "duration": 23,
    "start_time": "2023-06-21T21:31:17.151Z"
   },
   {
    "duration": 18,
    "start_time": "2023-06-21T21:31:17.175Z"
   },
   {
    "duration": 37,
    "start_time": "2023-06-21T21:31:17.194Z"
   },
   {
    "duration": 18,
    "start_time": "2023-06-21T21:31:17.233Z"
   },
   {
    "duration": 11,
    "start_time": "2023-06-21T21:31:17.253Z"
   },
   {
    "duration": 26,
    "start_time": "2023-06-21T21:31:17.266Z"
   },
   {
    "duration": 16,
    "start_time": "2023-06-21T21:31:17.294Z"
   },
   {
    "duration": 10,
    "start_time": "2023-06-21T21:31:17.311Z"
   },
   {
    "duration": 51,
    "start_time": "2023-06-21T21:31:17.323Z"
   },
   {
    "duration": 50,
    "start_time": "2023-06-21T21:31:17.375Z"
   },
   {
    "duration": 203,
    "start_time": "2023-06-21T21:31:17.426Z"
   },
   {
    "duration": 112,
    "start_time": "2023-06-21T21:31:17.631Z"
   },
   {
    "duration": 103,
    "start_time": "2023-06-21T21:31:17.744Z"
   },
   {
    "duration": 6,
    "start_time": "2023-06-21T21:31:17.848Z"
   },
   {
    "duration": 16,
    "start_time": "2023-06-21T21:31:17.856Z"
   },
   {
    "duration": 7,
    "start_time": "2023-06-21T21:31:17.874Z"
   },
   {
    "duration": 21,
    "start_time": "2023-06-21T21:31:17.882Z"
   },
   {
    "duration": 10,
    "start_time": "2023-06-21T21:31:17.904Z"
   },
   {
    "duration": 6,
    "start_time": "2023-06-21T21:31:17.916Z"
   },
   {
    "duration": 18,
    "start_time": "2023-06-21T21:31:17.923Z"
   },
   {
    "duration": 25,
    "start_time": "2023-06-21T21:31:17.942Z"
   },
   {
    "duration": 4,
    "start_time": "2023-06-21T21:31:17.969Z"
   },
   {
    "duration": 3,
    "start_time": "2023-06-21T21:31:17.976Z"
   },
   {
    "duration": 45,
    "start_time": "2023-06-21T21:31:17.981Z"
   },
   {
    "duration": 5,
    "start_time": "2023-06-21T21:31:18.028Z"
   },
   {
    "duration": 5,
    "start_time": "2023-06-21T21:31:18.034Z"
   },
   {
    "duration": 186,
    "start_time": "2023-06-21T21:31:18.040Z"
   },
   {
    "duration": 11,
    "start_time": "2023-06-21T21:31:18.227Z"
   },
   {
    "duration": 10,
    "start_time": "2023-06-21T21:31:18.239Z"
   },
   {
    "duration": 11,
    "start_time": "2023-06-21T21:31:18.250Z"
   },
   {
    "duration": 12,
    "start_time": "2023-06-21T21:31:18.262Z"
   },
   {
    "duration": 2,
    "start_time": "2023-06-21T21:31:18.275Z"
   },
   {
    "duration": 14,
    "start_time": "2023-06-21T21:31:18.313Z"
   },
   {
    "duration": 8,
    "start_time": "2023-06-21T21:31:18.328Z"
   },
   {
    "duration": 8,
    "start_time": "2023-06-21T21:31:18.338Z"
   },
   {
    "duration": 4,
    "start_time": "2023-06-21T21:31:18.348Z"
   },
   {
    "duration": 22,
    "start_time": "2023-06-21T21:31:18.353Z"
   },
   {
    "duration": 46,
    "start_time": "2023-06-21T21:31:18.377Z"
   },
   {
    "duration": 5,
    "start_time": "2023-06-21T21:31:18.425Z"
   },
   {
    "duration": 16,
    "start_time": "2023-06-21T21:31:18.431Z"
   },
   {
    "duration": 7,
    "start_time": "2023-06-21T21:31:18.449Z"
   },
   {
    "duration": 31,
    "start_time": "2023-06-21T21:31:18.457Z"
   },
   {
    "duration": 25,
    "start_time": "2023-06-21T21:31:18.489Z"
   },
   {
    "duration": 22,
    "start_time": "2023-06-21T21:31:18.515Z"
   },
   {
    "duration": 10,
    "start_time": "2023-06-21T21:31:18.538Z"
   },
   {
    "duration": 14,
    "start_time": "2023-06-21T21:31:18.549Z"
   },
   {
    "duration": 14,
    "start_time": "2023-06-21T21:31:18.564Z"
   },
   {
    "duration": 166,
    "start_time": "2023-06-21T21:31:18.580Z"
   },
   {
    "duration": 143,
    "start_time": "2023-06-21T21:31:18.747Z"
   },
   {
    "duration": 25,
    "start_time": "2023-06-21T21:31:18.891Z"
   },
   {
    "duration": 20,
    "start_time": "2023-06-21T21:31:18.918Z"
   },
   {
    "duration": 169,
    "start_time": "2023-06-21T21:31:18.940Z"
   },
   {
    "duration": 11,
    "start_time": "2023-06-21T21:31:19.110Z"
   },
   {
    "duration": 18,
    "start_time": "2023-06-21T21:31:19.122Z"
   },
   {
    "duration": 9,
    "start_time": "2023-06-21T21:31:19.142Z"
   },
   {
    "duration": 12,
    "start_time": "2023-06-21T21:31:19.152Z"
   },
   {
    "duration": 9,
    "start_time": "2023-06-21T21:31:19.165Z"
   },
   {
    "duration": 40,
    "start_time": "2023-06-21T21:31:19.175Z"
   },
   {
    "duration": 9,
    "start_time": "2023-06-21T21:31:19.217Z"
   },
   {
    "duration": 45,
    "start_time": "2023-06-21T21:31:19.227Z"
   },
   {
    "duration": 6,
    "start_time": "2023-06-21T21:31:19.273Z"
   },
   {
    "duration": 28,
    "start_time": "2023-06-21T21:31:19.281Z"
   },
   {
    "duration": 8,
    "start_time": "2023-06-21T21:31:19.310Z"
   },
   {
    "duration": 10,
    "start_time": "2023-06-21T21:31:19.319Z"
   },
   {
    "duration": 9,
    "start_time": "2023-06-21T21:31:19.330Z"
   },
   {
    "duration": 11,
    "start_time": "2023-06-21T21:31:19.340Z"
   },
   {
    "duration": 1209,
    "start_time": "2023-06-22T05:49:12.848Z"
   },
   {
    "duration": 3,
    "start_time": "2023-06-22T05:49:14.059Z"
   },
   {
    "duration": 948,
    "start_time": "2023-06-22T05:49:14.064Z"
   },
   {
    "duration": 15,
    "start_time": "2023-06-22T05:49:15.014Z"
   },
   {
    "duration": 35,
    "start_time": "2023-06-22T05:49:15.032Z"
   },
   {
    "duration": 48,
    "start_time": "2023-06-22T05:49:15.069Z"
   },
   {
    "duration": 48,
    "start_time": "2023-06-22T05:49:15.119Z"
   },
   {
    "duration": 44,
    "start_time": "2023-06-22T05:49:15.168Z"
   },
   {
    "duration": 16,
    "start_time": "2023-06-22T05:49:15.214Z"
   },
   {
    "duration": 47,
    "start_time": "2023-06-22T05:49:15.232Z"
   },
   {
    "duration": 21,
    "start_time": "2023-06-22T05:49:15.281Z"
   },
   {
    "duration": 48,
    "start_time": "2023-06-22T05:49:15.304Z"
   },
   {
    "duration": 29,
    "start_time": "2023-06-22T05:49:15.354Z"
   },
   {
    "duration": 10,
    "start_time": "2023-06-22T05:49:15.387Z"
   },
   {
    "duration": 74,
    "start_time": "2023-06-22T05:49:15.399Z"
   },
   {
    "duration": 53,
    "start_time": "2023-06-22T05:49:15.475Z"
   },
   {
    "duration": 322,
    "start_time": "2023-06-22T05:49:15.530Z"
   },
   {
    "duration": 135,
    "start_time": "2023-06-22T05:49:15.854Z"
   },
   {
    "duration": 135,
    "start_time": "2023-06-22T05:49:15.990Z"
   },
   {
    "duration": 9,
    "start_time": "2023-06-22T05:49:16.126Z"
   },
   {
    "duration": 17,
    "start_time": "2023-06-22T05:49:16.137Z"
   },
   {
    "duration": 21,
    "start_time": "2023-06-22T05:49:16.155Z"
   },
   {
    "duration": 27,
    "start_time": "2023-06-22T05:49:16.178Z"
   },
   {
    "duration": 21,
    "start_time": "2023-06-22T05:49:16.206Z"
   },
   {
    "duration": 25,
    "start_time": "2023-06-22T05:49:16.229Z"
   },
   {
    "duration": 28,
    "start_time": "2023-06-22T05:49:16.256Z"
   },
   {
    "duration": 56,
    "start_time": "2023-06-22T05:49:16.286Z"
   },
   {
    "duration": 7,
    "start_time": "2023-06-22T05:49:16.345Z"
   },
   {
    "duration": 32,
    "start_time": "2023-06-22T05:49:16.354Z"
   },
   {
    "duration": 57,
    "start_time": "2023-06-22T05:49:16.388Z"
   },
   {
    "duration": 8,
    "start_time": "2023-06-22T05:49:16.448Z"
   },
   {
    "duration": 17,
    "start_time": "2023-06-22T05:49:16.458Z"
   },
   {
    "duration": 200,
    "start_time": "2023-06-22T05:49:16.477Z"
   },
   {
    "duration": 12,
    "start_time": "2023-06-22T05:49:16.679Z"
   },
   {
    "duration": 10,
    "start_time": "2023-06-22T05:49:16.693Z"
   },
   {
    "duration": 14,
    "start_time": "2023-06-22T05:49:16.704Z"
   },
   {
    "duration": 33,
    "start_time": "2023-06-22T05:49:16.719Z"
   },
   {
    "duration": 7,
    "start_time": "2023-06-22T05:49:16.754Z"
   },
   {
    "duration": 55,
    "start_time": "2023-06-22T05:49:16.763Z"
   },
   {
    "duration": 9,
    "start_time": "2023-06-22T05:49:16.819Z"
   },
   {
    "duration": 3,
    "start_time": "2023-06-22T05:49:16.832Z"
   },
   {
    "duration": 15,
    "start_time": "2023-06-22T05:49:16.837Z"
   },
   {
    "duration": 21,
    "start_time": "2023-06-22T05:49:16.853Z"
   },
   {
    "duration": 47,
    "start_time": "2023-06-22T05:49:16.876Z"
   },
   {
    "duration": 5,
    "start_time": "2023-06-22T05:49:16.925Z"
   },
   {
    "duration": 21,
    "start_time": "2023-06-22T05:49:16.931Z"
   },
   {
    "duration": 12,
    "start_time": "2023-06-22T05:49:16.954Z"
   },
   {
    "duration": 33,
    "start_time": "2023-06-22T05:49:16.967Z"
   },
   {
    "duration": 14,
    "start_time": "2023-06-22T05:49:17.002Z"
   },
   {
    "duration": 51,
    "start_time": "2023-06-22T05:49:17.017Z"
   },
   {
    "duration": 13,
    "start_time": "2023-06-22T05:49:17.070Z"
   },
   {
    "duration": 16,
    "start_time": "2023-06-22T05:49:17.084Z"
   },
   {
    "duration": 21,
    "start_time": "2023-06-22T05:49:17.102Z"
   },
   {
    "duration": 190,
    "start_time": "2023-06-22T05:49:17.125Z"
   },
   {
    "duration": 153,
    "start_time": "2023-06-22T05:49:17.317Z"
   },
   {
    "duration": 13,
    "start_time": "2023-06-22T05:49:17.472Z"
   },
   {
    "duration": 19,
    "start_time": "2023-06-22T05:49:17.486Z"
   },
   {
    "duration": 254,
    "start_time": "2023-06-22T05:49:17.506Z"
   },
   {
    "duration": 17,
    "start_time": "2023-06-22T05:49:17.761Z"
   },
   {
    "duration": 38,
    "start_time": "2023-06-22T05:49:17.780Z"
   },
   {
    "duration": 12,
    "start_time": "2023-06-22T05:49:17.820Z"
   },
   {
    "duration": 21,
    "start_time": "2023-06-22T05:49:17.833Z"
   },
   {
    "duration": 21,
    "start_time": "2023-06-22T05:49:17.855Z"
   },
   {
    "duration": 33,
    "start_time": "2023-06-22T05:49:17.878Z"
   },
   {
    "duration": 27,
    "start_time": "2023-06-22T05:49:17.913Z"
   },
   {
    "duration": 835,
    "start_time": "2023-06-22T05:49:17.941Z"
   },
   {
    "duration": 5,
    "start_time": "2023-06-22T05:49:18.778Z"
   },
   {
    "duration": 42,
    "start_time": "2023-06-22T05:49:18.785Z"
   },
   {
    "duration": 14,
    "start_time": "2023-06-22T05:49:18.829Z"
   },
   {
    "duration": 6,
    "start_time": "2023-06-22T05:49:18.876Z"
   },
   {
    "duration": 19,
    "start_time": "2023-06-22T05:49:18.883Z"
   },
   {
    "duration": 15,
    "start_time": "2023-06-22T05:49:18.904Z"
   }
  ],
  "kernelspec": {
   "display_name": "Python 3 (ipykernel)",
   "language": "python",
   "name": "python3"
  },
  "language_info": {
   "codemirror_mode": {
    "name": "ipython",
    "version": 3
   },
   "file_extension": ".py",
   "mimetype": "text/x-python",
   "name": "python",
   "nbconvert_exporter": "python",
   "pygments_lexer": "ipython3",
   "version": "3.9.13"
  },
  "toc": {
   "base_numbering": 1,
   "nav_menu": {},
   "number_sections": true,
   "sideBar": true,
   "skip_h1_title": true,
   "title_cell": "Table of Contents",
   "title_sidebar": "Contents",
   "toc_cell": false,
   "toc_position": {},
   "toc_section_display": true,
   "toc_window_display": false
  }
 },
 "nbformat": 4,
 "nbformat_minor": 5
}
